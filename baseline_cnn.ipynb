{
 "cells": [
  {
   "cell_type": "markdown",
   "metadata": {},
   "source": [
    "## Prechecks"
   ]
  },
  {
   "cell_type": "code",
   "execution_count": 1,
   "metadata": {},
   "outputs": [],
   "source": [
    "import torch\n",
    "from helpers.ImageFolderPathsIndices import get_dataloader, get_mean_std"
   ]
  },
  {
   "cell_type": "markdown",
   "metadata": {},
   "source": [
    "### Get the mean and std of training data\n",
    "\n",
    "Credit: [How to Normalize Image Dataset Using Pytorch](https://saturncloud.io/blog/how-to-normalize-image-dataset-using-pytorch/#:~:text=This%20is%20done%20by%20scaling,train%20and%20improve%20its%20accuracy.)"
   ]
  },
  {
   "cell_type": "code",
   "execution_count": 4,
   "metadata": {},
   "outputs": [
    {
     "name": "stdout",
     "output_type": "stream",
     "text": [
      "tensor([0.5744, 0.4826, 0.4668])\n",
      "tensor([0.1406, 0.1537, 0.1575])\n"
     ]
    }
   ],
   "source": [
    "train_loader = get_dataloader('SC-2000v2', 32, 'train', train_aug=False, normalize='none')\n",
    "mean, std = get_mean_std(train_loader)\n",
    "print(mean)\n",
    "print(std)"
   ]
  },
  {
   "cell_type": "markdown",
   "metadata": {},
   "source": [
    "### Test if using MPS backend"
   ]
  },
  {
   "cell_type": "code",
   "execution_count": 22,
   "metadata": {},
   "outputs": [
    {
     "name": "stdout",
     "output_type": "stream",
     "text": [
      "tensor([1.], device='mps:0')\n"
     ]
    }
   ],
   "source": [
    "if __name__ == '__main__':\n",
    "  # Check if MPS backend is available in PyTorch\n",
    "  if torch.backends.mps.is_available():\n",
    "      # Create a vector on the MPS device\n",
    "      x = torch.ones(1, device='mps')\n",
    "      print(x)\n",
    "  else:\n",
    "      print('MPS device not found.')"
   ]
  },
  {
   "cell_type": "markdown",
   "metadata": {},
   "source": [
    "# Model Pipeline"
   ]
  },
  {
   "cell_type": "markdown",
   "metadata": {},
   "source": [
    "**Sources:**\n",
    "- [Training loop](https://machinelearningmastery.com/creating-a-training-loop-for-pytorch-models/)\n",
    "- [Image transforms](https://pytorch.org/vision/stable/transforms.html)\n",
    "- [MPS backend](https://stackoverflow.com/questions/77226100/snn-that-works-on-cpu-throws-mismatched-tensor-types-in-nnpack-convolutionoutpu)\n",
    "- [W&B Tutorial](https://colab.research.google.com/github/wandb/examples/blob/master/colabs/pytorch/Simple_PyTorch_Integration.ipynb#scrollTo=rmPkh7VRXdrr)"
   ]
  },
  {
   "cell_type": "markdown",
   "metadata": {},
   "source": [
    "### Import libraries"
   ]
  },
  {
   "cell_type": "code",
   "execution_count": 1,
   "metadata": {},
   "outputs": [],
   "source": [
    "import torch\n",
    "import random\n",
    "import wandb\n",
    "import os.path\n",
    "import numpy as np\n",
    "import torch.nn as nn\n",
    "import torch.optim as optim\n",
    "import matplotlib.pyplot as plt\n",
    "import helpers.fc_models as fc_models\n",
    "import helpers.conv_models as conv_models\n",
    "from helpers.ImageFolderPathsIndices import get_dataloader\n",
    "from sklearn.metrics import accuracy_score, recall_score, precision_score, confusion_matrix, ConfusionMatrixDisplay\n",
    "from tqdm.auto import tqdm\n",
    "\n",
    "# Fix seed for reproducible results\n",
    "np.random.seed(2)\n",
    "torch.manual_seed(2)\n",
    "torch.backends.cudnn.deterministic = True\n",
    "torch.cuda.manual_seed_all(2)\n",
    "random.seed(2)"
   ]
  },
  {
   "cell_type": "markdown",
   "metadata": {},
   "source": [
    "### Define the model pipeline with WandB"
   ]
  },
  {
   "cell_type": "code",
   "execution_count": 2,
   "metadata": {},
   "outputs": [],
   "source": [
    "def model_pipeline(project, hyperparameters):\n",
    "    with wandb.init(project=project, config=hyperparameters):\n",
    "        config = wandb.config\n",
    "\n",
    "        model, train_loader, valid_loader, test_loader, criterion, optimizer = make(config)\n",
    "        print(config.fc_model, config.conv_model)\n",
    "        print(model)\n",
    "        \n",
    "        # and use them to train the model\n",
    "        train(model, train_loader, valid_loader, criterion, optimizer, config)\n",
    "\n",
    "        # and test its final performance\n",
    "        return test(model, test_loader, config)"
   ]
  },
  {
   "cell_type": "markdown",
   "metadata": {},
   "source": [
    "### Handles initializing model for experiment"
   ]
  },
  {
   "cell_type": "code",
   "execution_count": 3,
   "metadata": {},
   "outputs": [],
   "source": [
    "def make(config):\n",
    "    # Create dataset loaders\n",
    "    # NOTE: returns a tuple with form (index, image, label, file_path)\n",
    "    train_loader = get_dataloader(config.dataset, config.batch_size, 'train', config.train_aug, config.normalize)\n",
    "    valid_loader = get_dataloader(config.dataset, config.batch_size, 'valid', config.train_aug, config.normalize)\n",
    "    test_loader = get_dataloader(config.dataset, config.batch_size, 'test', config.train_aug, config.normalize)\n",
    "\n",
    "    if config.conv_model == 'conv3':\n",
    "        conv_model = conv_models.Conv3(config.c1_out, config.c2_out, config.c3_out)\n",
    "        conv_out = config.c3_out\n",
    "    elif config.conv_model == 'conv4':\n",
    "        conv_model = conv_models.Conv4(config.c1_out, config.c2_out, config.c3_out, config.c4_out)\n",
    "        conv_out = config.c4_out\n",
    "    else:\n",
    "    # Otherwise, skip\n",
    "        raise ValueError(f'`conv_model` field of config should be one of {conv_models.CONV_NAMES}')\n",
    "\n",
    "    \n",
    "    # Set fc model\n",
    "    if config.fc_model == 'lin1':\n",
    "        fc_model = fc_models.Lin1(conv_out, config.output)\n",
    "    elif config.fc_model == 'lin2':\n",
    "        fc_model = fc_models.Lin2(conv_out, config.fc2_in, config.output, config.dropout_rate)\n",
    "    elif config.fc_model == 'lin3':\n",
    "        fc_model = fc_models.Lin3(conv_out, config.fc2_in, config.fc3_in, config.output, config.dropout_rate)\n",
    "    else:\n",
    "        raise ValueError(f'`fc_model` field of config should be one of {fc_models.FC_NAMES}')\n",
    "    \n",
    "    # Chain conv model and fc model\n",
    "    model = nn.Sequential(conv_model, fc_model)\n",
    "    # Send model to device\n",
    "    model.to(config.device)\n",
    "\n",
    "    criterion = nn.CrossEntropyLoss()\n",
    "    \n",
    "    optimizer = optim.Adam(model.parameters(), lr=config.learning_rate)\n",
    "    \n",
    "    return model, train_loader, valid_loader, test_loader, criterion, optimizer"
   ]
  },
  {
   "cell_type": "markdown",
   "metadata": {},
   "source": [
    "## Training loop"
   ]
  },
  {
   "cell_type": "code",
   "execution_count": 4,
   "metadata": {},
   "outputs": [],
   "source": [
    "def train(model, train_loader, valid_loader, criterion, optimizer, config):\n",
    "    # Tell wandb to watch the model gradients and weights\n",
    "    wandb.watch(model, criterion, log=\"all\", log_freq=10)\n",
    "\n",
    "    for epoch in tqdm(range(config.epochs)):\n",
    "        model.train()\n",
    "        train_loss = 0.0\n",
    "        train_correct = 0\n",
    "        for _, images, labels, _ in train_loader:\n",
    "            # Send data to the same device as the model\n",
    "            images, labels = images.to(config.device), labels.to(config.device)\n",
    "            # Calculate loss and number of correct predictions\n",
    "            loss, correct = train_batch(images, labels, model, optimizer, criterion)\n",
    "            # Update counts\n",
    "            train_loss += loss\n",
    "            train_correct += correct\n",
    "        # Log training loss and accuracy\n",
    "        train_log(train_loss, train_correct / len(train_loader.dataset), epoch)\n",
    "\n",
    "        model.eval()\n",
    "        val_loss = 0.0\n",
    "        val_correct = 0\n",
    "        for _, images, labels, _ in valid_loader:\n",
    "            images, labels = images.to(config.device), labels.to(config.device)\n",
    "            loss, correct = val_batch(images, labels, model, criterion)\n",
    "            val_loss += loss\n",
    "            val_correct += correct\n",
    "        val_log(val_loss, val_correct / len(valid_loader.dataset), epoch)\n",
    "    \n",
    "    if config.save_as == 'pth':\n",
    "        torch.save(model.state_dict(), os.path.join('weights', f\"{config.conv_model}_{config.fc_model}.pth\"))\n"
   ]
  },
  {
   "cell_type": "code",
   "execution_count": 5,
   "metadata": {},
   "outputs": [],
   "source": [
    "def train_batch(images, labels, model, optimizer, criterion):\n",
    "    outputs = model(images)\n",
    "    loss = criterion(outputs, labels)\n",
    "    optimizer.zero_grad()\n",
    "    loss.backward()\n",
    "    optimizer.step()\n",
    "\n",
    "    # Calculate number of correct predictions for batch\n",
    "    _,predicted = torch.max(outputs.data, 1)\n",
    "\n",
    "    correct_train = (predicted == labels).sum().item()\n",
    "    # Return loss and number of correct predictions\n",
    "    return loss.item(), correct_train\n",
    "\n",
    "def val_batch(images, labels, model, criterion):\n",
    "    outputs = model(images)\n",
    "    # Calculate number of correct predictions for batch\n",
    "    _,predicted = torch.max(outputs.data, 1)\n",
    "\n",
    "    loss = criterion(outputs, labels)\n",
    "    correct_val = (predicted == labels).sum().item()\n",
    "    return loss, correct_val\n",
    "\n",
    "def train_log(loss, acc, epoch):\n",
    "    # Log loss and accuracy to wandb\n",
    "    wandb.log({\"train/loss\": loss, \"train/accuracy\": acc}, step=epoch)\n",
    "    print(f\"Training Epoch {epoch}: Loss = {loss}, Accuracy = {acc:%}\")\n",
    "\n",
    "def val_log(loss, acc, epoch):\n",
    "    # Log loss and accuracy to wandb\n",
    "    wandb.log({\"validation/loss\": loss, \"validation/accuracy\": acc}, step=epoch)\n",
    "    print(f\"Validation Epoch {epoch}: Loss = {loss}, Accuracy = {acc:%}\")"
   ]
  },
  {
   "cell_type": "markdown",
   "metadata": {},
   "source": [
    "## Testing"
   ]
  },
  {
   "cell_type": "code",
   "execution_count": 6,
   "metadata": {},
   "outputs": [],
   "source": [
    "def test(model, test_loader, config):\n",
    "    if config.save_as == 'pth':\n",
    "        model.load_state_dict(torch.load(os.path.join('weights', f\"{config.conv_model}_{config.fc_model}.pth\")))\n",
    "    model.to(\"cpu\")\n",
    "    model.eval()\n",
    "    \n",
    "    true_labels = torch.zeros(len(test_loader.dataset)).long()\n",
    "    pred_labels = torch.zeros(len(test_loader.dataset)).long()\n",
    "    ptr = 0\n",
    "    \n",
    "    with torch.no_grad():\n",
    "        for batch, (indices, images, labels, paths) in enumerate(test_loader):\n",
    "            outputs = model(images)\n",
    "            _, predicted = torch.max(outputs.data, 1)\n",
    "            print(f\"Batch {batch}: Accuracy = {accuracy_score(labels, predicted):%}, \" +\n",
    "                  f\"Recall = {recall_score(labels, predicted, zero_division=0):%}, Precision = {precision_score(labels, predicted):%}\")\n",
    "            \n",
    "            # Record labels and predictions\n",
    "            inds = ptr + torch.arange(labels.shape[0])\n",
    "            true_labels.index_copy_(0, inds, labels)\n",
    "            pred_labels.index_copy_(0, inds, predicted)\n",
    "            ptr += labels.shape[0]\n",
    "\n",
    "        # Log avg test accuracy\n",
    "        wandb.log({\"test/accuracy\": accuracy_score(true_labels, pred_labels)})\n",
    "        # return confusion matrix for run\n",
    "        cm = confusion_matrix(true_labels, pred_labels)\n",
    "        return cm"
   ]
  },
  {
   "cell_type": "markdown",
   "metadata": {},
   "source": [
    "## Average Metrics from Multiple Trainings"
   ]
  },
  {
   "cell_type": "code",
   "execution_count": 7,
   "metadata": {},
   "outputs": [],
   "source": [
    "def ensemble(project, config_dict, itr):\n",
    "    cm = np.zeros((2,2))\n",
    "    for i in range(itr):\n",
    "        cm += model_pipeline(project, config_dict)\n",
    "    cm /= itr\n",
    "    return cm"
   ]
  },
  {
   "cell_type": "markdown",
   "metadata": {},
   "source": [
    "# 4 Convolution + 2 Fully Connected Layers"
   ]
  },
  {
   "cell_type": "markdown",
   "metadata": {},
   "source": [
    "### Hyperparameter configuration"
   ]
  },
  {
   "cell_type": "code",
   "execution_count": 8,
   "metadata": {},
   "outputs": [],
   "source": [
    "config_dict = dict(\n",
    "    learning_rate = 0.001,\n",
    "    epochs = 20,\n",
    "    batch_size = 32,\n",
    "    conv_model = \"conv4\",\n",
    "    fc_model = \"lin2\",\n",
    "    normalize = \"SC-2000v2\",\n",
    "    c1_out = 64,\n",
    "    c2_out = 128,\n",
    "    c3_out = 256,\n",
    "    c4_out = 512,\n",
    "    fc2_in = 100,\n",
    "    output = 2,\n",
    "    dropout_rate = 0.5,\n",
    "    dataset = \"SC-2000v2\",\n",
    "    train_aug = True,\n",
    "    device = \"mps\",\n",
    "    save_as = 'pth'\n",
    ")"
   ]
  },
  {
   "cell_type": "markdown",
   "metadata": {},
   "source": [
    "### Average Confusion Matrix Stats from 5 Trainings"
   ]
  },
  {
   "cell_type": "code",
   "execution_count": 9,
   "metadata": {},
   "outputs": [
    {
     "name": "stderr",
     "output_type": "stream",
     "text": [
      "Failed to detect the name of this notebook, you can set it manually with the WANDB_NOTEBOOK_NAME environment variable to enable code saving.\n",
      "\u001b[34m\u001b[1mwandb\u001b[0m: Currently logged in as: \u001b[33mlivsworld\u001b[0m (\u001b[33mshenderm\u001b[0m). Use \u001b[1m`wandb login --relogin`\u001b[0m to force relogin\n"
     ]
    },
    {
     "data": {
      "text/html": [
       "Tracking run with wandb version 0.17.0"
      ],
      "text/plain": [
       "<IPython.core.display.HTML object>"
      ]
     },
     "metadata": {},
     "output_type": "display_data"
    },
    {
     "data": {
      "text/html": [
       "Run data is saved locally in <code>/Users/shenderm/Desktop/dermlens_code/wandb/run-20240605_145131-xr4fev2w</code>"
      ],
      "text/plain": [
       "<IPython.core.display.HTML object>"
      ]
     },
     "metadata": {},
     "output_type": "display_data"
    },
    {
     "data": {
      "text/html": [
       "Syncing run <strong><a href='https://wandb.ai/shenderm/conv4-sc2000/runs/xr4fev2w' target=\"_blank\">copper-waterfall-33</a></strong> to <a href='https://wandb.ai/shenderm/conv4-sc2000' target=\"_blank\">Weights & Biases</a> (<a href='https://wandb.me/run' target=\"_blank\">docs</a>)<br/>"
      ],
      "text/plain": [
       "<IPython.core.display.HTML object>"
      ]
     },
     "metadata": {},
     "output_type": "display_data"
    },
    {
     "data": {
      "text/html": [
       " View project at <a href='https://wandb.ai/shenderm/conv4-sc2000' target=\"_blank\">https://wandb.ai/shenderm/conv4-sc2000</a>"
      ],
      "text/plain": [
       "<IPython.core.display.HTML object>"
      ]
     },
     "metadata": {},
     "output_type": "display_data"
    },
    {
     "data": {
      "text/html": [
       " View run at <a href='https://wandb.ai/shenderm/conv4-sc2000/runs/xr4fev2w' target=\"_blank\">https://wandb.ai/shenderm/conv4-sc2000/runs/xr4fev2w</a>"
      ],
      "text/plain": [
       "<IPython.core.display.HTML object>"
      ]
     },
     "metadata": {},
     "output_type": "display_data"
    },
    {
     "name": "stdout",
     "output_type": "stream",
     "text": [
      "lin2 conv4\n",
      "Sequential(\n",
      "  (0): Conv4(\n",
      "    (layer1): Sequential(\n",
      "      (0): Conv2d(3, 64, kernel_size=(3, 3), stride=(1, 1), padding=(1, 1))\n",
      "      (1): ReLU()\n",
      "      (2): BatchNorm2d(64, eps=1e-05, momentum=0.1, affine=True, track_running_stats=True)\n",
      "      (3): AvgPool2d(kernel_size=2, stride=2, padding=0)\n",
      "    )\n",
      "    (layer2): Sequential(\n",
      "      (0): Conv2d(64, 128, kernel_size=(3, 3), stride=(1, 1), padding=(1, 1))\n",
      "      (1): ReLU()\n",
      "      (2): BatchNorm2d(128, eps=1e-05, momentum=0.1, affine=True, track_running_stats=True)\n",
      "      (3): AvgPool2d(kernel_size=2, stride=2, padding=0)\n",
      "    )\n",
      "    (layer3): Sequential(\n",
      "      (0): Conv2d(128, 256, kernel_size=(3, 3), stride=(1, 1), padding=(1, 1))\n",
      "      (1): BatchNorm2d(256, eps=1e-05, momentum=0.1, affine=True, track_running_stats=True)\n",
      "      (2): ReLU()\n",
      "      (3): AvgPool2d(kernel_size=2, stride=2, padding=0)\n",
      "    )\n",
      "    (layer4): Sequential(\n",
      "      (0): Conv2d(256, 512, kernel_size=(3, 3), stride=(1, 1), padding=(1, 1))\n",
      "      (1): BatchNorm2d(512, eps=1e-05, momentum=0.1, affine=True, track_running_stats=True)\n",
      "      (2): ReLU()\n",
      "    )\n",
      "  )\n",
      "  (1): Lin2(\n",
      "    (fc1): Linear(in_features=512, out_features=100, bias=True)\n",
      "    (act1): ReLU()\n",
      "    (dropout1): Dropout(p=0.5, inplace=False)\n",
      "    (fc2): Linear(in_features=100, out_features=2, bias=True)\n",
      "  )\n",
      ")\n"
     ]
    },
    {
     "data": {
      "application/vnd.jupyter.widget-view+json": {
       "model_id": "a1621c7d220d4390861f041c1878ec24",
       "version_major": 2,
       "version_minor": 0
      },
      "text/plain": [
       "  0%|          | 0/20 [00:00<?, ?it/s]"
      ]
     },
     "metadata": {},
     "output_type": "display_data"
    },
    {
     "name": "stdout",
     "output_type": "stream",
     "text": [
      "Training Epoch 0: Loss = 35.9472222328186, Accuracy = 56.964520%\n",
      "Validation Epoch 0: Loss = 8.330469131469727, Accuracy = 65.977011%\n",
      "Training Epoch 1: Loss = 30.434276312589645, Accuracy = 64.454665%\n",
      "Validation Epoch 1: Loss = 8.4525146484375, Accuracy = 65.977011%\n",
      "Training Epoch 2: Loss = 30.09969973564148, Accuracy = 67.017083%\n",
      "Validation Epoch 2: Loss = 8.816344261169434, Accuracy = 59.770115%\n",
      "Training Epoch 3: Loss = 30.2788143157959, Accuracy = 65.374507%\n",
      "Validation Epoch 3: Loss = 8.519530296325684, Accuracy = 65.747126%\n",
      "Training Epoch 4: Loss = 30.15706992149353, Accuracy = 65.571616%\n",
      "Validation Epoch 4: Loss = 8.385772705078125, Accuracy = 71.264368%\n",
      "Training Epoch 5: Loss = 30.04674905538559, Accuracy = 66.754271%\n",
      "Validation Epoch 5: Loss = 7.885969161987305, Accuracy = 71.954023%\n",
      "Training Epoch 6: Loss = 29.627570033073425, Accuracy = 67.017083%\n",
      "Validation Epoch 6: Loss = 7.222415924072266, Accuracy = 78.850575%\n",
      "Training Epoch 7: Loss = 28.732837170362473, Accuracy = 70.039422%\n",
      "Validation Epoch 7: Loss = 6.9838948249816895, Accuracy = 78.620690%\n",
      "Training Epoch 8: Loss = 27.232000648975372, Accuracy = 71.419185%\n",
      "Validation Epoch 8: Loss = 6.452614784240723, Accuracy = 78.850575%\n",
      "Training Epoch 9: Loss = 26.925345599651337, Accuracy = 71.681997%\n",
      "Validation Epoch 9: Loss = 6.806468486785889, Accuracy = 79.080460%\n",
      "Training Epoch 10: Loss = 27.123643279075623, Accuracy = 71.747700%\n",
      "Validation Epoch 10: Loss = 6.034111976623535, Accuracy = 80.000000%\n",
      "Training Epoch 11: Loss = 27.742179304361343, Accuracy = 69.448095%\n",
      "Validation Epoch 11: Loss = 6.51188325881958, Accuracy = 80.919540%\n",
      "Training Epoch 12: Loss = 26.332313060760498, Accuracy = 72.010512%\n",
      "Validation Epoch 12: Loss = 6.356240272521973, Accuracy = 76.781609%\n",
      "Training Epoch 13: Loss = 26.234598606824875, Accuracy = 71.681997%\n",
      "Validation Epoch 13: Loss = 6.806109428405762, Accuracy = 71.724138%\n",
      "Training Epoch 14: Loss = 26.208161801099777, Accuracy = 71.813403%\n",
      "Validation Epoch 14: Loss = 6.200072288513184, Accuracy = 82.298851%\n",
      "Training Epoch 15: Loss = 25.508275985717773, Accuracy = 73.324573%\n",
      "Validation Epoch 15: Loss = 6.242886543273926, Accuracy = 77.471264%\n",
      "Training Epoch 16: Loss = 25.458276569843292, Accuracy = 72.996058%\n",
      "Validation Epoch 16: Loss = 6.74459981918335, Accuracy = 74.712644%\n",
      "Training Epoch 17: Loss = 25.636927396059036, Accuracy = 72.667543%\n",
      "Validation Epoch 17: Loss = 5.530181407928467, Accuracy = 82.988506%\n",
      "Training Epoch 18: Loss = 25.010217487812042, Accuracy = 74.967148%\n",
      "Validation Epoch 18: Loss = 6.028249263763428, Accuracy = 80.689655%\n",
      "Training Epoch 19: Loss = 24.789692252874374, Accuracy = 74.375821%\n",
      "Validation Epoch 19: Loss = 5.533395767211914, Accuracy = 80.229885%\n"
     ]
    },
    {
     "name": "stderr",
     "output_type": "stream",
     "text": [
      "/opt/anaconda3/envs/dermlens/lib/python3.12/site-packages/sklearn/metrics/_classification.py:1509: UndefinedMetricWarning: Precision is ill-defined and being set to 0.0 due to no predicted samples. Use `zero_division` parameter to control this behavior.\n",
      "  _warn_prf(average, modifier, f\"{metric.capitalize()} is\", len(result))\n"
     ]
    },
    {
     "name": "stdout",
     "output_type": "stream",
     "text": [
      "Batch 0: Accuracy = 100.000000%, Recall = 0.000000%, Precision = 0.000000%\n",
      "Batch 1: Accuracy = 90.625000%, Recall = 0.000000%, Precision = 0.000000%\n",
      "Batch 2: Accuracy = 90.625000%, Recall = 0.000000%, Precision = 0.000000%\n",
      "Batch 3: Accuracy = 71.875000%, Recall = 60.000000%, Precision = 92.307692%\n",
      "Batch 4: Accuracy = 65.625000%, Recall = 65.625000%, Precision = 100.000000%\n",
      "Batch 5: Accuracy = 87.500000%, Recall = 87.500000%, Precision = 100.000000%\n",
      "Batch 6: Accuracy = 61.904762%, Recall = 61.904762%, Precision = 100.000000%\n"
     ]
    },
    {
     "data": {
      "application/vnd.jupyter.widget-view+json": {
       "model_id": "c846003377bd4bc3bfcfd26b172b15cc",
       "version_major": 2,
       "version_minor": 0
      },
      "text/plain": [
       "VBox(children=(Label(value='0.001 MB of 0.001 MB uploaded\\r'), FloatProgress(value=1.0, max=1.0)))"
      ]
     },
     "metadata": {},
     "output_type": "display_data"
    },
    {
     "data": {
      "text/html": [
       "<style>\n",
       "    table.wandb td:nth-child(1) { padding: 0 10px; text-align: left ; width: auto;} td:nth-child(2) {text-align: left ; width: 100%}\n",
       "    .wandb-row { display: flex; flex-direction: row; flex-wrap: wrap; justify-content: flex-start; width: 100% }\n",
       "    .wandb-col { display: flex; flex-direction: column; flex-basis: 100%; flex: 1; padding: 10px; }\n",
       "    </style>\n",
       "<div class=\"wandb-row\"><div class=\"wandb-col\"><h3>Run history:</h3><br/><table class=\"wandb\"><tr><td>test/accuracy</td><td>▁</td></tr><tr><td>train/accuracy</td><td>▁▄▅▄▄▅▅▆▇▇▇▆▇▇▇▇▇▇██</td></tr><tr><td>train/loss</td><td>█▅▄▄▄▄▄▃▃▂▂▃▂▂▂▁▁▂▁▁</td></tr><tr><td>validation/accuracy</td><td>▃▃▁▃▄▅▇▇▇▇▇▇▆▅█▆▆█▇▇</td></tr><tr><td>validation/loss</td><td>▇▇█▇▇▆▅▄▃▄▂▃▃▄▂▃▄▁▂▁</td></tr></table><br/></div><div class=\"wandb-col\"><h3>Run summary:</h3><br/><table class=\"wandb\"><tr><td>test/accuracy</td><td>0.8216</td></tr><tr><td>train/accuracy</td><td>0.74376</td></tr><tr><td>train/loss</td><td>24.78969</td></tr><tr><td>validation/accuracy</td><td>0.8023</td></tr><tr><td>validation/loss</td><td>5.5334</td></tr></table><br/></div></div>"
      ],
      "text/plain": [
       "<IPython.core.display.HTML object>"
      ]
     },
     "metadata": {},
     "output_type": "display_data"
    },
    {
     "data": {
      "text/html": [
       " View run <strong style=\"color:#cdcd00\">copper-waterfall-33</strong> at: <a href='https://wandb.ai/shenderm/conv4-sc2000/runs/xr4fev2w' target=\"_blank\">https://wandb.ai/shenderm/conv4-sc2000/runs/xr4fev2w</a><br/> View project at: <a href='https://wandb.ai/shenderm/conv4-sc2000' target=\"_blank\">https://wandb.ai/shenderm/conv4-sc2000</a><br/>Synced 6 W&B file(s), 0 media file(s), 0 artifact file(s) and 0 other file(s)"
      ],
      "text/plain": [
       "<IPython.core.display.HTML object>"
      ]
     },
     "metadata": {},
     "output_type": "display_data"
    },
    {
     "data": {
      "text/html": [
       "Find logs at: <code>./wandb/run-20240605_145131-xr4fev2w/logs</code>"
      ],
      "text/plain": [
       "<IPython.core.display.HTML object>"
      ]
     },
     "metadata": {},
     "output_type": "display_data"
    },
    {
     "data": {
      "application/vnd.jupyter.widget-view+json": {
       "model_id": "263977c996f043b8b1a407fe53a6d476",
       "version_major": 2,
       "version_minor": 0
      },
      "text/plain": [
       "VBox(children=(Label(value='Waiting for wandb.init()...\\r'), FloatProgress(value=0.011117061566667669, max=1.0…"
      ]
     },
     "metadata": {},
     "output_type": "display_data"
    },
    {
     "data": {
      "text/html": [
       "Tracking run with wandb version 0.17.0"
      ],
      "text/plain": [
       "<IPython.core.display.HTML object>"
      ]
     },
     "metadata": {},
     "output_type": "display_data"
    },
    {
     "data": {
      "text/html": [
       "Run data is saved locally in <code>/Users/shenderm/Desktop/dermlens_code/wandb/run-20240605_150355-3uatm83s</code>"
      ],
      "text/plain": [
       "<IPython.core.display.HTML object>"
      ]
     },
     "metadata": {},
     "output_type": "display_data"
    },
    {
     "data": {
      "text/html": [
       "Syncing run <strong><a href='https://wandb.ai/shenderm/conv4-sc2000/runs/3uatm83s' target=\"_blank\">spring-puddle-34</a></strong> to <a href='https://wandb.ai/shenderm/conv4-sc2000' target=\"_blank\">Weights & Biases</a> (<a href='https://wandb.me/run' target=\"_blank\">docs</a>)<br/>"
      ],
      "text/plain": [
       "<IPython.core.display.HTML object>"
      ]
     },
     "metadata": {},
     "output_type": "display_data"
    },
    {
     "data": {
      "text/html": [
       " View project at <a href='https://wandb.ai/shenderm/conv4-sc2000' target=\"_blank\">https://wandb.ai/shenderm/conv4-sc2000</a>"
      ],
      "text/plain": [
       "<IPython.core.display.HTML object>"
      ]
     },
     "metadata": {},
     "output_type": "display_data"
    },
    {
     "data": {
      "text/html": [
       " View run at <a href='https://wandb.ai/shenderm/conv4-sc2000/runs/3uatm83s' target=\"_blank\">https://wandb.ai/shenderm/conv4-sc2000/runs/3uatm83s</a>"
      ],
      "text/plain": [
       "<IPython.core.display.HTML object>"
      ]
     },
     "metadata": {},
     "output_type": "display_data"
    },
    {
     "name": "stdout",
     "output_type": "stream",
     "text": [
      "lin2 conv4\n",
      "Sequential(\n",
      "  (0): Conv4(\n",
      "    (layer1): Sequential(\n",
      "      (0): Conv2d(3, 64, kernel_size=(3, 3), stride=(1, 1), padding=(1, 1))\n",
      "      (1): ReLU()\n",
      "      (2): BatchNorm2d(64, eps=1e-05, momentum=0.1, affine=True, track_running_stats=True)\n",
      "      (3): AvgPool2d(kernel_size=2, stride=2, padding=0)\n",
      "    )\n",
      "    (layer2): Sequential(\n",
      "      (0): Conv2d(64, 128, kernel_size=(3, 3), stride=(1, 1), padding=(1, 1))\n",
      "      (1): ReLU()\n",
      "      (2): BatchNorm2d(128, eps=1e-05, momentum=0.1, affine=True, track_running_stats=True)\n",
      "      (3): AvgPool2d(kernel_size=2, stride=2, padding=0)\n",
      "    )\n",
      "    (layer3): Sequential(\n",
      "      (0): Conv2d(128, 256, kernel_size=(3, 3), stride=(1, 1), padding=(1, 1))\n",
      "      (1): BatchNorm2d(256, eps=1e-05, momentum=0.1, affine=True, track_running_stats=True)\n",
      "      (2): ReLU()\n",
      "      (3): AvgPool2d(kernel_size=2, stride=2, padding=0)\n",
      "    )\n",
      "    (layer4): Sequential(\n",
      "      (0): Conv2d(256, 512, kernel_size=(3, 3), stride=(1, 1), padding=(1, 1))\n",
      "      (1): BatchNorm2d(512, eps=1e-05, momentum=0.1, affine=True, track_running_stats=True)\n",
      "      (2): ReLU()\n",
      "    )\n",
      "  )\n",
      "  (1): Lin2(\n",
      "    (fc1): Linear(in_features=512, out_features=100, bias=True)\n",
      "    (act1): ReLU()\n",
      "    (dropout1): Dropout(p=0.5, inplace=False)\n",
      "    (fc2): Linear(in_features=100, out_features=2, bias=True)\n",
      "  )\n",
      ")\n"
     ]
    },
    {
     "data": {
      "application/vnd.jupyter.widget-view+json": {
       "model_id": "84ae046fd0a8458e9adab99d51a416f3",
       "version_major": 2,
       "version_minor": 0
      },
      "text/plain": [
       "  0%|          | 0/20 [00:00<?, ?it/s]"
      ]
     },
     "metadata": {},
     "output_type": "display_data"
    },
    {
     "name": "stdout",
     "output_type": "stream",
     "text": [
      "Training Epoch 0: Loss = 36.54399996995926, Accuracy = 52.628121%\n",
      "Validation Epoch 0: Loss = 9.275635719299316, Accuracy = 57.011494%\n",
      "Training Epoch 1: Loss = 31.72592854499817, Accuracy = 60.840999%\n",
      "Validation Epoch 1: Loss = 9.108899116516113, Accuracy = 58.390805%\n",
      "Training Epoch 2: Loss = 29.937693744897842, Accuracy = 67.608410%\n",
      "Validation Epoch 2: Loss = 8.219414710998535, Accuracy = 68.275862%\n",
      "Training Epoch 3: Loss = 30.285003781318665, Accuracy = 64.651774%\n",
      "Validation Epoch 3: Loss = 7.56389856338501, Accuracy = 75.862069%\n",
      "Training Epoch 4: Loss = 29.31871348619461, Accuracy = 67.674113%\n",
      "Validation Epoch 4: Loss = 7.566342353820801, Accuracy = 71.494253%\n",
      "Training Epoch 5: Loss = 27.94417616724968, Accuracy = 69.776610%\n",
      "Validation Epoch 5: Loss = 7.128634929656982, Accuracy = 76.321839%\n",
      "Training Epoch 6: Loss = 29.128047585487366, Accuracy = 66.688568%\n",
      "Validation Epoch 6: Loss = 8.02140998840332, Accuracy = 65.517241%\n",
      "Training Epoch 7: Loss = 27.119438469409943, Accuracy = 71.353482%\n",
      "Validation Epoch 7: Loss = 6.449193000793457, Accuracy = 75.862069%\n",
      "Training Epoch 8: Loss = 28.97991755604744, Accuracy = 68.265440%\n",
      "Validation Epoch 8: Loss = 7.606633186340332, Accuracy = 73.563218%\n",
      "Training Epoch 9: Loss = 26.676621913909912, Accuracy = 72.339028%\n",
      "Validation Epoch 9: Loss = 7.022569179534912, Accuracy = 73.793103%\n",
      "Training Epoch 10: Loss = 26.832610249519348, Accuracy = 71.681997%\n",
      "Validation Epoch 10: Loss = 6.530898571014404, Accuracy = 76.321839%\n",
      "Training Epoch 11: Loss = 27.16618248820305, Accuracy = 71.616294%\n",
      "Validation Epoch 11: Loss = 6.192898273468018, Accuracy = 78.160920%\n",
      "Training Epoch 12: Loss = 26.06230938434601, Accuracy = 73.258870%\n",
      "Validation Epoch 12: Loss = 6.278988361358643, Accuracy = 77.931034%\n",
      "Training Epoch 13: Loss = 26.247447580099106, Accuracy = 71.879106%\n",
      "Validation Epoch 13: Loss = 6.6442437171936035, Accuracy = 77.471264%\n",
      "Training Epoch 14: Loss = 26.692563235759735, Accuracy = 72.798949%\n",
      "Validation Epoch 14: Loss = 6.558025360107422, Accuracy = 77.241379%\n",
      "Training Epoch 15: Loss = 24.976679116487503, Accuracy = 74.375821%\n",
      "Validation Epoch 15: Loss = 6.739872455596924, Accuracy = 74.482759%\n",
      "Training Epoch 16: Loss = 25.866157323122025, Accuracy = 73.127464%\n",
      "Validation Epoch 16: Loss = 5.8084025382995605, Accuracy = 83.908046%\n",
      "Training Epoch 17: Loss = 25.0924271941185, Accuracy = 73.718791%\n",
      "Validation Epoch 17: Loss = 7.160185813903809, Accuracy = 72.413793%\n",
      "Training Epoch 18: Loss = 25.49863800406456, Accuracy = 73.850197%\n",
      "Validation Epoch 18: Loss = 6.1909098625183105, Accuracy = 77.931034%\n",
      "Training Epoch 19: Loss = 24.77696317434311, Accuracy = 74.507227%\n",
      "Validation Epoch 19: Loss = 6.173537254333496, Accuracy = 77.011494%\n"
     ]
    },
    {
     "name": "stderr",
     "output_type": "stream",
     "text": [
      "/opt/anaconda3/envs/dermlens/lib/python3.12/site-packages/sklearn/metrics/_classification.py:1509: UndefinedMetricWarning: Precision is ill-defined and being set to 0.0 due to no predicted samples. Use `zero_division` parameter to control this behavior.\n",
      "  _warn_prf(average, modifier, f\"{metric.capitalize()} is\", len(result))\n"
     ]
    },
    {
     "name": "stdout",
     "output_type": "stream",
     "text": [
      "Batch 0: Accuracy = 100.000000%, Recall = 0.000000%, Precision = 0.000000%\n",
      "Batch 1: Accuracy = 93.750000%, Recall = 0.000000%, Precision = 0.000000%\n",
      "Batch 2: Accuracy = 87.500000%, Recall = 0.000000%, Precision = 0.000000%\n",
      "Batch 3: Accuracy = 75.000000%, Recall = 65.000000%, Precision = 92.857143%\n",
      "Batch 4: Accuracy = 65.625000%, Recall = 65.625000%, Precision = 100.000000%\n",
      "Batch 5: Accuracy = 81.250000%, Recall = 81.250000%, Precision = 100.000000%\n",
      "Batch 6: Accuracy = 57.142857%, Recall = 57.142857%, Precision = 100.000000%\n"
     ]
    },
    {
     "data": {
      "application/vnd.jupyter.widget-view+json": {
       "model_id": "879ad523151b496994438f789618c3a8",
       "version_major": 2,
       "version_minor": 0
      },
      "text/plain": [
       "VBox(children=(Label(value='0.001 MB of 0.001 MB uploaded\\r'), FloatProgress(value=1.0, max=1.0)))"
      ]
     },
     "metadata": {},
     "output_type": "display_data"
    },
    {
     "data": {
      "text/html": [
       "<style>\n",
       "    table.wandb td:nth-child(1) { padding: 0 10px; text-align: left ; width: auto;} td:nth-child(2) {text-align: left ; width: 100%}\n",
       "    .wandb-row { display: flex; flex-direction: row; flex-wrap: wrap; justify-content: flex-start; width: 100% }\n",
       "    .wandb-col { display: flex; flex-direction: column; flex-basis: 100%; flex: 1; padding: 10px; }\n",
       "    </style>\n",
       "<div class=\"wandb-row\"><div class=\"wandb-col\"><h3>Run history:</h3><br/><table class=\"wandb\"><tr><td>test/accuracy</td><td>▁</td></tr><tr><td>train/accuracy</td><td>▁▄▆▅▆▆▅▇▆▇▇▇█▇▇█████</td></tr><tr><td>train/loss</td><td>█▅▄▄▄▃▄▂▄▂▂▂▂▂▂▁▂▁▁▁</td></tr><tr><td>validation/accuracy</td><td>▁▁▄▆▅▆▃▆▅▅▆▇▆▆▆▆█▅▆▆</td></tr><tr><td>validation/loss</td><td>██▆▅▅▄▅▂▅▃▂▂▂▃▃▃▁▄▂▂</td></tr></table><br/></div><div class=\"wandb-col\"><h3>Run summary:</h3><br/><table class=\"wandb\"><tr><td>test/accuracy</td><td>0.81221</td></tr><tr><td>train/accuracy</td><td>0.74507</td></tr><tr><td>train/loss</td><td>24.77696</td></tr><tr><td>validation/accuracy</td><td>0.77011</td></tr><tr><td>validation/loss</td><td>6.17354</td></tr></table><br/></div></div>"
      ],
      "text/plain": [
       "<IPython.core.display.HTML object>"
      ]
     },
     "metadata": {},
     "output_type": "display_data"
    },
    {
     "data": {
      "text/html": [
       " View run <strong style=\"color:#cdcd00\">spring-puddle-34</strong> at: <a href='https://wandb.ai/shenderm/conv4-sc2000/runs/3uatm83s' target=\"_blank\">https://wandb.ai/shenderm/conv4-sc2000/runs/3uatm83s</a><br/> View project at: <a href='https://wandb.ai/shenderm/conv4-sc2000' target=\"_blank\">https://wandb.ai/shenderm/conv4-sc2000</a><br/>Synced 6 W&B file(s), 0 media file(s), 0 artifact file(s) and 0 other file(s)"
      ],
      "text/plain": [
       "<IPython.core.display.HTML object>"
      ]
     },
     "metadata": {},
     "output_type": "display_data"
    },
    {
     "data": {
      "text/html": [
       "Find logs at: <code>./wandb/run-20240605_150355-3uatm83s/logs</code>"
      ],
      "text/plain": [
       "<IPython.core.display.HTML object>"
      ]
     },
     "metadata": {},
     "output_type": "display_data"
    },
    {
     "data": {
      "application/vnd.jupyter.widget-view+json": {
       "model_id": "0ed67ec4525a4af0964a8e923468ef7a",
       "version_major": 2,
       "version_minor": 0
      },
      "text/plain": [
       "VBox(children=(Label(value='Waiting for wandb.init()...\\r'), FloatProgress(value=0.011167694444439904, max=1.0…"
      ]
     },
     "metadata": {},
     "output_type": "display_data"
    },
    {
     "data": {
      "text/html": [
       "Tracking run with wandb version 0.17.0"
      ],
      "text/plain": [
       "<IPython.core.display.HTML object>"
      ]
     },
     "metadata": {},
     "output_type": "display_data"
    },
    {
     "data": {
      "text/html": [
       "Run data is saved locally in <code>/Users/shenderm/Desktop/dermlens_code/wandb/run-20240605_151618-n1yrsuh8</code>"
      ],
      "text/plain": [
       "<IPython.core.display.HTML object>"
      ]
     },
     "metadata": {},
     "output_type": "display_data"
    },
    {
     "data": {
      "text/html": [
       "Syncing run <strong><a href='https://wandb.ai/shenderm/conv4-sc2000/runs/n1yrsuh8' target=\"_blank\">wise-firefly-35</a></strong> to <a href='https://wandb.ai/shenderm/conv4-sc2000' target=\"_blank\">Weights & Biases</a> (<a href='https://wandb.me/run' target=\"_blank\">docs</a>)<br/>"
      ],
      "text/plain": [
       "<IPython.core.display.HTML object>"
      ]
     },
     "metadata": {},
     "output_type": "display_data"
    },
    {
     "data": {
      "text/html": [
       " View project at <a href='https://wandb.ai/shenderm/conv4-sc2000' target=\"_blank\">https://wandb.ai/shenderm/conv4-sc2000</a>"
      ],
      "text/plain": [
       "<IPython.core.display.HTML object>"
      ]
     },
     "metadata": {},
     "output_type": "display_data"
    },
    {
     "data": {
      "text/html": [
       " View run at <a href='https://wandb.ai/shenderm/conv4-sc2000/runs/n1yrsuh8' target=\"_blank\">https://wandb.ai/shenderm/conv4-sc2000/runs/n1yrsuh8</a>"
      ],
      "text/plain": [
       "<IPython.core.display.HTML object>"
      ]
     },
     "metadata": {},
     "output_type": "display_data"
    },
    {
     "name": "stdout",
     "output_type": "stream",
     "text": [
      "lin2 conv4\n",
      "Sequential(\n",
      "  (0): Conv4(\n",
      "    (layer1): Sequential(\n",
      "      (0): Conv2d(3, 64, kernel_size=(3, 3), stride=(1, 1), padding=(1, 1))\n",
      "      (1): ReLU()\n",
      "      (2): BatchNorm2d(64, eps=1e-05, momentum=0.1, affine=True, track_running_stats=True)\n",
      "      (3): AvgPool2d(kernel_size=2, stride=2, padding=0)\n",
      "    )\n",
      "    (layer2): Sequential(\n",
      "      (0): Conv2d(64, 128, kernel_size=(3, 3), stride=(1, 1), padding=(1, 1))\n",
      "      (1): ReLU()\n",
      "      (2): BatchNorm2d(128, eps=1e-05, momentum=0.1, affine=True, track_running_stats=True)\n",
      "      (3): AvgPool2d(kernel_size=2, stride=2, padding=0)\n",
      "    )\n",
      "    (layer3): Sequential(\n",
      "      (0): Conv2d(128, 256, kernel_size=(3, 3), stride=(1, 1), padding=(1, 1))\n",
      "      (1): BatchNorm2d(256, eps=1e-05, momentum=0.1, affine=True, track_running_stats=True)\n",
      "      (2): ReLU()\n",
      "      (3): AvgPool2d(kernel_size=2, stride=2, padding=0)\n",
      "    )\n",
      "    (layer4): Sequential(\n",
      "      (0): Conv2d(256, 512, kernel_size=(3, 3), stride=(1, 1), padding=(1, 1))\n",
      "      (1): BatchNorm2d(512, eps=1e-05, momentum=0.1, affine=True, track_running_stats=True)\n",
      "      (2): ReLU()\n",
      "    )\n",
      "  )\n",
      "  (1): Lin2(\n",
      "    (fc1): Linear(in_features=512, out_features=100, bias=True)\n",
      "    (act1): ReLU()\n",
      "    (dropout1): Dropout(p=0.5, inplace=False)\n",
      "    (fc2): Linear(in_features=100, out_features=2, bias=True)\n",
      "  )\n",
      ")\n"
     ]
    },
    {
     "data": {
      "application/vnd.jupyter.widget-view+json": {
       "model_id": "87218508ec584943847e669ff09b5b63",
       "version_major": 2,
       "version_minor": 0
      },
      "text/plain": [
       "  0%|          | 0/20 [00:00<?, ?it/s]"
      ]
     },
     "metadata": {},
     "output_type": "display_data"
    },
    {
     "name": "stdout",
     "output_type": "stream",
     "text": [
      "Training Epoch 0: Loss = 35.64788430929184, Accuracy = 50.854139%\n",
      "Validation Epoch 0: Loss = 9.652990341186523, Accuracy = 54.712644%\n",
      "Training Epoch 1: Loss = 32.9249906539917, Accuracy = 52.956636%\n",
      "Validation Epoch 1: Loss = 9.060675621032715, Accuracy = 64.597701%\n",
      "Training Epoch 2: Loss = 31.85523223876953, Accuracy = 57.884363%\n",
      "Validation Epoch 2: Loss = 8.713546752929688, Accuracy = 66.206897%\n",
      "Training Epoch 3: Loss = 30.586967527866364, Accuracy = 63.534823%\n",
      "Validation Epoch 3: Loss = 8.02983283996582, Accuracy = 73.333333%\n",
      "Training Epoch 4: Loss = 29.751200050115585, Accuracy = 64.191853%\n",
      "Validation Epoch 4: Loss = 7.244480133056641, Accuracy = 76.551724%\n",
      "Training Epoch 5: Loss = 29.169901311397552, Accuracy = 67.477004%\n",
      "Validation Epoch 5: Loss = 7.197332382202148, Accuracy = 79.540230%\n",
      "Training Epoch 6: Loss = 29.053949803113937, Accuracy = 67.017083%\n",
      "Validation Epoch 6: Loss = 7.179614543914795, Accuracy = 74.712644%\n",
      "Training Epoch 7: Loss = 28.788114458322525, Accuracy = 67.936925%\n",
      "Validation Epoch 7: Loss = 7.741902828216553, Accuracy = 72.413793%\n",
      "Training Epoch 8: Loss = 28.50737103819847, Accuracy = 68.593955%\n",
      "Validation Epoch 8: Loss = 6.8724589347839355, Accuracy = 77.011494%\n",
      "Training Epoch 9: Loss = 28.532356470823288, Accuracy = 68.593955%\n",
      "Validation Epoch 9: Loss = 6.816164970397949, Accuracy = 76.091954%\n",
      "Training Epoch 10: Loss = 27.20375907421112, Accuracy = 70.499343%\n",
      "Validation Epoch 10: Loss = 6.7406158447265625, Accuracy = 81.379310%\n",
      "Training Epoch 11: Loss = 26.46894583106041, Accuracy = 71.681997%\n",
      "Validation Epoch 11: Loss = 6.18874979019165, Accuracy = 76.781609%\n",
      "Training Epoch 12: Loss = 25.921440452337265, Accuracy = 71.747700%\n",
      "Validation Epoch 12: Loss = 6.297497272491455, Accuracy = 78.620690%\n",
      "Training Epoch 13: Loss = 26.997083604335785, Accuracy = 72.273325%\n",
      "Validation Epoch 13: Loss = 5.837316513061523, Accuracy = 80.000000%\n",
      "Training Epoch 14: Loss = 26.43532994389534, Accuracy = 70.893561%\n",
      "Validation Epoch 14: Loss = 6.372805595397949, Accuracy = 80.000000%\n",
      "Training Epoch 15: Loss = 25.735208123922348, Accuracy = 73.915900%\n",
      "Validation Epoch 15: Loss = 6.549703598022461, Accuracy = 76.091954%\n",
      "Training Epoch 16: Loss = 25.998090535402298, Accuracy = 74.178712%\n",
      "Validation Epoch 16: Loss = 6.004472255706787, Accuracy = 78.390805%\n",
      "Training Epoch 17: Loss = 25.95913228392601, Accuracy = 73.915900%\n",
      "Validation Epoch 17: Loss = 6.206499099731445, Accuracy = 77.701149%\n",
      "Training Epoch 18: Loss = 25.84245479106903, Accuracy = 73.127464%\n",
      "Validation Epoch 18: Loss = 6.083488941192627, Accuracy = 77.701149%\n",
      "Training Epoch 19: Loss = 26.182734549045563, Accuracy = 72.798949%\n",
      "Validation Epoch 19: Loss = 5.530623435974121, Accuracy = 81.609195%\n",
      "Batch 0: Accuracy = 96.875000%, Recall = 0.000000%, Precision = 0.000000%\n",
      "Batch 1: Accuracy = 84.375000%, Recall = 0.000000%, Precision = 0.000000%\n",
      "Batch 2: Accuracy = 75.000000%, Recall = 0.000000%, Precision = 0.000000%\n",
      "Batch 3: Accuracy = 78.125000%, Recall = 70.000000%, Precision = 93.333333%\n",
      "Batch 4: Accuracy = 65.625000%, Recall = 65.625000%, Precision = 100.000000%\n",
      "Batch 5: Accuracy = 84.375000%, Recall = 84.375000%, Precision = 100.000000%\n",
      "Batch 6: Accuracy = 66.666667%, Recall = 66.666667%, Precision = 100.000000%\n"
     ]
    },
    {
     "data": {
      "application/vnd.jupyter.widget-view+json": {
       "model_id": "f8924dc4858445cdbc9e5087d7bd84c1",
       "version_major": 2,
       "version_minor": 0
      },
      "text/plain": [
       "VBox(children=(Label(value='0.001 MB of 0.001 MB uploaded\\r'), FloatProgress(value=1.0, max=1.0)))"
      ]
     },
     "metadata": {},
     "output_type": "display_data"
    },
    {
     "data": {
      "text/html": [
       "<style>\n",
       "    table.wandb td:nth-child(1) { padding: 0 10px; text-align: left ; width: auto;} td:nth-child(2) {text-align: left ; width: 100%}\n",
       "    .wandb-row { display: flex; flex-direction: row; flex-wrap: wrap; justify-content: flex-start; width: 100% }\n",
       "    .wandb-col { display: flex; flex-direction: column; flex-basis: 100%; flex: 1; padding: 10px; }\n",
       "    </style>\n",
       "<div class=\"wandb-row\"><div class=\"wandb-col\"><h3>Run history:</h3><br/><table class=\"wandb\"><tr><td>test/accuracy</td><td>▁</td></tr><tr><td>train/accuracy</td><td>▁▂▃▅▅▆▆▆▆▆▇▇▇▇▇█████</td></tr><tr><td>train/loss</td><td>█▆▅▄▄▃▃▃▃▃▂▂▁▂▁▁▁▁▁▁</td></tr><tr><td>validation/accuracy</td><td>▁▄▄▆▇▇▆▆▇▇█▇▇██▇▇▇▇█</td></tr><tr><td>validation/loss</td><td>█▇▆▅▄▄▄▅▃▃▃▂▂▂▂▃▂▂▂▁</td></tr></table><br/></div><div class=\"wandb-col\"><h3>Run summary:</h3><br/><table class=\"wandb\"><tr><td>test/accuracy</td><td>0.79343</td></tr><tr><td>train/accuracy</td><td>0.72799</td></tr><tr><td>train/loss</td><td>26.18273</td></tr><tr><td>validation/accuracy</td><td>0.81609</td></tr><tr><td>validation/loss</td><td>5.53062</td></tr></table><br/></div></div>"
      ],
      "text/plain": [
       "<IPython.core.display.HTML object>"
      ]
     },
     "metadata": {},
     "output_type": "display_data"
    },
    {
     "data": {
      "text/html": [
       " View run <strong style=\"color:#cdcd00\">wise-firefly-35</strong> at: <a href='https://wandb.ai/shenderm/conv4-sc2000/runs/n1yrsuh8' target=\"_blank\">https://wandb.ai/shenderm/conv4-sc2000/runs/n1yrsuh8</a><br/> View project at: <a href='https://wandb.ai/shenderm/conv4-sc2000' target=\"_blank\">https://wandb.ai/shenderm/conv4-sc2000</a><br/>Synced 6 W&B file(s), 0 media file(s), 0 artifact file(s) and 0 other file(s)"
      ],
      "text/plain": [
       "<IPython.core.display.HTML object>"
      ]
     },
     "metadata": {},
     "output_type": "display_data"
    },
    {
     "data": {
      "text/html": [
       "Find logs at: <code>./wandb/run-20240605_151618-n1yrsuh8/logs</code>"
      ],
      "text/plain": [
       "<IPython.core.display.HTML object>"
      ]
     },
     "metadata": {},
     "output_type": "display_data"
    },
    {
     "data": {
      "application/vnd.jupyter.widget-view+json": {
       "model_id": "8ae55c743b62499cb1e703bd2a25c371",
       "version_major": 2,
       "version_minor": 0
      },
      "text/plain": [
       "VBox(children=(Label(value='Waiting for wandb.init()...\\r'), FloatProgress(value=0.011135139811115854, max=1.0…"
      ]
     },
     "metadata": {},
     "output_type": "display_data"
    },
    {
     "data": {
      "text/html": [
       "Tracking run with wandb version 0.17.0"
      ],
      "text/plain": [
       "<IPython.core.display.HTML object>"
      ]
     },
     "metadata": {},
     "output_type": "display_data"
    },
    {
     "data": {
      "text/html": [
       "Run data is saved locally in <code>/Users/shenderm/Desktop/dermlens_code/wandb/run-20240605_152835-fdchobyv</code>"
      ],
      "text/plain": [
       "<IPython.core.display.HTML object>"
      ]
     },
     "metadata": {},
     "output_type": "display_data"
    },
    {
     "data": {
      "text/html": [
       "Syncing run <strong><a href='https://wandb.ai/shenderm/conv4-sc2000/runs/fdchobyv' target=\"_blank\">graceful-plasma-36</a></strong> to <a href='https://wandb.ai/shenderm/conv4-sc2000' target=\"_blank\">Weights & Biases</a> (<a href='https://wandb.me/run' target=\"_blank\">docs</a>)<br/>"
      ],
      "text/plain": [
       "<IPython.core.display.HTML object>"
      ]
     },
     "metadata": {},
     "output_type": "display_data"
    },
    {
     "data": {
      "text/html": [
       " View project at <a href='https://wandb.ai/shenderm/conv4-sc2000' target=\"_blank\">https://wandb.ai/shenderm/conv4-sc2000</a>"
      ],
      "text/plain": [
       "<IPython.core.display.HTML object>"
      ]
     },
     "metadata": {},
     "output_type": "display_data"
    },
    {
     "data": {
      "text/html": [
       " View run at <a href='https://wandb.ai/shenderm/conv4-sc2000/runs/fdchobyv' target=\"_blank\">https://wandb.ai/shenderm/conv4-sc2000/runs/fdchobyv</a>"
      ],
      "text/plain": [
       "<IPython.core.display.HTML object>"
      ]
     },
     "metadata": {},
     "output_type": "display_data"
    },
    {
     "name": "stdout",
     "output_type": "stream",
     "text": [
      "lin2 conv4\n",
      "Sequential(\n",
      "  (0): Conv4(\n",
      "    (layer1): Sequential(\n",
      "      (0): Conv2d(3, 64, kernel_size=(3, 3), stride=(1, 1), padding=(1, 1))\n",
      "      (1): ReLU()\n",
      "      (2): BatchNorm2d(64, eps=1e-05, momentum=0.1, affine=True, track_running_stats=True)\n",
      "      (3): AvgPool2d(kernel_size=2, stride=2, padding=0)\n",
      "    )\n",
      "    (layer2): Sequential(\n",
      "      (0): Conv2d(64, 128, kernel_size=(3, 3), stride=(1, 1), padding=(1, 1))\n",
      "      (1): ReLU()\n",
      "      (2): BatchNorm2d(128, eps=1e-05, momentum=0.1, affine=True, track_running_stats=True)\n",
      "      (3): AvgPool2d(kernel_size=2, stride=2, padding=0)\n",
      "    )\n",
      "    (layer3): Sequential(\n",
      "      (0): Conv2d(128, 256, kernel_size=(3, 3), stride=(1, 1), padding=(1, 1))\n",
      "      (1): BatchNorm2d(256, eps=1e-05, momentum=0.1, affine=True, track_running_stats=True)\n",
      "      (2): ReLU()\n",
      "      (3): AvgPool2d(kernel_size=2, stride=2, padding=0)\n",
      "    )\n",
      "    (layer4): Sequential(\n",
      "      (0): Conv2d(256, 512, kernel_size=(3, 3), stride=(1, 1), padding=(1, 1))\n",
      "      (1): BatchNorm2d(512, eps=1e-05, momentum=0.1, affine=True, track_running_stats=True)\n",
      "      (2): ReLU()\n",
      "    )\n",
      "  )\n",
      "  (1): Lin2(\n",
      "    (fc1): Linear(in_features=512, out_features=100, bias=True)\n",
      "    (act1): ReLU()\n",
      "    (dropout1): Dropout(p=0.5, inplace=False)\n",
      "    (fc2): Linear(in_features=100, out_features=2, bias=True)\n",
      "  )\n",
      ")\n"
     ]
    },
    {
     "data": {
      "application/vnd.jupyter.widget-view+json": {
       "model_id": "48aba8807bdd4bc1b17cd846b02b8842",
       "version_major": 2,
       "version_minor": 0
      },
      "text/plain": [
       "  0%|          | 0/20 [00:00<?, ?it/s]"
      ]
     },
     "metadata": {},
     "output_type": "display_data"
    },
    {
     "name": "stdout",
     "output_type": "stream",
     "text": [
      "Training Epoch 0: Loss = 35.07924395799637, Accuracy = 51.971091%\n",
      "Validation Epoch 0: Loss = 9.037671089172363, Accuracy = 68.045977%\n",
      "Training Epoch 1: Loss = 30.711496889591217, Accuracy = 63.534823%\n",
      "Validation Epoch 1: Loss = 8.062993049621582, Accuracy = 71.034483%\n",
      "Training Epoch 2: Loss = 30.83554995059967, Accuracy = 62.943495%\n",
      "Validation Epoch 2: Loss = 9.530536651611328, Accuracy = 59.540230%\n",
      "Training Epoch 3: Loss = 30.582126677036285, Accuracy = 65.571616%\n",
      "Validation Epoch 3: Loss = 8.257742881774902, Accuracy = 73.563218%\n",
      "Training Epoch 4: Loss = 29.916546761989594, Accuracy = 66.754271%\n",
      "Validation Epoch 4: Loss = 8.12732982635498, Accuracy = 70.344828%\n",
      "Training Epoch 5: Loss = 29.922754228115082, Accuracy = 65.768725%\n",
      "Validation Epoch 5: Loss = 7.972021102905273, Accuracy = 71.264368%\n",
      "Training Epoch 6: Loss = 28.914004653692245, Accuracy = 69.119580%\n",
      "Validation Epoch 6: Loss = 6.943778038024902, Accuracy = 76.781609%\n",
      "Training Epoch 7: Loss = 28.26846820116043, Accuracy = 70.630749%\n",
      "Validation Epoch 7: Loss = 7.763835906982422, Accuracy = 65.977011%\n",
      "Training Epoch 8: Loss = 28.746058851480484, Accuracy = 70.433640%\n",
      "Validation Epoch 8: Loss = 7.440102577209473, Accuracy = 76.551724%\n",
      "Training Epoch 9: Loss = 27.630834013223648, Accuracy = 70.105125%\n",
      "Validation Epoch 9: Loss = 6.575944900512695, Accuracy = 78.850575%\n",
      "Training Epoch 10: Loss = 26.73416844010353, Accuracy = 72.339028%\n",
      "Validation Epoch 10: Loss = 6.445334434509277, Accuracy = 80.459770%\n",
      "Training Epoch 11: Loss = 27.000886172056198, Accuracy = 71.747700%\n",
      "Validation Epoch 11: Loss = 6.50656795501709, Accuracy = 77.241379%\n",
      "Training Epoch 12: Loss = 26.651996910572052, Accuracy = 70.696452%\n",
      "Validation Epoch 12: Loss = 5.747999668121338, Accuracy = 81.149425%\n",
      "Training Epoch 13: Loss = 26.737438648939133, Accuracy = 71.681997%\n",
      "Validation Epoch 13: Loss = 6.2412919998168945, Accuracy = 81.149425%\n",
      "Training Epoch 14: Loss = 25.647502601146698, Accuracy = 74.375821%\n",
      "Validation Epoch 14: Loss = 5.712776184082031, Accuracy = 80.459770%\n",
      "Training Epoch 15: Loss = 26.696461588144302, Accuracy = 72.141919%\n",
      "Validation Epoch 15: Loss = 6.6118621826171875, Accuracy = 74.712644%\n",
      "Training Epoch 16: Loss = 25.67586860060692, Accuracy = 75.624179%\n",
      "Validation Epoch 16: Loss = 6.537981986999512, Accuracy = 73.563218%\n",
      "Training Epoch 17: Loss = 25.10132670402527, Accuracy = 74.375821%\n",
      "Validation Epoch 17: Loss = 5.564151763916016, Accuracy = 82.758621%\n",
      "Training Epoch 18: Loss = 24.880151748657227, Accuracy = 75.886991%\n",
      "Validation Epoch 18: Loss = 5.640544891357422, Accuracy = 81.609195%\n",
      "Training Epoch 19: Loss = 24.749476075172424, Accuracy = 76.281209%\n",
      "Validation Epoch 19: Loss = 5.69098424911499, Accuracy = 80.229885%\n"
     ]
    },
    {
     "name": "stderr",
     "output_type": "stream",
     "text": [
      "/opt/anaconda3/envs/dermlens/lib/python3.12/site-packages/sklearn/metrics/_classification.py:1509: UndefinedMetricWarning: Precision is ill-defined and being set to 0.0 due to no predicted samples. Use `zero_division` parameter to control this behavior.\n",
      "  _warn_prf(average, modifier, f\"{metric.capitalize()} is\", len(result))\n"
     ]
    },
    {
     "name": "stdout",
     "output_type": "stream",
     "text": [
      "Batch 0: Accuracy = 100.000000%, Recall = 0.000000%, Precision = 0.000000%\n",
      "Batch 1: Accuracy = 93.750000%, Recall = 0.000000%, Precision = 0.000000%\n",
      "Batch 2: Accuracy = 90.625000%, Recall = 0.000000%, Precision = 0.000000%\n",
      "Batch 3: Accuracy = 71.875000%, Recall = 60.000000%, Precision = 92.307692%\n",
      "Batch 4: Accuracy = 59.375000%, Recall = 59.375000%, Precision = 100.000000%\n",
      "Batch 5: Accuracy = 90.625000%, Recall = 90.625000%, Precision = 100.000000%\n",
      "Batch 6: Accuracy = 61.904762%, Recall = 61.904762%, Precision = 100.000000%\n"
     ]
    },
    {
     "data": {
      "application/vnd.jupyter.widget-view+json": {
       "model_id": "07a1c5d594304a26a3439063c9e87441",
       "version_major": 2,
       "version_minor": 0
      },
      "text/plain": [
       "VBox(children=(Label(value='0.001 MB of 0.001 MB uploaded\\r'), FloatProgress(value=1.0, max=1.0)))"
      ]
     },
     "metadata": {},
     "output_type": "display_data"
    },
    {
     "data": {
      "text/html": [
       "<style>\n",
       "    table.wandb td:nth-child(1) { padding: 0 10px; text-align: left ; width: auto;} td:nth-child(2) {text-align: left ; width: 100%}\n",
       "    .wandb-row { display: flex; flex-direction: row; flex-wrap: wrap; justify-content: flex-start; width: 100% }\n",
       "    .wandb-col { display: flex; flex-direction: column; flex-basis: 100%; flex: 1; padding: 10px; }\n",
       "    </style>\n",
       "<div class=\"wandb-row\"><div class=\"wandb-col\"><h3>Run history:</h3><br/><table class=\"wandb\"><tr><td>test/accuracy</td><td>▁</td></tr><tr><td>train/accuracy</td><td>▁▄▄▅▅▅▆▆▆▆▇▇▆▇▇▇█▇██</td></tr><tr><td>train/loss</td><td>█▅▅▅▅▅▄▃▄▃▂▃▂▂▂▂▂▁▁▁</td></tr><tr><td>validation/accuracy</td><td>▄▄▁▅▄▅▆▃▆▇▇▆██▇▆▅██▇</td></tr><tr><td>validation/loss</td><td>▇▅█▆▆▅▃▅▄▃▃▃▁▂▁▃▃▁▁▁</td></tr></table><br/></div><div class=\"wandb-col\"><h3>Run summary:</h3><br/><table class=\"wandb\"><tr><td>test/accuracy</td><td>0.8216</td></tr><tr><td>train/accuracy</td><td>0.76281</td></tr><tr><td>train/loss</td><td>24.74948</td></tr><tr><td>validation/accuracy</td><td>0.8023</td></tr><tr><td>validation/loss</td><td>5.69098</td></tr></table><br/></div></div>"
      ],
      "text/plain": [
       "<IPython.core.display.HTML object>"
      ]
     },
     "metadata": {},
     "output_type": "display_data"
    },
    {
     "data": {
      "text/html": [
       " View run <strong style=\"color:#cdcd00\">graceful-plasma-36</strong> at: <a href='https://wandb.ai/shenderm/conv4-sc2000/runs/fdchobyv' target=\"_blank\">https://wandb.ai/shenderm/conv4-sc2000/runs/fdchobyv</a><br/> View project at: <a href='https://wandb.ai/shenderm/conv4-sc2000' target=\"_blank\">https://wandb.ai/shenderm/conv4-sc2000</a><br/>Synced 6 W&B file(s), 0 media file(s), 0 artifact file(s) and 0 other file(s)"
      ],
      "text/plain": [
       "<IPython.core.display.HTML object>"
      ]
     },
     "metadata": {},
     "output_type": "display_data"
    },
    {
     "data": {
      "text/html": [
       "Find logs at: <code>./wandb/run-20240605_152835-fdchobyv/logs</code>"
      ],
      "text/plain": [
       "<IPython.core.display.HTML object>"
      ]
     },
     "metadata": {},
     "output_type": "display_data"
    },
    {
     "data": {
      "application/vnd.jupyter.widget-view+json": {
       "model_id": "2c1d5560247e4fc9a8f4b31038034fa0",
       "version_major": 2,
       "version_minor": 0
      },
      "text/plain": [
       "VBox(children=(Label(value='Waiting for wandb.init()...\\r'), FloatProgress(value=0.011167676388888341, max=1.0…"
      ]
     },
     "metadata": {},
     "output_type": "display_data"
    },
    {
     "data": {
      "text/html": [
       "Tracking run with wandb version 0.17.0"
      ],
      "text/plain": [
       "<IPython.core.display.HTML object>"
      ]
     },
     "metadata": {},
     "output_type": "display_data"
    },
    {
     "data": {
      "text/html": [
       "Run data is saved locally in <code>/Users/shenderm/Desktop/dermlens_code/wandb/run-20240605_154054-ctycedkb</code>"
      ],
      "text/plain": [
       "<IPython.core.display.HTML object>"
      ]
     },
     "metadata": {},
     "output_type": "display_data"
    },
    {
     "data": {
      "text/html": [
       "Syncing run <strong><a href='https://wandb.ai/shenderm/conv4-sc2000/runs/ctycedkb' target=\"_blank\">bright-bee-37</a></strong> to <a href='https://wandb.ai/shenderm/conv4-sc2000' target=\"_blank\">Weights & Biases</a> (<a href='https://wandb.me/run' target=\"_blank\">docs</a>)<br/>"
      ],
      "text/plain": [
       "<IPython.core.display.HTML object>"
      ]
     },
     "metadata": {},
     "output_type": "display_data"
    },
    {
     "data": {
      "text/html": [
       " View project at <a href='https://wandb.ai/shenderm/conv4-sc2000' target=\"_blank\">https://wandb.ai/shenderm/conv4-sc2000</a>"
      ],
      "text/plain": [
       "<IPython.core.display.HTML object>"
      ]
     },
     "metadata": {},
     "output_type": "display_data"
    },
    {
     "data": {
      "text/html": [
       " View run at <a href='https://wandb.ai/shenderm/conv4-sc2000/runs/ctycedkb' target=\"_blank\">https://wandb.ai/shenderm/conv4-sc2000/runs/ctycedkb</a>"
      ],
      "text/plain": [
       "<IPython.core.display.HTML object>"
      ]
     },
     "metadata": {},
     "output_type": "display_data"
    },
    {
     "name": "stdout",
     "output_type": "stream",
     "text": [
      "lin2 conv4\n",
      "Sequential(\n",
      "  (0): Conv4(\n",
      "    (layer1): Sequential(\n",
      "      (0): Conv2d(3, 64, kernel_size=(3, 3), stride=(1, 1), padding=(1, 1))\n",
      "      (1): ReLU()\n",
      "      (2): BatchNorm2d(64, eps=1e-05, momentum=0.1, affine=True, track_running_stats=True)\n",
      "      (3): AvgPool2d(kernel_size=2, stride=2, padding=0)\n",
      "    )\n",
      "    (layer2): Sequential(\n",
      "      (0): Conv2d(64, 128, kernel_size=(3, 3), stride=(1, 1), padding=(1, 1))\n",
      "      (1): ReLU()\n",
      "      (2): BatchNorm2d(128, eps=1e-05, momentum=0.1, affine=True, track_running_stats=True)\n",
      "      (3): AvgPool2d(kernel_size=2, stride=2, padding=0)\n",
      "    )\n",
      "    (layer3): Sequential(\n",
      "      (0): Conv2d(128, 256, kernel_size=(3, 3), stride=(1, 1), padding=(1, 1))\n",
      "      (1): BatchNorm2d(256, eps=1e-05, momentum=0.1, affine=True, track_running_stats=True)\n",
      "      (2): ReLU()\n",
      "      (3): AvgPool2d(kernel_size=2, stride=2, padding=0)\n",
      "    )\n",
      "    (layer4): Sequential(\n",
      "      (0): Conv2d(256, 512, kernel_size=(3, 3), stride=(1, 1), padding=(1, 1))\n",
      "      (1): BatchNorm2d(512, eps=1e-05, momentum=0.1, affine=True, track_running_stats=True)\n",
      "      (2): ReLU()\n",
      "    )\n",
      "  )\n",
      "  (1): Lin2(\n",
      "    (fc1): Linear(in_features=512, out_features=100, bias=True)\n",
      "    (act1): ReLU()\n",
      "    (dropout1): Dropout(p=0.5, inplace=False)\n",
      "    (fc2): Linear(in_features=100, out_features=2, bias=True)\n",
      "  )\n",
      ")\n"
     ]
    },
    {
     "data": {
      "application/vnd.jupyter.widget-view+json": {
       "model_id": "ad9addf22d4f4791a1b27cc2193c9ba4",
       "version_major": 2,
       "version_minor": 0
      },
      "text/plain": [
       "  0%|          | 0/20 [00:00<?, ?it/s]"
      ]
     },
     "metadata": {},
     "output_type": "display_data"
    },
    {
     "name": "stdout",
     "output_type": "stream",
     "text": [
      "Training Epoch 0: Loss = 34.490274131298065, Accuracy = 58.607096%\n",
      "Validation Epoch 0: Loss = 9.165016174316406, Accuracy = 57.701149%\n",
      "Training Epoch 1: Loss = 31.38177525997162, Accuracy = 62.483574%\n",
      "Validation Epoch 1: Loss = 8.532574653625488, Accuracy = 66.206897%\n",
      "Training Epoch 2: Loss = 30.39893788099289, Accuracy = 65.505913%\n",
      "Validation Epoch 2: Loss = 8.13010025024414, Accuracy = 71.034483%\n",
      "Training Epoch 3: Loss = 29.81227472424507, Accuracy = 66.819974%\n",
      "Validation Epoch 3: Loss = 7.482412815093994, Accuracy = 75.172414%\n",
      "Training Epoch 4: Loss = 28.985639363527298, Accuracy = 68.659658%\n",
      "Validation Epoch 4: Loss = 6.846088886260986, Accuracy = 78.850575%\n",
      "Training Epoch 5: Loss = 28.804597705602646, Accuracy = 68.659658%\n",
      "Validation Epoch 5: Loss = 7.560451507568359, Accuracy = 71.954023%\n",
      "Training Epoch 6: Loss = 28.09718006849289, Accuracy = 69.645204%\n",
      "Validation Epoch 6: Loss = 6.630341529846191, Accuracy = 76.321839%\n",
      "Training Epoch 7: Loss = 27.78751254081726, Accuracy = 69.119580%\n",
      "Validation Epoch 7: Loss = 6.463962554931641, Accuracy = 80.689655%\n",
      "Training Epoch 8: Loss = 27.31101280450821, Accuracy = 71.024967%\n",
      "Validation Epoch 8: Loss = 6.603482723236084, Accuracy = 76.321839%\n",
      "Training Epoch 9: Loss = 27.67468962073326, Accuracy = 69.645204%\n",
      "Validation Epoch 9: Loss = 6.567677974700928, Accuracy = 79.080460%\n",
      "Training Epoch 10: Loss = 27.200070172548294, Accuracy = 71.287779%\n",
      "Validation Epoch 10: Loss = 7.548840045928955, Accuracy = 68.045977%\n",
      "Training Epoch 11: Loss = 27.523890554904938, Accuracy = 68.593955%\n",
      "Validation Epoch 11: Loss = 6.040225505828857, Accuracy = 78.390805%\n",
      "Training Epoch 12: Loss = 27.377905130386353, Accuracy = 70.696452%\n",
      "Validation Epoch 12: Loss = 6.506730079650879, Accuracy = 79.080460%\n",
      "Training Epoch 13: Loss = 25.364114314317703, Accuracy = 73.718791%\n",
      "Validation Epoch 13: Loss = 6.1634063720703125, Accuracy = 77.241379%\n",
      "Training Epoch 14: Loss = 25.722328305244446, Accuracy = 72.733246%\n",
      "Validation Epoch 14: Loss = 6.139115333557129, Accuracy = 80.000000%\n",
      "Training Epoch 15: Loss = 25.621497601270676, Accuracy = 74.507227%\n",
      "Validation Epoch 15: Loss = 6.238430023193359, Accuracy = 76.781609%\n",
      "Training Epoch 16: Loss = 26.173332184553146, Accuracy = 72.536137%\n",
      "Validation Epoch 16: Loss = 5.9825615882873535, Accuracy = 79.080460%\n",
      "Training Epoch 17: Loss = 24.981836438179016, Accuracy = 74.441524%\n",
      "Validation Epoch 17: Loss = 6.868467807769775, Accuracy = 74.022989%\n",
      "Training Epoch 18: Loss = 24.84501788020134, Accuracy = 74.310118%\n",
      "Validation Epoch 18: Loss = 5.4880805015563965, Accuracy = 80.459770%\n",
      "Training Epoch 19: Loss = 24.537111192941666, Accuracy = 74.770039%\n",
      "Validation Epoch 19: Loss = 5.83403205871582, Accuracy = 80.000000%\n"
     ]
    },
    {
     "name": "stderr",
     "output_type": "stream",
     "text": [
      "/opt/anaconda3/envs/dermlens/lib/python3.12/site-packages/sklearn/metrics/_classification.py:1509: UndefinedMetricWarning: Precision is ill-defined and being set to 0.0 due to no predicted samples. Use `zero_division` parameter to control this behavior.\n",
      "  _warn_prf(average, modifier, f\"{metric.capitalize()} is\", len(result))\n"
     ]
    },
    {
     "name": "stdout",
     "output_type": "stream",
     "text": [
      "Batch 0: Accuracy = 100.000000%, Recall = 0.000000%, Precision = 0.000000%\n",
      "Batch 1: Accuracy = 84.375000%, Recall = 0.000000%, Precision = 0.000000%\n",
      "Batch 2: Accuracy = 84.375000%, Recall = 0.000000%, Precision = 0.000000%\n",
      "Batch 3: Accuracy = 75.000000%, Recall = 65.000000%, Precision = 92.857143%\n",
      "Batch 4: Accuracy = 65.625000%, Recall = 65.625000%, Precision = 100.000000%\n",
      "Batch 5: Accuracy = 84.375000%, Recall = 84.375000%, Precision = 100.000000%\n",
      "Batch 6: Accuracy = 61.904762%, Recall = 61.904762%, Precision = 100.000000%\n"
     ]
    },
    {
     "data": {
      "application/vnd.jupyter.widget-view+json": {
       "model_id": "381c838d72fd4275b051da5103ea46d2",
       "version_major": 2,
       "version_minor": 0
      },
      "text/plain": [
       "VBox(children=(Label(value='0.001 MB of 0.001 MB uploaded\\r'), FloatProgress(value=1.0, max=1.0)))"
      ]
     },
     "metadata": {},
     "output_type": "display_data"
    },
    {
     "data": {
      "text/html": [
       "<style>\n",
       "    table.wandb td:nth-child(1) { padding: 0 10px; text-align: left ; width: auto;} td:nth-child(2) {text-align: left ; width: 100%}\n",
       "    .wandb-row { display: flex; flex-direction: row; flex-wrap: wrap; justify-content: flex-start; width: 100% }\n",
       "    .wandb-col { display: flex; flex-direction: column; flex-basis: 100%; flex: 1; padding: 10px; }\n",
       "    </style>\n",
       "<div class=\"wandb-row\"><div class=\"wandb-col\"><h3>Run history:</h3><br/><table class=\"wandb\"><tr><td>test/accuracy</td><td>▁</td></tr><tr><td>train/accuracy</td><td>▁▃▄▅▅▅▆▆▆▆▆▅▆█▇█▇███</td></tr><tr><td>train/loss</td><td>█▆▅▅▄▄▄▃▃▃▃▃▃▂▂▂▂▁▁▁</td></tr><tr><td>validation/accuracy</td><td>▁▄▅▆▇▅▇█▇█▄▇█▇█▇█▆██</td></tr><tr><td>validation/loss</td><td>█▇▆▅▄▅▃▃▃▃▅▂▃▂▂▂▂▄▁▂</td></tr></table><br/></div><div class=\"wandb-col\"><h3>Run summary:</h3><br/><table class=\"wandb\"><tr><td>test/accuracy</td><td>0.80282</td></tr><tr><td>train/accuracy</td><td>0.7477</td></tr><tr><td>train/loss</td><td>24.53711</td></tr><tr><td>validation/accuracy</td><td>0.8</td></tr><tr><td>validation/loss</td><td>5.83403</td></tr></table><br/></div></div>"
      ],
      "text/plain": [
       "<IPython.core.display.HTML object>"
      ]
     },
     "metadata": {},
     "output_type": "display_data"
    },
    {
     "data": {
      "text/html": [
       " View run <strong style=\"color:#cdcd00\">bright-bee-37</strong> at: <a href='https://wandb.ai/shenderm/conv4-sc2000/runs/ctycedkb' target=\"_blank\">https://wandb.ai/shenderm/conv4-sc2000/runs/ctycedkb</a><br/> View project at: <a href='https://wandb.ai/shenderm/conv4-sc2000' target=\"_blank\">https://wandb.ai/shenderm/conv4-sc2000</a><br/>Synced 6 W&B file(s), 0 media file(s), 0 artifact file(s) and 0 other file(s)"
      ],
      "text/plain": [
       "<IPython.core.display.HTML object>"
      ]
     },
     "metadata": {},
     "output_type": "display_data"
    },
    {
     "data": {
      "text/html": [
       "Find logs at: <code>./wandb/run-20240605_154054-ctycedkb/logs</code>"
      ],
      "text/plain": [
       "<IPython.core.display.HTML object>"
      ]
     },
     "metadata": {},
     "output_type": "display_data"
    }
   ],
   "source": [
    "cm = ensemble('conv4-sc2000', config_dict, 5)"
   ]
  },
  {
   "cell_type": "code",
   "execution_count": 10,
   "metadata": {},
   "outputs": [
    {
     "data": {
      "text/plain": [
       "<sklearn.metrics._plot.confusion_matrix.ConfusionMatrixDisplay at 0x2975a2870>"
      ]
     },
     "execution_count": 10,
     "metadata": {},
     "output_type": "execute_result"
    },
    {
     "data": {
      "image/png": "[encoded data removed]",
      "text/plain": [
       "<Figure size 640x480 with 2 Axes>"
      ]
     },
     "metadata": {},
     "output_type": "display_data"
    }
   ],
   "source": [
    "display = ConfusionMatrixDisplay(cm, display_labels=[\"active\", \"inactive\"])\n",
    "display.plot()"
   ]
  },
  {
   "cell_type": "markdown",
   "metadata": {},
   "source": [
    "### Run pipeline once"
   ]
  },
  {
   "cell_type": "code",
   "execution_count": 12,
   "metadata": {},
   "outputs": [
    {
     "data": {
      "text/html": [
       "Tracking run with wandb version 0.17.0"
      ],
      "text/plain": [
       "<IPython.core.display.HTML object>"
      ]
     },
     "metadata": {},
     "output_type": "display_data"
    },
    {
     "data": {
      "text/html": [
       "Run data is saved locally in <code>/Users/shenderm/Desktop/dermlens_code/wandb/run-20240604_122606-4lidxw4u</code>"
      ],
      "text/plain": [
       "<IPython.core.display.HTML object>"
      ]
     },
     "metadata": {},
     "output_type": "display_data"
    },
    {
     "data": {
      "text/html": [
       "Syncing run <strong><a href='https://wandb.ai/shenderm/conv4-sc2000/runs/4lidxw4u' target=\"_blank\">kind-fire-27</a></strong> to <a href='https://wandb.ai/shenderm/conv4-sc2000' target=\"_blank\">Weights & Biases</a> (<a href='https://wandb.me/run' target=\"_blank\">docs</a>)<br/>"
      ],
      "text/plain": [
       "<IPython.core.display.HTML object>"
      ]
     },
     "metadata": {},
     "output_type": "display_data"
    },
    {
     "data": {
      "text/html": [
       " View project at <a href='https://wandb.ai/shenderm/conv4-sc2000' target=\"_blank\">https://wandb.ai/shenderm/conv4-sc2000</a>"
      ],
      "text/plain": [
       "<IPython.core.display.HTML object>"
      ]
     },
     "metadata": {},
     "output_type": "display_data"
    },
    {
     "data": {
      "text/html": [
       " View run at <a href='https://wandb.ai/shenderm/conv4-sc2000/runs/4lidxw4u' target=\"_blank\">https://wandb.ai/shenderm/conv4-sc2000/runs/4lidxw4u</a>"
      ],
      "text/plain": [
       "<IPython.core.display.HTML object>"
      ]
     },
     "metadata": {},
     "output_type": "display_data"
    },
    {
     "name": "stdout",
     "output_type": "stream",
     "text": [
      "lin2 conv4\n",
      "Sequential(\n",
      "  (0): Conv4(\n",
      "    (layer1): Sequential(\n",
      "      (0): Conv2d(3, 64, kernel_size=(3, 3), stride=(1, 1), padding=(1, 1))\n",
      "      (1): ReLU()\n",
      "      (2): BatchNorm2d(64, eps=1e-05, momentum=0.1, affine=True, track_running_stats=True)\n",
      "      (3): AvgPool2d(kernel_size=2, stride=2, padding=0)\n",
      "    )\n",
      "    (layer2): Sequential(\n",
      "      (0): Conv2d(64, 128, kernel_size=(3, 3), stride=(1, 1), padding=(1, 1))\n",
      "      (1): ReLU()\n",
      "      (2): BatchNorm2d(128, eps=1e-05, momentum=0.1, affine=True, track_running_stats=True)\n",
      "      (3): AvgPool2d(kernel_size=2, stride=2, padding=0)\n",
      "    )\n",
      "    (layer3): Sequential(\n",
      "      (0): Conv2d(128, 256, kernel_size=(3, 3), stride=(1, 1), padding=(1, 1))\n",
      "      (1): BatchNorm2d(256, eps=1e-05, momentum=0.1, affine=True, track_running_stats=True)\n",
      "      (2): ReLU()\n",
      "      (3): AvgPool2d(kernel_size=2, stride=2, padding=0)\n",
      "    )\n",
      "    (layer4): Sequential(\n",
      "      (0): Conv2d(256, 512, kernel_size=(3, 3), stride=(1, 1), padding=(1, 1))\n",
      "      (1): BatchNorm2d(512, eps=1e-05, momentum=0.1, affine=True, track_running_stats=True)\n",
      "      (2): ReLU()\n",
      "    )\n",
      "  )\n",
      "  (1): Lin2(\n",
      "    (fc1): Linear(in_features=512, out_features=100, bias=True)\n",
      "    (act1): ReLU()\n",
      "    (dropout1): Dropout(p=0.5, inplace=False)\n",
      "    (fc2): Linear(in_features=100, out_features=2, bias=True)\n",
      "  )\n",
      ")\n"
     ]
    },
    {
     "data": {
      "application/vnd.jupyter.widget-view+json": {
       "model_id": "a745402a7c43472485c559ea14bfe4f5",
       "version_major": 2,
       "version_minor": 0
      },
      "text/plain": [
       "  0%|          | 0/20 [00:00<?, ?it/s]"
      ]
     },
     "metadata": {},
     "output_type": "display_data"
    },
    {
     "name": "stdout",
     "output_type": "stream",
     "text": [
      "Training Epoch 0: Loss = 35.64788430929184, Accuracy = 50.854139%\n",
      "Validation Epoch 0: Loss = 9.652990341186523, Accuracy = 54.712644%\n",
      "Training Epoch 1: Loss = 32.9249906539917, Accuracy = 52.956636%\n",
      "Validation Epoch 1: Loss = 9.060675621032715, Accuracy = 64.597701%\n",
      "Training Epoch 2: Loss = 31.85523223876953, Accuracy = 57.884363%\n",
      "Validation Epoch 2: Loss = 8.713546752929688, Accuracy = 66.206897%\n",
      "Training Epoch 3: Loss = 30.586967527866364, Accuracy = 63.534823%\n",
      "Validation Epoch 3: Loss = 8.02983283996582, Accuracy = 73.333333%\n",
      "Training Epoch 4: Loss = 29.751200050115585, Accuracy = 64.191853%\n",
      "Validation Epoch 4: Loss = 7.244480133056641, Accuracy = 76.551724%\n",
      "Training Epoch 5: Loss = 29.169901311397552, Accuracy = 67.477004%\n",
      "Validation Epoch 5: Loss = 7.197332382202148, Accuracy = 79.540230%\n",
      "Training Epoch 6: Loss = 29.053949803113937, Accuracy = 67.017083%\n",
      "Validation Epoch 6: Loss = 7.179614543914795, Accuracy = 74.712644%\n",
      "Training Epoch 7: Loss = 28.788114458322525, Accuracy = 67.936925%\n",
      "Validation Epoch 7: Loss = 7.741902828216553, Accuracy = 72.413793%\n",
      "Training Epoch 8: Loss = 28.50737103819847, Accuracy = 68.593955%\n",
      "Validation Epoch 8: Loss = 6.8724589347839355, Accuracy = 77.011494%\n",
      "Training Epoch 9: Loss = 28.532356470823288, Accuracy = 68.593955%\n",
      "Validation Epoch 9: Loss = 6.816164970397949, Accuracy = 76.091954%\n",
      "Training Epoch 10: Loss = 27.20375907421112, Accuracy = 70.499343%\n",
      "Validation Epoch 10: Loss = 6.7406158447265625, Accuracy = 81.379310%\n",
      "Training Epoch 11: Loss = 26.46894583106041, Accuracy = 71.681997%\n",
      "Validation Epoch 11: Loss = 6.18874979019165, Accuracy = 76.781609%\n",
      "Training Epoch 12: Loss = 25.921440452337265, Accuracy = 71.747700%\n",
      "Validation Epoch 12: Loss = 6.297497272491455, Accuracy = 78.620690%\n",
      "Training Epoch 13: Loss = 26.997083604335785, Accuracy = 72.273325%\n",
      "Validation Epoch 13: Loss = 5.837316513061523, Accuracy = 80.000000%\n",
      "Training Epoch 14: Loss = 26.43532994389534, Accuracy = 70.893561%\n",
      "Validation Epoch 14: Loss = 6.372805595397949, Accuracy = 80.000000%\n",
      "Training Epoch 15: Loss = 25.735208123922348, Accuracy = 73.915900%\n",
      "Validation Epoch 15: Loss = 6.549703598022461, Accuracy = 76.091954%\n",
      "Training Epoch 16: Loss = 25.998090535402298, Accuracy = 74.178712%\n",
      "Validation Epoch 16: Loss = 6.004472255706787, Accuracy = 78.390805%\n",
      "Training Epoch 17: Loss = 25.95913228392601, Accuracy = 73.915900%\n",
      "Validation Epoch 17: Loss = 6.206499099731445, Accuracy = 77.701149%\n",
      "Training Epoch 18: Loss = 25.84245479106903, Accuracy = 73.127464%\n",
      "Validation Epoch 18: Loss = 6.083488941192627, Accuracy = 77.701149%\n",
      "Training Epoch 19: Loss = 26.182734549045563, Accuracy = 72.798949%\n",
      "Validation Epoch 19: Loss = 5.530623435974121, Accuracy = 81.609195%\n",
      "Batch 0: Accuracy = 96.875000%, Recall = 0.000000%, Precision = 0.000000%\n",
      "Batch 1: Accuracy = 84.375000%, Recall = 0.000000%, Precision = 0.000000%\n",
      "Batch 2: Accuracy = 75.000000%, Recall = 0.000000%, Precision = 0.000000%\n",
      "Batch 3: Accuracy = 78.125000%, Recall = 70.000000%, Precision = 93.333333%\n",
      "Batch 4: Accuracy = 65.625000%, Recall = 65.625000%, Precision = 100.000000%\n",
      "Batch 5: Accuracy = 84.375000%, Recall = 84.375000%, Precision = 100.000000%\n",
      "Batch 6: Accuracy = 66.666667%, Recall = 66.666667%, Precision = 100.000000%\n"
     ]
    },
    {
     "data": {
      "application/vnd.jupyter.widget-view+json": {
       "model_id": "356382f2fba04407bced69c728a21b61",
       "version_major": 2,
       "version_minor": 0
      },
      "text/plain": [
       "VBox(children=(Label(value='0.001 MB of 0.001 MB uploaded\\r'), FloatProgress(value=1.0, max=1.0)))"
      ]
     },
     "metadata": {},
     "output_type": "display_data"
    },
    {
     "data": {
      "text/html": [
       "<style>\n",
       "    table.wandb td:nth-child(1) { padding: 0 10px; text-align: left ; width: auto;} td:nth-child(2) {text-align: left ; width: 100%}\n",
       "    .wandb-row { display: flex; flex-direction: row; flex-wrap: wrap; justify-content: flex-start; width: 100% }\n",
       "    .wandb-col { display: flex; flex-direction: column; flex-basis: 100%; flex: 1; padding: 10px; }\n",
       "    </style>\n",
       "<div class=\"wandb-row\"><div class=\"wandb-col\"><h3>Run history:</h3><br/><table class=\"wandb\"><tr><td>test/accuracy</td><td>▁</td></tr><tr><td>train/accuracy</td><td>▁▂▃▅▅▆▆▆▆▆▇▇▇▇▇█████</td></tr><tr><td>train/loss</td><td>█▆▅▄▄▃▃▃▃▃▂▂▁▂▁▁▁▁▁▁</td></tr><tr><td>validation/accuracy</td><td>▁▄▄▆▇▇▆▆▇▇█▇▇██▇▇▇▇█</td></tr><tr><td>validation/loss</td><td>█▇▆▅▄▄▄▅▃▃▃▂▂▂▂▃▂▂▂▁</td></tr></table><br/></div><div class=\"wandb-col\"><h3>Run summary:</h3><br/><table class=\"wandb\"><tr><td>test/accuracy</td><td>0.79343</td></tr><tr><td>train/accuracy</td><td>0.72799</td></tr><tr><td>train/loss</td><td>26.18273</td></tr><tr><td>validation/accuracy</td><td>0.81609</td></tr><tr><td>validation/loss</td><td>5.53062</td></tr></table><br/></div></div>"
      ],
      "text/plain": [
       "<IPython.core.display.HTML object>"
      ]
     },
     "metadata": {},
     "output_type": "display_data"
    },
    {
     "data": {
      "text/html": [
       " View run <strong style=\"color:#cdcd00\">kind-fire-27</strong> at: <a href='https://wandb.ai/shenderm/conv4-sc2000/runs/4lidxw4u' target=\"_blank\">https://wandb.ai/shenderm/conv4-sc2000/runs/4lidxw4u</a><br/> View project at: <a href='https://wandb.ai/shenderm/conv4-sc2000' target=\"_blank\">https://wandb.ai/shenderm/conv4-sc2000</a><br/>Synced 6 W&B file(s), 0 media file(s), 0 artifact file(s) and 0 other file(s)"
      ],
      "text/plain": [
       "<IPython.core.display.HTML object>"
      ]
     },
     "metadata": {},
     "output_type": "display_data"
    },
    {
     "data": {
      "text/html": [
       "Find logs at: <code>./wandb/run-20240604_122606-4lidxw4u/logs</code>"
      ],
      "text/plain": [
       "<IPython.core.display.HTML object>"
      ]
     },
     "metadata": {},
     "output_type": "display_data"
    },
    {
     "data": {
      "image/png": "[encoded data removed]",
      "text/plain": [
       "<Figure size 640x480 with 2 Axes>"
      ]
     },
     "metadata": {},
     "output_type": "display_data"
    }
   ],
   "source": [
    "model_pipeline('conv4-sc2000', config_dict)"
   ]
  },
  {
   "cell_type": "markdown",
   "metadata": {},
   "source": [
    "# 3 Convolution + 2 Fully Connected Layers"
   ]
  },
  {
   "cell_type": "markdown",
   "metadata": {},
   "source": [
    "### Hyperparameter configuration"
   ]
  },
  {
   "cell_type": "code",
   "execution_count": 50,
   "metadata": {},
   "outputs": [],
   "source": [
    "config_dict = dict(\n",
    "    learning_rate = 0.001,\n",
    "    epochs = 20,\n",
    "    batch_size = 32,\n",
    "    conv_model = \"conv3\",\n",
    "    fc_model = \"lin2\",\n",
    "    normalize = \"SC-2000\",\n",
    "    c1_out = 64,\n",
    "    c2_out = 128,\n",
    "    c3_out = 256,\n",
    "    fc1_in = 256,\n",
    "    fc2_in = 100,\n",
    "    fc3_in = 50,\n",
    "    output = 2,\n",
    "    dropout_rate = 0.5,\n",
    "    dataset = \"SC-2000\",\n",
    "    train_aug = True,\n",
    "    device = \"mps\",\n",
    "    save_as = 'pth'\n",
    ")"
   ]
  },
  {
   "cell_type": "markdown",
   "metadata": {},
   "source": [
    "### Run pipeline"
   ]
  },
  {
   "cell_type": "code",
   "execution_count": 51,
   "metadata": {},
   "outputs": [
    {
     "data": {
      "text/html": [
       "Tracking run with wandb version 0.17.0"
      ],
      "text/plain": [
       "<IPython.core.display.HTML object>"
      ]
     },
     "metadata": {},
     "output_type": "display_data"
    },
    {
     "data": {
      "text/html": [
       "Run data is saved locally in <code>/Users/shenderm/Desktop/dermlens_code/wandb/run-20240603_182454-wey0d4lk</code>"
      ],
      "text/plain": [
       "<IPython.core.display.HTML object>"
      ]
     },
     "metadata": {},
     "output_type": "display_data"
    },
    {
     "data": {
      "text/html": [
       "Syncing run <strong><a href='https://wandb.ai/shenderm/conv3-sc2000/runs/wey0d4lk' target=\"_blank\">helpful-firebrand-27</a></strong> to <a href='https://wandb.ai/shenderm/conv3-sc2000' target=\"_blank\">Weights & Biases</a> (<a href='https://wandb.me/run' target=\"_blank\">docs</a>)<br/>"
      ],
      "text/plain": [
       "<IPython.core.display.HTML object>"
      ]
     },
     "metadata": {},
     "output_type": "display_data"
    },
    {
     "data": {
      "text/html": [
       " View project at <a href='https://wandb.ai/shenderm/conv3-sc2000' target=\"_blank\">https://wandb.ai/shenderm/conv3-sc2000</a>"
      ],
      "text/plain": [
       "<IPython.core.display.HTML object>"
      ]
     },
     "metadata": {},
     "output_type": "display_data"
    },
    {
     "data": {
      "text/html": [
       " View run at <a href='https://wandb.ai/shenderm/conv3-sc2000/runs/wey0d4lk' target=\"_blank\">https://wandb.ai/shenderm/conv3-sc2000/runs/wey0d4lk</a>"
      ],
      "text/plain": [
       "<IPython.core.display.HTML object>"
      ]
     },
     "metadata": {},
     "output_type": "display_data"
    },
    {
     "name": "stdout",
     "output_type": "stream",
     "text": [
      "lin2 conv3\n",
      "Sequential(\n",
      "  (0): Conv3(\n",
      "    (layer1): Sequential(\n",
      "      (0): Conv2d(3, 64, kernel_size=(7, 7), stride=(1, 1), padding=(1, 1))\n",
      "      (1): ReLU()\n",
      "      (2): BatchNorm2d(64, eps=1e-05, momentum=0.1, affine=True, track_running_stats=True)\n",
      "      (3): AvgPool2d(kernel_size=2, stride=2, padding=0)\n",
      "    )\n",
      "    (layer2): Sequential(\n",
      "      (0): Conv2d(64, 128, kernel_size=(3, 3), stride=(1, 1), padding=(1, 1))\n",
      "      (1): ReLU()\n",
      "      (2): BatchNorm2d(128, eps=1e-05, momentum=0.1, affine=True, track_running_stats=True)\n",
      "      (3): AvgPool2d(kernel_size=2, stride=2, padding=0)\n",
      "    )\n",
      "    (layer3): Sequential(\n",
      "      (0): Conv2d(128, 256, kernel_size=(3, 3), stride=(1, 1), padding=(1, 1))\n",
      "      (1): BatchNorm2d(256, eps=1e-05, momentum=0.1, affine=True, track_running_stats=True)\n",
      "      (2): ReLU()\n",
      "    )\n",
      "  )\n",
      "  (1): Lin2(\n",
      "    (fc1): Linear(in_features=256, out_features=100, bias=True)\n",
      "    (act1): ReLU()\n",
      "    (dropout1): Dropout(p=0.5, inplace=False)\n",
      "    (fc2): Linear(in_features=100, out_features=2, bias=True)\n",
      "  )\n",
      ")\n"
     ]
    },
    {
     "data": {
      "application/vnd.jupyter.widget-view+json": {
       "model_id": "338d5d526a2b49cea411b64d7a0b5f9c",
       "version_major": 2,
       "version_minor": 0
      },
      "text/plain": [
       "  0%|          | 0/20 [00:00<?, ?it/s]"
      ]
     },
     "metadata": {},
     "output_type": "display_data"
    },
    {
     "name": "stdout",
     "output_type": "stream",
     "text": [
      "Training Epoch 0: Loss = 33.8948677778244, Accuracy = 50.358306%\n",
      "Validation Epoch 0: Loss = 9.53052806854248, Accuracy = 61.149425%\n",
      "Training Epoch 1: Loss = 33.24182951450348, Accuracy = 52.573290%\n",
      "Validation Epoch 1: Loss = 9.272360801696777, Accuracy = 61.839080%\n",
      "Training Epoch 2: Loss = 33.094289898872375, Accuracy = 55.048860%\n",
      "Validation Epoch 2: Loss = 9.576562881469727, Accuracy = 56.781609%\n",
      "Training Epoch 3: Loss = 33.13936221599579, Accuracy = 55.765472%\n",
      "Validation Epoch 3: Loss = 9.515780448913574, Accuracy = 56.551724%\n",
      "Training Epoch 4: Loss = 32.80048751831055, Accuracy = 56.026059%\n",
      "Validation Epoch 4: Loss = 9.407020568847656, Accuracy = 59.310345%\n",
      "Training Epoch 5: Loss = 32.63172489404678, Accuracy = 57.719870%\n",
      "Validation Epoch 5: Loss = 9.204687118530273, Accuracy = 61.609195%\n",
      "Training Epoch 6: Loss = 32.9735044836998, Accuracy = 55.114007%\n",
      "Validation Epoch 6: Loss = 9.092361450195312, Accuracy = 66.896552%\n",
      "Training Epoch 7: Loss = 32.53997951745987, Accuracy = 58.110749%\n",
      "Validation Epoch 7: Loss = 9.25240707397461, Accuracy = 58.850575%\n",
      "Training Epoch 8: Loss = 32.176682233810425, Accuracy = 57.263844%\n",
      "Validation Epoch 8: Loss = 9.214147567749023, Accuracy = 61.379310%\n",
      "Training Epoch 9: Loss = 32.343700528144836, Accuracy = 59.283388%\n",
      "Validation Epoch 9: Loss = 9.009061813354492, Accuracy = 65.517241%\n",
      "Training Epoch 10: Loss = 31.713069319725037, Accuracy = 60.716612%\n",
      "Validation Epoch 10: Loss = 8.73088550567627, Accuracy = 67.356322%\n",
      "Training Epoch 11: Loss = 32.378640711307526, Accuracy = 58.110749%\n",
      "Validation Epoch 11: Loss = 8.781120300292969, Accuracy = 65.287356%\n",
      "Training Epoch 12: Loss = 32.05619651079178, Accuracy = 60.195440%\n",
      "Validation Epoch 12: Loss = 9.080794334411621, Accuracy = 61.149425%\n",
      "Training Epoch 13: Loss = 31.60711658000946, Accuracy = 62.019544%\n",
      "Validation Epoch 13: Loss = 8.739295959472656, Accuracy = 65.977011%\n",
      "Training Epoch 14: Loss = 31.63837468624115, Accuracy = 61.433225%\n",
      "Validation Epoch 14: Loss = 8.549873352050781, Accuracy = 67.126437%\n",
      "Training Epoch 15: Loss = 31.78432035446167, Accuracy = 60.000000%\n",
      "Validation Epoch 15: Loss = 8.913997650146484, Accuracy = 66.436782%\n",
      "Training Epoch 16: Loss = 30.8949875831604, Accuracy = 64.299674%\n",
      "Validation Epoch 16: Loss = 8.200190544128418, Accuracy = 74.712644%\n",
      "Training Epoch 17: Loss = 31.29808682203293, Accuracy = 62.801303%\n",
      "Validation Epoch 17: Loss = 8.32080364227295, Accuracy = 70.114943%\n",
      "Training Epoch 18: Loss = 31.06673389673233, Accuracy = 62.410423%\n",
      "Validation Epoch 18: Loss = 8.409306526184082, Accuracy = 69.195402%\n",
      "Training Epoch 19: Loss = 31.072969436645508, Accuracy = 63.648208%\n",
      "Validation Epoch 19: Loss = 8.23366641998291, Accuracy = 74.252874%\n",
      "Batch 0: Accuracy = 81.250000%, Recall = 0.000000%, Precision = 0.000000%\n",
      "Batch 1: Accuracy = 90.625000%, Recall = 0.000000%, Precision = 0.000000%\n",
      "Batch 2: Accuracy = 68.750000%, Recall = 0.000000%, Precision = 0.000000%\n",
      "Batch 3: Accuracy = 81.250000%, Recall = 71.428571%, Precision = 100.000000%\n",
      "Batch 4: Accuracy = 59.375000%, Recall = 59.375000%, Precision = 100.000000%\n",
      "Batch 5: Accuracy = 68.750000%, Recall = 68.750000%, Precision = 100.000000%\n",
      "Batch 6: Accuracy = 75.000000%, Recall = 75.000000%, Precision = 100.000000%\n"
     ]
    },
    {
     "data": {
      "application/vnd.jupyter.widget-view+json": {
       "model_id": "4e28fcb84d2a4e80bea96518c1a82644",
       "version_major": 2,
       "version_minor": 0
      },
      "text/plain": [
       "VBox(children=(Label(value='0.001 MB of 0.072 MB uploaded\\r'), FloatProgress(value=0.010134461157882137, max=1…"
      ]
     },
     "metadata": {},
     "output_type": "display_data"
    },
    {
     "data": {
      "text/html": [
       "<style>\n",
       "    table.wandb td:nth-child(1) { padding: 0 10px; text-align: left ; width: auto;} td:nth-child(2) {text-align: left ; width: 100%}\n",
       "    .wandb-row { display: flex; flex-direction: row; flex-wrap: wrap; justify-content: flex-start; width: 100% }\n",
       "    .wandb-col { display: flex; flex-direction: column; flex-basis: 100%; flex: 1; padding: 10px; }\n",
       "    </style>\n",
       "<div class=\"wandb-row\"><div class=\"wandb-col\"><h3>Run history:</h3><br/><table class=\"wandb\"><tr><td>test/accuracy</td><td>▁</td></tr><tr><td>train/accuracy</td><td>▁▂▃▄▄▅▃▅▄▅▆▅▆▇▇▆█▇▇█</td></tr><tr><td>train/loss</td><td>█▆▆▆▅▅▆▅▄▄▃▄▄▃▃▃▁▂▁▁</td></tr><tr><td>validation/accuracy</td><td>▃▃▁▁▂▃▅▂▃▄▅▄▃▅▅▅█▆▆█</td></tr><tr><td>validation/loss</td><td>█▆██▇▆▆▆▆▅▄▄▅▄▃▅▁▂▂▁</td></tr></table><br/></div><div class=\"wandb-col\"><h3>Run summary:</h3><br/><table class=\"wandb\"><tr><td>test/accuracy</td><td>0.75</td></tr><tr><td>train/accuracy</td><td>0.63648</td></tr><tr><td>train/loss</td><td>31.07297</td></tr><tr><td>validation/accuracy</td><td>0.74253</td></tr><tr><td>validation/loss</td><td>8.23367</td></tr></table><br/></div></div>"
      ],
      "text/plain": [
       "<IPython.core.display.HTML object>"
      ]
     },
     "metadata": {},
     "output_type": "display_data"
    },
    {
     "data": {
      "text/html": [
       " View run <strong style=\"color:#cdcd00\">helpful-firebrand-27</strong> at: <a href='https://wandb.ai/shenderm/conv3-sc2000/runs/wey0d4lk' target=\"_blank\">https://wandb.ai/shenderm/conv3-sc2000/runs/wey0d4lk</a><br/> View project at: <a href='https://wandb.ai/shenderm/conv3-sc2000' target=\"_blank\">https://wandb.ai/shenderm/conv3-sc2000</a><br/>Synced 6 W&B file(s), 0 media file(s), 0 artifact file(s) and 0 other file(s)"
      ],
      "text/plain": [
       "<IPython.core.display.HTML object>"
      ]
     },
     "metadata": {},
     "output_type": "display_data"
    },
    {
     "data": {
      "text/html": [
       "Find logs at: <code>./wandb/run-20240603_182454-wey0d4lk/logs</code>"
      ],
      "text/plain": [
       "<IPython.core.display.HTML object>"
      ]
     },
     "metadata": {},
     "output_type": "display_data"
    },
    {
     "data": {
      "image/png": "[encoded data removed]",
      "text/plain": [
       "<Figure size 640x480 with 2 Axes>"
      ]
     },
     "metadata": {},
     "output_type": "display_data"
    }
   ],
   "source": [
    "model_pipeline('conv3-sc2000', config_dict)"
   ]
  },
  {
   "cell_type": "markdown",
   "metadata": {},
   "source": [
    "# Sweep"
   ]
  },
  {
   "cell_type": "markdown",
   "metadata": {},
   "source": [
    "**[To Create a New Sweep](https://docs.wandb.ai/ref/cli/wandb-sweep)**\n",
    "\n",
    "``wandb sweep -p projectname sweep_configs/config.yaml``"
   ]
  },
  {
   "cell_type": "code",
   "execution_count": null,
   "metadata": {},
   "outputs": [],
   "source": [
    "def sweep_pipeline(config=None):\n",
    "    with wandb.init(config=config):\n",
    "        config = wandb.config\n",
    "\n",
    "        model, train_loader, valid_loader, test_loader, criterion, optimizer = make(config)\n",
    "\n",
    "        # and use them to train the model\n",
    "        train(model, train_loader, valid_loader, criterion, optimizer, config)\n",
    "\n",
    "        # and test its final performance\n",
    "        test(model, test_loader, config)\n",
    "\n",
    "    return model"
   ]
  },
  {
   "cell_type": "markdown",
   "metadata": {},
   "source": [
    "Replace with the desired sweep and project"
   ]
  },
  {
   "cell_type": "code",
   "execution_count": null,
   "metadata": {},
   "outputs": [],
   "source": [
    "sweep_id = 'your-id-here'\n",
    "project = 'conv4-sc2000'"
   ]
  },
  {
   "cell_type": "code",
   "execution_count": null,
   "metadata": {},
   "outputs": [],
   "source": [
    "wandb.agent(sweep_id, sweep_pipeline, count=12, project=project)\n",
    "wandb.teardown()"
   ]
  }
 ],
 "metadata": {
  "kernelspec": {
   "display_name": "dermlens",
   "language": "python",
   "name": "python3"
  },
  "language_info": {
   "codemirror_mode": {
    "name": "ipython",
    "version": 3
   },
   "file_extension": ".py",
   "mimetype": "text/x-python",
   "name": "python",
   "nbconvert_exporter": "python",
   "pygments_lexer": "ipython3",
   "version": "3.12.3"
  }
 },
 "nbformat": 4,
 "nbformat_minor": 2
}
