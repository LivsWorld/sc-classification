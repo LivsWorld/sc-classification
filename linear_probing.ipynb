{
 "cells": [
  {
   "cell_type": "markdown",
   "metadata": {},
   "source": [
    "## Prechecks"
   ]
  },
  {
   "cell_type": "code",
   "execution_count": 8,
   "metadata": {},
   "outputs": [],
   "source": [
    "import torch\n",
    "from timm import create_model"
   ]
  },
  {
   "cell_type": "markdown",
   "metadata": {},
   "source": [
    "### Check output shape from pretrained model"
   ]
  },
  {
   "cell_type": "code",
   "execution_count": 9,
   "metadata": {},
   "outputs": [
    {
     "name": "stdout",
     "output_type": "stream",
     "text": [
      "Feature shape:torch.Size([2, 1024, 7, 7])\n"
     ]
    }
   ],
   "source": [
    "m = create_model('densenet121', pretrained=True, num_classes=0, global_pool='avg')\n",
    "o = m(torch.randn(2, 3, 224, 224))\n",
    "o = m.forward_features(torch.randn(2, 3, 224, 224))\n",
    "print(f\"Feature shape:{o.shape}\")"
   ]
  },
  {
   "cell_type": "markdown",
   "metadata": {},
   "source": [
    "### Test if using MPS backend"
   ]
  },
  {
   "cell_type": "code",
   "execution_count": 22,
   "metadata": {},
   "outputs": [
    {
     "name": "stdout",
     "output_type": "stream",
     "text": [
      "tensor([1.], device='mps:0')\n"
     ]
    }
   ],
   "source": [
    "if __name__ == '__main__':\n",
    "  # Check if MPS backend is available in PyTorch\n",
    "  if torch.backends.mps.is_available():\n",
    "      # Create a vector on the MPS device\n",
    "      x = torch.ones(1, device='mps')\n",
    "      print(x)\n",
    "  else:\n",
    "      print('MPS device not found.')"
   ]
  },
  {
   "cell_type": "markdown",
   "metadata": {},
   "source": [
    "# Model Pipeline"
   ]
  },
  {
   "cell_type": "markdown",
   "metadata": {},
   "source": [
    "**Sources:**\n",
    "- [Training loop](https://machinelearningmastery.com/creating-a-training-loop-for-pytorch-models/)\n",
    "- [Freezing layers](https://stackoverflow.com/questions/62523912/freeze-certain-layers-of-an-existing-model-in-pytorch)\n",
    "- [timm](https://towardsdatascience.com/getting-started-with-pytorch-image-models-timm-a-practitioners-guide-4e77b4bf9055)\n",
    "- [Image transforms](https://pytorch.org/vision/stable/transforms.html)\n",
    "- [Transfer learning](https://www.learnpytorch.io/06_pytorch_transfer_learning/)\n",
    "- [MPS backend](https://stackoverflow.com/questions/77226100/snn-that-works-on-cpu-throws-mismatched-tensor-types-in-nnpack-convolutionoutpu)\n",
    "- [W&B Tutorial](https://colab.research.google.com/github/wandb/examples/blob/master/colabs/pytorch/Simple_PyTorch_Integration.ipynb#scrollTo=rmPkh7VRXdrr)"
   ]
  },
  {
   "cell_type": "markdown",
   "metadata": {},
   "source": [
    "### Import libraries"
   ]
  },
  {
   "cell_type": "code",
   "execution_count": 1,
   "metadata": {},
   "outputs": [],
   "source": [
    "import torch\n",
    "import random\n",
    "import wandb\n",
    "import os.path\n",
    "import numpy as np\n",
    "import torch.nn as nn\n",
    "import torch.optim as optim\n",
    "import helpers.fc_models as fc_models\n",
    "from timm import create_model\n",
    "from helpers.ImageFolderPathsIndices import get_dataloader\n",
    "from sklearn.metrics import accuracy_score, recall_score, precision_score, confusion_matrix, ConfusionMatrixDisplay\n",
    "from tqdm.auto import tqdm\n",
    "\n",
    "# Fix seed for reproducible results\n",
    "np.random.seed(2)\n",
    "torch.manual_seed(2)\n",
    "torch.backends.cudnn.deterministic = True\n",
    "torch.cuda.manual_seed_all(2)\n",
    "random.seed(2)"
   ]
  },
  {
   "cell_type": "markdown",
   "metadata": {},
   "source": [
    "### Define the model pipeline with WandB"
   ]
  },
  {
   "cell_type": "code",
   "execution_count": 2,
   "metadata": {},
   "outputs": [],
   "source": [
    "def model_pipeline(project, hyperparameters):\n",
    "    with wandb.init(project=project, config=hyperparameters):\n",
    "        config = wandb.config\n",
    "\n",
    "        fc_model, feat_extractor, train_loader, valid_loader, test_loader, criterion, optimizer = make(config)\n",
    "        print(config.fc_model, config.feat_extractor)\n",
    "        print(fc_model)\n",
    "        \n",
    "        # and use them to train the model\n",
    "        train(fc_model, feat_extractor, train_loader, valid_loader, criterion, optimizer, config)\n",
    "\n",
    "        # and test its final performance\n",
    "        return test(fc_model, feat_extractor, test_loader, config)"
   ]
  },
  {
   "cell_type": "markdown",
   "metadata": {},
   "source": [
    "### Handles initializing model for experiment"
   ]
  },
  {
   "cell_type": "code",
   "execution_count": 3,
   "metadata": {},
   "outputs": [],
   "source": [
    "def make(config):\n",
    "    # Create dataset loaders\n",
    "    # NOTE: returns a tuple with form (index, image, label, file_path)\n",
    "    train_loader = get_dataloader(config.dataset, config.batch_size, 'train', config.train_aug, config.normalize)\n",
    "    valid_loader = get_dataloader(config.dataset, config.batch_size, 'valid', config.train_aug, config.normalize)\n",
    "    test_loader = get_dataloader(config.dataset, config.batch_size, 'test', config.train_aug, config.normalize)\n",
    "\n",
    "    # Set feature size and if valid feature extractor provided\n",
    "    feat_extractor_names = ['resnet50d', 'mobilenetv2_100', 'densenet121']\n",
    "    if config.feat_extractor == 'resnet50d':\n",
    "        fc1_in = 2048\n",
    "    elif config.feat_extractor == 'mobilenetv2_100':\n",
    "        fc1_in = 1280\n",
    "    elif config.feat_extractor == 'densenet121':\n",
    "        fc1_in = 1024\n",
    "    else:\n",
    "        raise ValueError(f\"`feat_extractor` field of config should be one of {feat_extractor_names}\")\n",
    "    \n",
    "    # Load pretrained model as feature extractor\n",
    "    feat_extractor = create_model(config.feat_extractor, pretrained=True, global_pool='avg', num_classes=0)\n",
    "    for param in feat_extractor.parameters():\n",
    "        param.requires_grad = False\n",
    "    feat_extractor.eval()\n",
    "    feat_extractor.to(config.device)\n",
    "\n",
    "    # Set fc model\n",
    "    if config.fc_model == 'lin1':\n",
    "        fc_model = fc_models.Lin1(fc1_in, config.output)\n",
    "    elif config.fc_model == 'lin2':\n",
    "        fc_model = fc_models.Lin2(fc1_in, config.fc2_in, config.output, config.dropout_rate)\n",
    "    elif config.fc_model == 'lin3':\n",
    "        fc_model = fc_models.Lin3(fc1_in, config.fc2_in, config.fc3_in, config.output, config.dropout_rate)\n",
    "    else:\n",
    "        raise ValueError(f'`fc_model` field of config should be one of {fc_models.FC_NAMES}')\n",
    "    \n",
    "    # Send model to device\n",
    "    fc_model.to(config.device)\n",
    "\n",
    "    criterion = nn.CrossEntropyLoss()\n",
    "    \n",
    "    optimizer = optim.Adam(fc_model.parameters(), lr=config.learning_rate)\n",
    "    \n",
    "    return fc_model, feat_extractor, train_loader, valid_loader, test_loader, criterion, optimizer"
   ]
  },
  {
   "cell_type": "markdown",
   "metadata": {},
   "source": [
    "## Training loop"
   ]
  },
  {
   "cell_type": "code",
   "execution_count": 4,
   "metadata": {},
   "outputs": [],
   "source": [
    "def train(model, feat_extractor, train_loader, valid_loader, criterion, optimizer, config):\n",
    "    # Tell wandb to watch the model gradients and weights\n",
    "    wandb.watch(model, criterion, log=\"all\", log_freq=10)\n",
    "\n",
    "    for epoch in tqdm(range(config.epochs)):\n",
    "        model.train()\n",
    "        train_loss = 0.0\n",
    "        train_correct = 0\n",
    "        for _, images, labels, _ in train_loader:\n",
    "            # Send data to the same device as the model\n",
    "            images, labels = images.to(config.device), labels.to(config.device)\n",
    "            # Run through feature extractor (pre-trained model)\n",
    "            features = feat_extractor(images)\n",
    "            # Calculate loss and number of correct predictions\n",
    "            loss, correct = train_batch(features, labels, model, optimizer, criterion)\n",
    "            # Update counts\n",
    "            train_loss += loss\n",
    "            train_correct += correct\n",
    "        # Log training loss and accuracy\n",
    "        train_log(train_loss, train_correct / len(train_loader.dataset), epoch)\n",
    "\n",
    "        model.eval()\n",
    "        val_loss = 0.0\n",
    "        val_correct = 0\n",
    "        for _, images, labels, _ in valid_loader:\n",
    "            images, labels = images.to(config.device), labels.to(config.device)\n",
    "            features = feat_extractor(images)\n",
    "            loss, correct = val_batch(features, labels, model, criterion)\n",
    "            val_loss += loss\n",
    "            val_correct += correct\n",
    "        val_log(val_loss, val_correct / len(valid_loader.dataset), epoch)\n",
    "    \n",
    "    if config.save_as == 'pth':\n",
    "        torch.save(model.state_dict(), os.path.join('weights', f\"{config.feat_extractor}_{config.fc_model}.pth\"))\n"
   ]
  },
  {
   "cell_type": "code",
   "execution_count": 5,
   "metadata": {},
   "outputs": [],
   "source": [
    "def train_batch(images, labels, model, optimizer, criterion):\n",
    "    outputs = model(images)\n",
    "    loss = criterion(outputs, labels)\n",
    "    optimizer.zero_grad()\n",
    "    loss.backward()\n",
    "    optimizer.step()\n",
    "\n",
    "    # Calculate number of correct predictions for batch\n",
    "    _,predicted = torch.max(outputs.data, 1)\n",
    "\n",
    "    correct_train = (predicted == labels).sum().item()\n",
    "    # Return loss and number of correct predictions\n",
    "    return loss.item(), correct_train\n",
    "\n",
    "def val_batch(images, labels, model, criterion):\n",
    "    outputs = model(images)\n",
    "    # Calculate number of correct predictions for batch\n",
    "    _,predicted = torch.max(outputs.data, 1)\n",
    "\n",
    "    loss = criterion(outputs, labels)\n",
    "    correct_val = (predicted == labels).sum().item()\n",
    "    return loss, correct_val\n",
    "\n",
    "def train_log(loss, acc, epoch):\n",
    "    # Log loss and accuracy to wandb\n",
    "    wandb.log({\"train/loss\": loss, \"train/accuracy\": acc}, step=epoch)\n",
    "    print(f\"Training Epoch {epoch}: Loss = {loss}, Accuracy = {acc:%}\")\n",
    "\n",
    "def val_log(loss, acc, epoch):\n",
    "    # Log loss and accuracy to wandb\n",
    "    wandb.log({\"validation/loss\": loss, \"validation/accuracy\": acc}, step=epoch)\n",
    "    print(f\"Validation Epoch {epoch}: Loss = {loss}, Accuracy = {acc:%}\")"
   ]
  },
  {
   "cell_type": "markdown",
   "metadata": {},
   "source": [
    "## Testing"
   ]
  },
  {
   "cell_type": "code",
   "execution_count": 6,
   "metadata": {},
   "outputs": [],
   "source": [
    "def test(model, feat_extractor, test_loader, config):\n",
    "    if config.save_as == 'pth':\n",
    "        model.load_state_dict(torch.load(os.path.join('weights', f\"{config.feat_extractor}_{config.fc_model}.pth\")))\n",
    "    feat_extractor.to(\"cpu\")\n",
    "    model.to(\"cpu\")\n",
    "    model.eval()\n",
    "    \n",
    "    true_labels = torch.zeros(len(test_loader.dataset)).long()\n",
    "    pred_labels = torch.zeros(len(test_loader.dataset)).long()\n",
    "    ptr = 0\n",
    "    \n",
    "    with torch.no_grad():\n",
    "        correct, total = 0, 0\n",
    "        for batch, (indices, images, labels, paths) in enumerate(test_loader):\n",
    "            features = feat_extractor(images)\n",
    "            outputs = model(features)\n",
    "            _, predicted = torch.max(outputs.data, 1)\n",
    "            print(f\"Batch {batch}: Accuracy = {accuracy_score(labels, predicted):%}, \" +\n",
    "                  f\"Recall = {recall_score(labels, predicted, zero_division=0):%}, Precision = {precision_score(labels, predicted):%}\")\n",
    "            \n",
    "            # Record labels and predictions\n",
    "            inds = ptr + torch.arange(labels.shape[0])\n",
    "            true_labels.index_copy_(0, inds, labels)\n",
    "            pred_labels.index_copy_(0, inds, predicted)\n",
    "            ptr += labels.shape[0]\n",
    "\n",
    "        # Log avg test accuracy\n",
    "        wandb.log({\"test/accuracy\": accuracy_score(true_labels, pred_labels)})\n",
    "        # Display confusion matrix for run\n",
    "        cm = confusion_matrix(true_labels, pred_labels)\n",
    "        return cm"
   ]
  },
  {
   "cell_type": "markdown",
   "metadata": {},
   "source": [
    "## Average Metrics from Multiple Training Runs"
   ]
  },
  {
   "cell_type": "code",
   "execution_count": 7,
   "metadata": {},
   "outputs": [],
   "source": [
    "def ensemble(project, config_dict, itr):\n",
    "    cm = np.zeros((2,2))\n",
    "    for i in range(itr):\n",
    "        cm += model_pipeline(project, config_dict)\n",
    "    cm /= itr\n",
    "    return cm"
   ]
  },
  {
   "cell_type": "markdown",
   "metadata": {},
   "source": [
    "# ResNet50 + 2 fully connected layers"
   ]
  },
  {
   "cell_type": "markdown",
   "metadata": {},
   "source": [
    "### Hyperparameter configuration"
   ]
  },
  {
   "cell_type": "code",
   "execution_count": 8,
   "metadata": {},
   "outputs": [],
   "source": [
    "config_dict = dict(\n",
    "    learning_rate = 0.003,\n",
    "    epochs = 20,\n",
    "    batch_size = 100,\n",
    "    feat_extractor = \"resnet50d\",\n",
    "    fc_model = \"lin1\",\n",
    "    normalize = \"ImageNet\",\n",
    "    fc2_in = 200,\n",
    "    output = 2,\n",
    "    dropout_rate = 0.5,\n",
    "    dataset = \"SC-2000v2\",\n",
    "    train_aug = True,\n",
    "    device = \"mps\",\n",
    "    save_as = 'pth'\n",
    ")"
   ]
  },
  {
   "cell_type": "markdown",
   "metadata": {},
   "source": [
    "### Get confusion matrix results averaged across 5 runs"
   ]
  },
  {
   "cell_type": "code",
   "execution_count": 9,
   "metadata": {},
   "outputs": [
    {
     "name": "stderr",
     "output_type": "stream",
     "text": [
      "Failed to detect the name of this notebook, you can set it manually with the WANDB_NOTEBOOK_NAME environment variable to enable code saving.\n",
      "\u001b[34m\u001b[1mwandb\u001b[0m: Currently logged in as: \u001b[33mlivsworld\u001b[0m (\u001b[33mshenderm\u001b[0m). Use \u001b[1m`wandb login --relogin`\u001b[0m to force relogin\n"
     ]
    },
    {
     "data": {
      "text/html": [
       "Tracking run with wandb version 0.17.0"
      ],
      "text/plain": [
       "<IPython.core.display.HTML object>"
      ]
     },
     "metadata": {},
     "output_type": "display_data"
    },
    {
     "data": {
      "text/html": [
       "Run data is saved locally in <code>/Users/shenderm/Desktop/dermlens_code/wandb/run-20240605_161112-1n6hbpa5</code>"
      ],
      "text/plain": [
       "<IPython.core.display.HTML object>"
      ]
     },
     "metadata": {},
     "output_type": "display_data"
    },
    {
     "data": {
      "text/html": [
       "Syncing run <strong><a href='https://wandb.ai/shenderm/resnet50d-sc2000/runs/1n6hbpa5' target=\"_blank\">light-dew-32</a></strong> to <a href='https://wandb.ai/shenderm/resnet50d-sc2000' target=\"_blank\">Weights & Biases</a> (<a href='https://wandb.me/run' target=\"_blank\">docs</a>)<br/>"
      ],
      "text/plain": [
       "<IPython.core.display.HTML object>"
      ]
     },
     "metadata": {},
     "output_type": "display_data"
    },
    {
     "data": {
      "text/html": [
       " View project at <a href='https://wandb.ai/shenderm/resnet50d-sc2000' target=\"_blank\">https://wandb.ai/shenderm/resnet50d-sc2000</a>"
      ],
      "text/plain": [
       "<IPython.core.display.HTML object>"
      ]
     },
     "metadata": {},
     "output_type": "display_data"
    },
    {
     "data": {
      "text/html": [
       " View run at <a href='https://wandb.ai/shenderm/resnet50d-sc2000/runs/1n6hbpa5' target=\"_blank\">https://wandb.ai/shenderm/resnet50d-sc2000/runs/1n6hbpa5</a>"
      ],
      "text/plain": [
       "<IPython.core.display.HTML object>"
      ]
     },
     "metadata": {},
     "output_type": "display_data"
    },
    {
     "name": "stdout",
     "output_type": "stream",
     "text": [
      "lin1 resnet50d\n",
      "Lin1(\n",
      "  (fc1): Linear(in_features=2048, out_features=2, bias=True)\n",
      ")\n"
     ]
    },
    {
     "data": {
      "application/vnd.jupyter.widget-view+json": {
       "model_id": "de7c06056af34800baf0ebe38f1d12af",
       "version_major": 2,
       "version_minor": 0
      },
      "text/plain": [
       "  0%|          | 0/20 [00:00<?, ?it/s]"
      ]
     },
     "metadata": {},
     "output_type": "display_data"
    },
    {
     "name": "stdout",
     "output_type": "stream",
     "text": [
      "Training Epoch 0: Loss = 8.89033654332161, Accuracy = 69.316689%\n",
      "Validation Epoch 0: Loss = 1.7965896129608154, Accuracy = 82.528736%\n",
      "Training Epoch 1: Loss = 7.124952644109726, Accuracy = 78.186597%\n",
      "Validation Epoch 1: Loss = 1.6638996601104736, Accuracy = 84.137931%\n",
      "Training Epoch 2: Loss = 7.148341715335846, Accuracy = 78.580815%\n",
      "Validation Epoch 2: Loss = 1.7711327075958252, Accuracy = 84.137931%\n",
      "Training Epoch 3: Loss = 6.546598479151726, Accuracy = 79.632063%\n",
      "Validation Epoch 3: Loss = 1.8265947103500366, Accuracy = 81.149425%\n",
      "Training Epoch 4: Loss = 6.6331357061862946, Accuracy = 79.763469%\n",
      "Validation Epoch 4: Loss = 1.9050168991088867, Accuracy = 82.068966%\n",
      "Training Epoch 5: Loss = 7.114650726318359, Accuracy = 78.055191%\n",
      "Validation Epoch 5: Loss = 1.719172716140747, Accuracy = 83.678161%\n",
      "Training Epoch 6: Loss = 6.683858245611191, Accuracy = 80.223390%\n",
      "Validation Epoch 6: Loss = 1.800154447555542, Accuracy = 83.218391%\n",
      "Training Epoch 7: Loss = 6.822438538074493, Accuracy = 79.894875%\n",
      "Validation Epoch 7: Loss = 1.6888072490692139, Accuracy = 83.908046%\n",
      "Training Epoch 8: Loss = 6.465892642736435, Accuracy = 82.128778%\n",
      "Validation Epoch 8: Loss = 1.7626290321350098, Accuracy = 84.137931%\n",
      "Training Epoch 9: Loss = 6.456235498189926, Accuracy = 80.814717%\n",
      "Validation Epoch 9: Loss = 1.7689939737319946, Accuracy = 83.448276%\n",
      "Training Epoch 10: Loss = 6.491980105638504, Accuracy = 80.091984%\n",
      "Validation Epoch 10: Loss = 1.7902439832687378, Accuracy = 83.218391%\n",
      "Training Epoch 11: Loss = 6.259898662567139, Accuracy = 81.997372%\n",
      "Validation Epoch 11: Loss = 1.7032983303070068, Accuracy = 84.827586%\n",
      "Training Epoch 12: Loss = 5.999060168862343, Accuracy = 82.325887%\n",
      "Validation Epoch 12: Loss = 2.0707736015319824, Accuracy = 80.459770%\n",
      "Training Epoch 13: Loss = 6.310561180114746, Accuracy = 82.720105%\n",
      "Validation Epoch 13: Loss = 1.8475985527038574, Accuracy = 84.137931%\n",
      "Training Epoch 14: Loss = 6.130353689193726, Accuracy = 82.785808%\n",
      "Validation Epoch 14: Loss = 1.769222378730774, Accuracy = 84.367816%\n",
      "Training Epoch 15: Loss = 6.268880128860474, Accuracy = 82.063075%\n",
      "Validation Epoch 15: Loss = 1.6747459173202515, Accuracy = 83.908046%\n",
      "Training Epoch 16: Loss = 6.101895168423653, Accuracy = 81.997372%\n",
      "Validation Epoch 16: Loss = 1.8411945104599, Accuracy = 83.678161%\n",
      "Training Epoch 17: Loss = 6.193735271692276, Accuracy = 83.180026%\n",
      "Validation Epoch 17: Loss = 1.8623056411743164, Accuracy = 83.908046%\n",
      "Training Epoch 18: Loss = 5.806752264499664, Accuracy = 83.771353%\n",
      "Validation Epoch 18: Loss = 2.1557579040527344, Accuracy = 81.609195%\n",
      "Training Epoch 19: Loss = 6.10039958357811, Accuracy = 82.063075%\n",
      "Validation Epoch 19: Loss = 1.9076884984970093, Accuracy = 83.218391%\n",
      "Batch 0: Accuracy = 96.000000%, Recall = 0.000000%, Precision = 0.000000%\n",
      "Batch 1: Accuracy = 80.000000%, Recall = 79.347826%, Precision = 98.648649%\n",
      "Batch 2: Accuracy = 76.923077%, Recall = 76.923077%, Precision = 100.000000%\n"
     ]
    },
    {
     "data": {
      "application/vnd.jupyter.widget-view+json": {
       "model_id": "2e50ce89818a4924b6011ce946fb8449",
       "version_major": 2,
       "version_minor": 0
      },
      "text/plain": [
       "VBox(children=(Label(value='0.001 MB of 0.001 MB uploaded\\r'), FloatProgress(value=1.0, max=1.0)))"
      ]
     },
     "metadata": {},
     "output_type": "display_data"
    },
    {
     "data": {
      "text/html": [
       "<style>\n",
       "    table.wandb td:nth-child(1) { padding: 0 10px; text-align: left ; width: auto;} td:nth-child(2) {text-align: left ; width: 100%}\n",
       "    .wandb-row { display: flex; flex-direction: row; flex-wrap: wrap; justify-content: flex-start; width: 100% }\n",
       "    .wandb-col { display: flex; flex-direction: column; flex-basis: 100%; flex: 1; padding: 10px; }\n",
       "    </style>\n",
       "<div class=\"wandb-row\"><div class=\"wandb-col\"><h3>Run history:</h3><br/><table class=\"wandb\"><tr><td>test/accuracy</td><td>▁</td></tr><tr><td>train/accuracy</td><td>▁▅▅▆▆▅▆▆▇▇▆▇▇▇█▇▇██▇</td></tr><tr><td>train/loss</td><td>█▄▄▃▃▄▃▃▂▂▃▂▁▂▂▂▂▂▁▂</td></tr><tr><td>validation/accuracy</td><td>▄▇▇▂▄▆▅▇▇▆▅█▁▇▇▇▆▇▃▅</td></tr><tr><td>validation/loss</td><td>▃▁▃▃▄▂▃▁▂▂▃▂▇▄▂▁▄▄█▄</td></tr></table><br/></div><div class=\"wandb-col\"><h3>Run summary:</h3><br/><table class=\"wandb\"><tr><td>test/accuracy</td><td>0.87324</td></tr><tr><td>train/accuracy</td><td>0.82063</td></tr><tr><td>train/loss</td><td>6.1004</td></tr><tr><td>validation/accuracy</td><td>0.83218</td></tr><tr><td>validation/loss</td><td>1.90769</td></tr></table><br/></div></div>"
      ],
      "text/plain": [
       "<IPython.core.display.HTML object>"
      ]
     },
     "metadata": {},
     "output_type": "display_data"
    },
    {
     "data": {
      "text/html": [
       " View run <strong style=\"color:#cdcd00\">light-dew-32</strong> at: <a href='https://wandb.ai/shenderm/resnet50d-sc2000/runs/1n6hbpa5' target=\"_blank\">https://wandb.ai/shenderm/resnet50d-sc2000/runs/1n6hbpa5</a><br/> View project at: <a href='https://wandb.ai/shenderm/resnet50d-sc2000' target=\"_blank\">https://wandb.ai/shenderm/resnet50d-sc2000</a><br/>Synced 6 W&B file(s), 0 media file(s), 0 artifact file(s) and 0 other file(s)"
      ],
      "text/plain": [
       "<IPython.core.display.HTML object>"
      ]
     },
     "metadata": {},
     "output_type": "display_data"
    },
    {
     "data": {
      "text/html": [
       "Find logs at: <code>./wandb/run-20240605_161112-1n6hbpa5/logs</code>"
      ],
      "text/plain": [
       "<IPython.core.display.HTML object>"
      ]
     },
     "metadata": {},
     "output_type": "display_data"
    },
    {
     "data": {
      "application/vnd.jupyter.widget-view+json": {
       "model_id": "1932238099e14a3ca75dcc72cd1958cc",
       "version_major": 2,
       "version_minor": 0
      },
      "text/plain": [
       "VBox(children=(Label(value='Waiting for wandb.init()...\\r'), FloatProgress(value=0.011167961111105898, max=1.0…"
      ]
     },
     "metadata": {},
     "output_type": "display_data"
    },
    {
     "data": {
      "text/html": [
       "Tracking run with wandb version 0.17.0"
      ],
      "text/plain": [
       "<IPython.core.display.HTML object>"
      ]
     },
     "metadata": {},
     "output_type": "display_data"
    },
    {
     "data": {
      "text/html": [
       "Run data is saved locally in <code>/Users/shenderm/Desktop/dermlens_code/wandb/run-20240605_162243-kpxe939t</code>"
      ],
      "text/plain": [
       "<IPython.core.display.HTML object>"
      ]
     },
     "metadata": {},
     "output_type": "display_data"
    },
    {
     "data": {
      "text/html": [
       "Syncing run <strong><a href='https://wandb.ai/shenderm/resnet50d-sc2000/runs/kpxe939t' target=\"_blank\">glamorous-lion-33</a></strong> to <a href='https://wandb.ai/shenderm/resnet50d-sc2000' target=\"_blank\">Weights & Biases</a> (<a href='https://wandb.me/run' target=\"_blank\">docs</a>)<br/>"
      ],
      "text/plain": [
       "<IPython.core.display.HTML object>"
      ]
     },
     "metadata": {},
     "output_type": "display_data"
    },
    {
     "data": {
      "text/html": [
       " View project at <a href='https://wandb.ai/shenderm/resnet50d-sc2000' target=\"_blank\">https://wandb.ai/shenderm/resnet50d-sc2000</a>"
      ],
      "text/plain": [
       "<IPython.core.display.HTML object>"
      ]
     },
     "metadata": {},
     "output_type": "display_data"
    },
    {
     "data": {
      "text/html": [
       " View run at <a href='https://wandb.ai/shenderm/resnet50d-sc2000/runs/kpxe939t' target=\"_blank\">https://wandb.ai/shenderm/resnet50d-sc2000/runs/kpxe939t</a>"
      ],
      "text/plain": [
       "<IPython.core.display.HTML object>"
      ]
     },
     "metadata": {},
     "output_type": "display_data"
    },
    {
     "name": "stdout",
     "output_type": "stream",
     "text": [
      "lin1 resnet50d\n",
      "Lin1(\n",
      "  (fc1): Linear(in_features=2048, out_features=2, bias=True)\n",
      ")\n"
     ]
    },
    {
     "data": {
      "application/vnd.jupyter.widget-view+json": {
       "model_id": "644c5aaefd164eb2bf897dcd63c13a2a",
       "version_major": 2,
       "version_minor": 0
      },
      "text/plain": [
       "  0%|          | 0/20 [00:00<?, ?it/s]"
      ]
     },
     "metadata": {},
     "output_type": "display_data"
    },
    {
     "name": "stdout",
     "output_type": "stream",
     "text": [
      "Training Epoch 0: Loss = 9.043067306280136, Accuracy = 68.462549%\n",
      "Validation Epoch 0: Loss = 1.9370949268341064, Accuracy = 79.540230%\n",
      "Training Epoch 1: Loss = 7.326999187469482, Accuracy = 78.843627%\n",
      "Validation Epoch 1: Loss = 1.8184881210327148, Accuracy = 81.149425%\n",
      "Training Epoch 2: Loss = 7.060982584953308, Accuracy = 80.091984%\n",
      "Validation Epoch 2: Loss = 1.788508415222168, Accuracy = 81.839080%\n",
      "Training Epoch 3: Loss = 6.647042393684387, Accuracy = 80.814717%\n",
      "Validation Epoch 3: Loss = 1.7853724956512451, Accuracy = 81.609195%\n",
      "Training Epoch 4: Loss = 6.826353996992111, Accuracy = 80.289093%\n",
      "Validation Epoch 4: Loss = 1.8039623498916626, Accuracy = 83.448276%\n",
      "Training Epoch 5: Loss = 6.605113178491592, Accuracy = 80.814717%\n",
      "Validation Epoch 5: Loss = 1.7085862159729004, Accuracy = 84.367816%\n",
      "Training Epoch 6: Loss = 6.4295973777771, Accuracy = 80.946124%\n",
      "Validation Epoch 6: Loss = 1.6820552349090576, Accuracy = 83.678161%\n",
      "Training Epoch 7: Loss = 6.265702039003372, Accuracy = 81.274639%\n",
      "Validation Epoch 7: Loss = 1.6735646724700928, Accuracy = 83.908046%\n",
      "Training Epoch 8: Loss = 6.331579387187958, Accuracy = 82.194481%\n",
      "Validation Epoch 8: Loss = 1.8153148889541626, Accuracy = 83.218391%\n",
      "Training Epoch 9: Loss = 6.5076263546943665, Accuracy = 82.260184%\n",
      "Validation Epoch 9: Loss = 1.7012468576431274, Accuracy = 84.367816%\n",
      "Training Epoch 10: Loss = 6.220106899738312, Accuracy = 81.997372%\n",
      "Validation Epoch 10: Loss = 1.7658107280731201, Accuracy = 84.827586%\n",
      "Training Epoch 11: Loss = 6.321121871471405, Accuracy = 81.931669%\n",
      "Validation Epoch 11: Loss = 1.77103853225708, Accuracy = 83.908046%\n",
      "Training Epoch 12: Loss = 6.1354356706142426, Accuracy = 81.800263%\n",
      "Validation Epoch 12: Loss = 1.8176466226577759, Accuracy = 83.218391%\n",
      "Training Epoch 13: Loss = 6.201060324907303, Accuracy = 81.865966%\n",
      "Validation Epoch 13: Loss = 1.6343998908996582, Accuracy = 84.827586%\n",
      "Training Epoch 14: Loss = 6.004364103078842, Accuracy = 82.851511%\n",
      "Validation Epoch 14: Loss = 1.8767940998077393, Accuracy = 83.218391%\n",
      "Training Epoch 15: Loss = 5.921133756637573, Accuracy = 83.311432%\n",
      "Validation Epoch 15: Loss = 1.7579796314239502, Accuracy = 83.678161%\n",
      "Training Epoch 16: Loss = 6.138166934251785, Accuracy = 82.785808%\n",
      "Validation Epoch 16: Loss = 1.7499750852584839, Accuracy = 84.827586%\n",
      "Training Epoch 17: Loss = 6.217811584472656, Accuracy = 81.997372%\n",
      "Validation Epoch 17: Loss = 1.7884631156921387, Accuracy = 81.839080%\n",
      "Training Epoch 18: Loss = 6.155610769987106, Accuracy = 81.406045%\n",
      "Validation Epoch 18: Loss = 1.7503820657730103, Accuracy = 82.298851%\n",
      "Training Epoch 19: Loss = 6.02036789059639, Accuracy = 82.785808%\n",
      "Validation Epoch 19: Loss = 1.7379415035247803, Accuracy = 84.137931%\n",
      "Batch 0: Accuracy = 89.000000%, Recall = 0.000000%, Precision = 0.000000%\n",
      "Batch 1: Accuracy = 86.000000%, Recall = 85.869565%, Precision = 98.750000%\n",
      "Batch 2: Accuracy = 84.615385%, Recall = 84.615385%, Precision = 100.000000%\n"
     ]
    },
    {
     "data": {
      "application/vnd.jupyter.widget-view+json": {
       "model_id": "33f4794f6df844fb868050c5d39c5ffd",
       "version_major": 2,
       "version_minor": 0
      },
      "text/plain": [
       "VBox(children=(Label(value='0.003 MB of 0.020 MB uploaded\\r'), FloatProgress(value=0.14452478850607306, max=1.…"
      ]
     },
     "metadata": {},
     "output_type": "display_data"
    },
    {
     "data": {
      "text/html": [
       "<style>\n",
       "    table.wandb td:nth-child(1) { padding: 0 10px; text-align: left ; width: auto;} td:nth-child(2) {text-align: left ; width: 100%}\n",
       "    .wandb-row { display: flex; flex-direction: row; flex-wrap: wrap; justify-content: flex-start; width: 100% }\n",
       "    .wandb-col { display: flex; flex-direction: column; flex-basis: 100%; flex: 1; padding: 10px; }\n",
       "    </style>\n",
       "<div class=\"wandb-row\"><div class=\"wandb-col\"><h3>Run history:</h3><br/><table class=\"wandb\"><tr><td>test/accuracy</td><td>▁</td></tr><tr><td>train/accuracy</td><td>▁▆▆▇▇▇▇▇▇█▇▇▇▇███▇▇█</td></tr><tr><td>train/loss</td><td>█▄▄▃▃▃▂▂▂▂▂▂▁▂▁▁▁▂▂▁</td></tr><tr><td>validation/accuracy</td><td>▁▃▄▄▆▇▆▇▆▇█▇▆█▆▆█▄▅▇</td></tr><tr><td>validation/loss</td><td>█▅▅▄▅▃▂▂▅▃▄▄▅▁▇▄▄▅▄▃</td></tr></table><br/></div><div class=\"wandb-col\"><h3>Run summary:</h3><br/><table class=\"wandb\"><tr><td>test/accuracy</td><td>0.87324</td></tr><tr><td>train/accuracy</td><td>0.82786</td></tr><tr><td>train/loss</td><td>6.02037</td></tr><tr><td>validation/accuracy</td><td>0.84138</td></tr><tr><td>validation/loss</td><td>1.73794</td></tr></table><br/></div></div>"
      ],
      "text/plain": [
       "<IPython.core.display.HTML object>"
      ]
     },
     "metadata": {},
     "output_type": "display_data"
    },
    {
     "data": {
      "text/html": [
       " View run <strong style=\"color:#cdcd00\">glamorous-lion-33</strong> at: <a href='https://wandb.ai/shenderm/resnet50d-sc2000/runs/kpxe939t' target=\"_blank\">https://wandb.ai/shenderm/resnet50d-sc2000/runs/kpxe939t</a><br/> View project at: <a href='https://wandb.ai/shenderm/resnet50d-sc2000' target=\"_blank\">https://wandb.ai/shenderm/resnet50d-sc2000</a><br/>Synced 6 W&B file(s), 0 media file(s), 0 artifact file(s) and 0 other file(s)"
      ],
      "text/plain": [
       "<IPython.core.display.HTML object>"
      ]
     },
     "metadata": {},
     "output_type": "display_data"
    },
    {
     "data": {
      "text/html": [
       "Find logs at: <code>./wandb/run-20240605_162243-kpxe939t/logs</code>"
      ],
      "text/plain": [
       "<IPython.core.display.HTML object>"
      ]
     },
     "metadata": {},
     "output_type": "display_data"
    },
    {
     "data": {
      "application/vnd.jupyter.widget-view+json": {
       "model_id": "f8d1b719e414409192e3b83e351805fb",
       "version_major": 2,
       "version_minor": 0
      },
      "text/plain": [
       "VBox(children=(Label(value='Waiting for wandb.init()...\\r'), FloatProgress(value=0.011168210188892165, max=1.0…"
      ]
     },
     "metadata": {},
     "output_type": "display_data"
    },
    {
     "data": {
      "text/html": [
       "Tracking run with wandb version 0.17.0"
      ],
      "text/plain": [
       "<IPython.core.display.HTML object>"
      ]
     },
     "metadata": {},
     "output_type": "display_data"
    },
    {
     "data": {
      "text/html": [
       "Run data is saved locally in <code>/Users/shenderm/Desktop/dermlens_code/wandb/run-20240605_163414-g30x4xd2</code>"
      ],
      "text/plain": [
       "<IPython.core.display.HTML object>"
      ]
     },
     "metadata": {},
     "output_type": "display_data"
    },
    {
     "data": {
      "text/html": [
       "Syncing run <strong><a href='https://wandb.ai/shenderm/resnet50d-sc2000/runs/g30x4xd2' target=\"_blank\">curious-puddle-34</a></strong> to <a href='https://wandb.ai/shenderm/resnet50d-sc2000' target=\"_blank\">Weights & Biases</a> (<a href='https://wandb.me/run' target=\"_blank\">docs</a>)<br/>"
      ],
      "text/plain": [
       "<IPython.core.display.HTML object>"
      ]
     },
     "metadata": {},
     "output_type": "display_data"
    },
    {
     "data": {
      "text/html": [
       " View project at <a href='https://wandb.ai/shenderm/resnet50d-sc2000' target=\"_blank\">https://wandb.ai/shenderm/resnet50d-sc2000</a>"
      ],
      "text/plain": [
       "<IPython.core.display.HTML object>"
      ]
     },
     "metadata": {},
     "output_type": "display_data"
    },
    {
     "data": {
      "text/html": [
       " View run at <a href='https://wandb.ai/shenderm/resnet50d-sc2000/runs/g30x4xd2' target=\"_blank\">https://wandb.ai/shenderm/resnet50d-sc2000/runs/g30x4xd2</a>"
      ],
      "text/plain": [
       "<IPython.core.display.HTML object>"
      ]
     },
     "metadata": {},
     "output_type": "display_data"
    },
    {
     "name": "stdout",
     "output_type": "stream",
     "text": [
      "lin1 resnet50d\n",
      "Lin1(\n",
      "  (fc1): Linear(in_features=2048, out_features=2, bias=True)\n",
      ")\n"
     ]
    },
    {
     "data": {
      "application/vnd.jupyter.widget-view+json": {
       "model_id": "ffafec687674417b935efac39d010fdf",
       "version_major": 2,
       "version_minor": 0
      },
      "text/plain": [
       "  0%|          | 0/20 [00:00<?, ?it/s]"
      ]
     },
     "metadata": {},
     "output_type": "display_data"
    },
    {
     "name": "stdout",
     "output_type": "stream",
     "text": [
      "Training Epoch 0: Loss = 8.297960638999939, Accuracy = 72.996058%\n",
      "Validation Epoch 0: Loss = 1.949370265007019, Accuracy = 80.919540%\n",
      "Training Epoch 1: Loss = 6.926238864660263, Accuracy = 78.580815%\n",
      "Validation Epoch 1: Loss = 1.7402915954589844, Accuracy = 82.528736%\n",
      "Training Epoch 2: Loss = 6.987757444381714, Accuracy = 78.055191%\n",
      "Validation Epoch 2: Loss = 1.7332689762115479, Accuracy = 84.137931%\n",
      "Training Epoch 3: Loss = 6.476653680205345, Accuracy = 80.749014%\n",
      "Validation Epoch 3: Loss = 1.8385009765625, Accuracy = 80.919540%\n",
      "Training Epoch 4: Loss = 6.681154310703278, Accuracy = 80.157687%\n",
      "Validation Epoch 4: Loss = 1.8514593839645386, Accuracy = 82.988506%\n",
      "Training Epoch 5: Loss = 6.678264290094376, Accuracy = 79.697766%\n",
      "Validation Epoch 5: Loss = 1.791029453277588, Accuracy = 83.448276%\n",
      "Training Epoch 6: Loss = 6.658723056316376, Accuracy = 80.814717%\n",
      "Validation Epoch 6: Loss = 1.7941287755966187, Accuracy = 82.988506%\n",
      "Training Epoch 7: Loss = 6.508985131978989, Accuracy = 81.406045%\n",
      "Validation Epoch 7: Loss = 1.7781004905700684, Accuracy = 83.448276%\n",
      "Training Epoch 8: Loss = 6.485022962093353, Accuracy = 81.668857%\n",
      "Validation Epoch 8: Loss = 1.8157485723495483, Accuracy = 82.988506%\n",
      "Training Epoch 9: Loss = 6.329115331172943, Accuracy = 81.011827%\n",
      "Validation Epoch 9: Loss = 1.7773593664169312, Accuracy = 83.678161%\n",
      "Training Epoch 10: Loss = 6.483868330717087, Accuracy = 82.391590%\n",
      "Validation Epoch 10: Loss = 1.8129901885986328, Accuracy = 82.988506%\n",
      "Training Epoch 11: Loss = 6.236638426780701, Accuracy = 81.865966%\n",
      "Validation Epoch 11: Loss = 1.7473689317703247, Accuracy = 83.448276%\n",
      "Training Epoch 12: Loss = 5.947245478630066, Accuracy = 83.180026%\n",
      "Validation Epoch 12: Loss = 1.7414120435714722, Accuracy = 83.908046%\n",
      "Training Epoch 13: Loss = 6.321026563644409, Accuracy = 82.194481%\n",
      "Validation Epoch 13: Loss = 1.805555820465088, Accuracy = 82.528736%\n",
      "Training Epoch 14: Loss = 5.995034962892532, Accuracy = 82.522996%\n",
      "Validation Epoch 14: Loss = 1.7375638484954834, Accuracy = 82.988506%\n",
      "Training Epoch 15: Loss = 6.0920882523059845, Accuracy = 83.442838%\n",
      "Validation Epoch 15: Loss = 1.784409999847412, Accuracy = 83.218391%\n",
      "Training Epoch 16: Loss = 5.880658268928528, Accuracy = 83.180026%\n",
      "Validation Epoch 16: Loss = 1.650779366493225, Accuracy = 84.137931%\n",
      "Training Epoch 17: Loss = 6.403002977371216, Accuracy = 82.128778%\n",
      "Validation Epoch 17: Loss = 1.9167574644088745, Accuracy = 79.310345%\n",
      "Training Epoch 18: Loss = 6.284594684839249, Accuracy = 82.391590%\n",
      "Validation Epoch 18: Loss = 2.0965378284454346, Accuracy = 80.919540%\n",
      "Training Epoch 19: Loss = 6.393639579415321, Accuracy = 80.617608%\n",
      "Validation Epoch 19: Loss = 1.7669295072555542, Accuracy = 82.528736%\n",
      "Batch 0: Accuracy = 85.000000%, Recall = 0.000000%, Precision = 0.000000%\n",
      "Batch 1: Accuracy = 83.000000%, Recall = 82.608696%, Precision = 98.701299%\n",
      "Batch 2: Accuracy = 76.923077%, Recall = 76.923077%, Precision = 100.000000%\n"
     ]
    },
    {
     "data": {
      "application/vnd.jupyter.widget-view+json": {
       "model_id": "64317c1e58314ecf8e9194ef06d5937d",
       "version_major": 2,
       "version_minor": 0
      },
      "text/plain": [
       "VBox(children=(Label(value='0.001 MB of 0.001 MB uploaded\\r'), FloatProgress(value=1.0, max=1.0)))"
      ]
     },
     "metadata": {},
     "output_type": "display_data"
    },
    {
     "data": {
      "text/html": [
       "<style>\n",
       "    table.wandb td:nth-child(1) { padding: 0 10px; text-align: left ; width: auto;} td:nth-child(2) {text-align: left ; width: 100%}\n",
       "    .wandb-row { display: flex; flex-direction: row; flex-wrap: wrap; justify-content: flex-start; width: 100% }\n",
       "    .wandb-col { display: flex; flex-direction: column; flex-basis: 100%; flex: 1; padding: 10px; }\n",
       "    </style>\n",
       "<div class=\"wandb-row\"><div class=\"wandb-col\"><h3>Run history:</h3><br/><table class=\"wandb\"><tr><td>test/accuracy</td><td>▁</td></tr><tr><td>train/accuracy</td><td>▁▅▄▆▆▅▆▇▇▆▇▇█▇▇██▇▇▆</td></tr><tr><td>train/loss</td><td>█▄▄▃▃▃▃▃▃▂▃▂▁▂▁▂▁▃▂▂</td></tr><tr><td>validation/accuracy</td><td>▃▆█▃▆▇▆▇▆▇▆▇█▆▆▇█▁▃▆</td></tr><tr><td>validation/loss</td><td>▆▂▂▄▄▃▃▃▄▃▄▃▂▃▂▃▁▅█▃</td></tr></table><br/></div><div class=\"wandb-col\"><h3>Run summary:</h3><br/><table class=\"wandb\"><tr><td>test/accuracy</td><td>0.83568</td></tr><tr><td>train/accuracy</td><td>0.80618</td></tr><tr><td>train/loss</td><td>6.39364</td></tr><tr><td>validation/accuracy</td><td>0.82529</td></tr><tr><td>validation/loss</td><td>1.76693</td></tr></table><br/></div></div>"
      ],
      "text/plain": [
       "<IPython.core.display.HTML object>"
      ]
     },
     "metadata": {},
     "output_type": "display_data"
    },
    {
     "data": {
      "text/html": [
       " View run <strong style=\"color:#cdcd00\">curious-puddle-34</strong> at: <a href='https://wandb.ai/shenderm/resnet50d-sc2000/runs/g30x4xd2' target=\"_blank\">https://wandb.ai/shenderm/resnet50d-sc2000/runs/g30x4xd2</a><br/> View project at: <a href='https://wandb.ai/shenderm/resnet50d-sc2000' target=\"_blank\">https://wandb.ai/shenderm/resnet50d-sc2000</a><br/>Synced 6 W&B file(s), 0 media file(s), 0 artifact file(s) and 0 other file(s)"
      ],
      "text/plain": [
       "<IPython.core.display.HTML object>"
      ]
     },
     "metadata": {},
     "output_type": "display_data"
    },
    {
     "data": {
      "text/html": [
       "Find logs at: <code>./wandb/run-20240605_163414-g30x4xd2/logs</code>"
      ],
      "text/plain": [
       "<IPython.core.display.HTML object>"
      ]
     },
     "metadata": {},
     "output_type": "display_data"
    },
    {
     "data": {
      "text/html": [
       "Tracking run with wandb version 0.17.0"
      ],
      "text/plain": [
       "<IPython.core.display.HTML object>"
      ]
     },
     "metadata": {},
     "output_type": "display_data"
    },
    {
     "data": {
      "text/html": [
       "Run data is saved locally in <code>/Users/shenderm/Desktop/dermlens_code/wandb/run-20240605_164548-bbqvoqdd</code>"
      ],
      "text/plain": [
       "<IPython.core.display.HTML object>"
      ]
     },
     "metadata": {},
     "output_type": "display_data"
    },
    {
     "data": {
      "text/html": [
       "Syncing run <strong><a href='https://wandb.ai/shenderm/resnet50d-sc2000/runs/bbqvoqdd' target=\"_blank\">confused-grass-35</a></strong> to <a href='https://wandb.ai/shenderm/resnet50d-sc2000' target=\"_blank\">Weights & Biases</a> (<a href='https://wandb.me/run' target=\"_blank\">docs</a>)<br/>"
      ],
      "text/plain": [
       "<IPython.core.display.HTML object>"
      ]
     },
     "metadata": {},
     "output_type": "display_data"
    },
    {
     "data": {
      "text/html": [
       " View project at <a href='https://wandb.ai/shenderm/resnet50d-sc2000' target=\"_blank\">https://wandb.ai/shenderm/resnet50d-sc2000</a>"
      ],
      "text/plain": [
       "<IPython.core.display.HTML object>"
      ]
     },
     "metadata": {},
     "output_type": "display_data"
    },
    {
     "data": {
      "text/html": [
       " View run at <a href='https://wandb.ai/shenderm/resnet50d-sc2000/runs/bbqvoqdd' target=\"_blank\">https://wandb.ai/shenderm/resnet50d-sc2000/runs/bbqvoqdd</a>"
      ],
      "text/plain": [
       "<IPython.core.display.HTML object>"
      ]
     },
     "metadata": {},
     "output_type": "display_data"
    },
    {
     "name": "stdout",
     "output_type": "stream",
     "text": [
      "lin1 resnet50d\n",
      "Lin1(\n",
      "  (fc1): Linear(in_features=2048, out_features=2, bias=True)\n",
      ")\n"
     ]
    },
    {
     "data": {
      "application/vnd.jupyter.widget-view+json": {
       "model_id": "db6b2283658b434bafcfd6b69b860684",
       "version_major": 2,
       "version_minor": 0
      },
      "text/plain": [
       "  0%|          | 0/20 [00:00<?, ?it/s]"
      ]
     },
     "metadata": {},
     "output_type": "display_data"
    },
    {
     "name": "stdout",
     "output_type": "stream",
     "text": [
      "Training Epoch 0: Loss = 8.240042805671692, Accuracy = 73.455979%\n",
      "Validation Epoch 0: Loss = 1.7344160079956055, Accuracy = 84.137931%\n",
      "Training Epoch 1: Loss = 7.259764939546585, Accuracy = 78.120894%\n",
      "Validation Epoch 1: Loss = 1.6838597059249878, Accuracy = 84.597701%\n",
      "Training Epoch 2: Loss = 7.03551921248436, Accuracy = 78.975033%\n",
      "Validation Epoch 2: Loss = 1.6710611581802368, Accuracy = 85.517241%\n",
      "Training Epoch 3: Loss = 6.530404210090637, Accuracy = 81.340342%\n",
      "Validation Epoch 3: Loss = 1.8038153648376465, Accuracy = 83.678161%\n",
      "Training Epoch 4: Loss = 6.3762262761592865, Accuracy = 80.617608%\n",
      "Validation Epoch 4: Loss = 1.8351906538009644, Accuracy = 84.137931%\n",
      "Training Epoch 5: Loss = 6.802680432796478, Accuracy = 80.289093%\n",
      "Validation Epoch 5: Loss = 1.7598122358322144, Accuracy = 84.827586%\n",
      "Training Epoch 6: Loss = 6.49092772603035, Accuracy = 80.946124%\n",
      "Validation Epoch 6: Loss = 1.771106243133545, Accuracy = 84.827586%\n",
      "Training Epoch 7: Loss = 6.940590411424637, Accuracy = 80.091984%\n",
      "Validation Epoch 7: Loss = 2.0009870529174805, Accuracy = 82.758621%\n",
      "Training Epoch 8: Loss = 6.643366426229477, Accuracy = 78.909330%\n",
      "Validation Epoch 8: Loss = 1.7765353918075562, Accuracy = 85.287356%\n",
      "Training Epoch 9: Loss = 6.103115737438202, Accuracy = 83.180026%\n",
      "Validation Epoch 9: Loss = 1.7796242237091064, Accuracy = 83.448276%\n",
      "Training Epoch 10: Loss = 6.552325457334518, Accuracy = 82.260184%\n",
      "Validation Epoch 10: Loss = 1.7231228351593018, Accuracy = 85.287356%\n",
      "Training Epoch 11: Loss = 6.390027344226837, Accuracy = 82.720105%\n",
      "Validation Epoch 11: Loss = 1.7045259475708008, Accuracy = 85.747126%\n",
      "Training Epoch 12: Loss = 6.1661432683467865, Accuracy = 82.391590%\n",
      "Validation Epoch 12: Loss = 1.809043288230896, Accuracy = 83.908046%\n",
      "Training Epoch 13: Loss = 6.129778414964676, Accuracy = 82.457293%\n",
      "Validation Epoch 13: Loss = 1.8085386753082275, Accuracy = 85.287356%\n",
      "Training Epoch 14: Loss = 6.284754633903503, Accuracy = 83.245729%\n",
      "Validation Epoch 14: Loss = 1.7678790092468262, Accuracy = 85.057471%\n",
      "Training Epoch 15: Loss = 5.945604830980301, Accuracy = 83.508541%\n",
      "Validation Epoch 15: Loss = 1.7964411973953247, Accuracy = 85.287356%\n",
      "Training Epoch 16: Loss = 5.970647364854813, Accuracy = 83.771353%\n",
      "Validation Epoch 16: Loss = 1.8800127506256104, Accuracy = 84.137931%\n",
      "Training Epoch 17: Loss = 6.117308899760246, Accuracy = 82.522996%\n",
      "Validation Epoch 17: Loss = 1.9055794477462769, Accuracy = 83.448276%\n",
      "Training Epoch 18: Loss = 5.73029226064682, Accuracy = 83.311432%\n",
      "Validation Epoch 18: Loss = 1.7691248655319214, Accuracy = 84.597701%\n",
      "Training Epoch 19: Loss = 5.933555215597153, Accuracy = 83.837057%\n",
      "Validation Epoch 19: Loss = 1.7890384197235107, Accuracy = 83.908046%\n",
      "Batch 0: Accuracy = 92.000000%, Recall = 0.000000%, Precision = 0.000000%\n",
      "Batch 1: Accuracy = 80.000000%, Recall = 79.347826%, Precision = 98.648649%\n",
      "Batch 2: Accuracy = 76.923077%, Recall = 76.923077%, Precision = 100.000000%\n"
     ]
    },
    {
     "data": {
      "application/vnd.jupyter.widget-view+json": {
       "model_id": "26234b226d1045fda342e20f09f915aa",
       "version_major": 2,
       "version_minor": 0
      },
      "text/plain": [
       "VBox(children=(Label(value='0.001 MB of 0.001 MB uploaded\\r'), FloatProgress(value=1.0, max=1.0)))"
      ]
     },
     "metadata": {},
     "output_type": "display_data"
    },
    {
     "data": {
      "text/html": [
       "<style>\n",
       "    table.wandb td:nth-child(1) { padding: 0 10px; text-align: left ; width: auto;} td:nth-child(2) {text-align: left ; width: 100%}\n",
       "    .wandb-row { display: flex; flex-direction: row; flex-wrap: wrap; justify-content: flex-start; width: 100% }\n",
       "    .wandb-col { display: flex; flex-direction: column; flex-basis: 100%; flex: 1; padding: 10px; }\n",
       "    </style>\n",
       "<div class=\"wandb-row\"><div class=\"wandb-col\"><h3>Run history:</h3><br/><table class=\"wandb\"><tr><td>test/accuracy</td><td>▁</td></tr><tr><td>train/accuracy</td><td>▁▄▅▆▆▆▆▅▅█▇▇▇▇███▇██</td></tr><tr><td>train/loss</td><td>█▅▅▃▃▄▃▄▄▂▃▃▂▂▃▂▂▂▁▂</td></tr><tr><td>validation/accuracy</td><td>▄▅▇▃▄▆▆▁▇▃▇█▄▇▆▇▄▃▅▄</td></tr><tr><td>validation/loss</td><td>▂▁▁▄▄▃▃█▃▃▂▂▄▄▃▄▅▆▃▄</td></tr></table><br/></div><div class=\"wandb-col\"><h3>Run summary:</h3><br/><table class=\"wandb\"><tr><td>test/accuracy</td><td>0.85446</td></tr><tr><td>train/accuracy</td><td>0.83837</td></tr><tr><td>train/loss</td><td>5.93356</td></tr><tr><td>validation/accuracy</td><td>0.83908</td></tr><tr><td>validation/loss</td><td>1.78904</td></tr></table><br/></div></div>"
      ],
      "text/plain": [
       "<IPython.core.display.HTML object>"
      ]
     },
     "metadata": {},
     "output_type": "display_data"
    },
    {
     "data": {
      "text/html": [
       " View run <strong style=\"color:#cdcd00\">confused-grass-35</strong> at: <a href='https://wandb.ai/shenderm/resnet50d-sc2000/runs/bbqvoqdd' target=\"_blank\">https://wandb.ai/shenderm/resnet50d-sc2000/runs/bbqvoqdd</a><br/> View project at: <a href='https://wandb.ai/shenderm/resnet50d-sc2000' target=\"_blank\">https://wandb.ai/shenderm/resnet50d-sc2000</a><br/>Synced 6 W&B file(s), 0 media file(s), 0 artifact file(s) and 0 other file(s)"
      ],
      "text/plain": [
       "<IPython.core.display.HTML object>"
      ]
     },
     "metadata": {},
     "output_type": "display_data"
    },
    {
     "data": {
      "text/html": [
       "Find logs at: <code>./wandb/run-20240605_164548-bbqvoqdd/logs</code>"
      ],
      "text/plain": [
       "<IPython.core.display.HTML object>"
      ]
     },
     "metadata": {},
     "output_type": "display_data"
    },
    {
     "data": {
      "text/html": [
       "Tracking run with wandb version 0.17.0"
      ],
      "text/plain": [
       "<IPython.core.display.HTML object>"
      ]
     },
     "metadata": {},
     "output_type": "display_data"
    },
    {
     "data": {
      "text/html": [
       "Run data is saved locally in <code>/Users/shenderm/Desktop/dermlens_code/wandb/run-20240605_165721-ghcgzofo</code>"
      ],
      "text/plain": [
       "<IPython.core.display.HTML object>"
      ]
     },
     "metadata": {},
     "output_type": "display_data"
    },
    {
     "data": {
      "text/html": [
       "Syncing run <strong><a href='https://wandb.ai/shenderm/resnet50d-sc2000/runs/ghcgzofo' target=\"_blank\">young-bird-36</a></strong> to <a href='https://wandb.ai/shenderm/resnet50d-sc2000' target=\"_blank\">Weights & Biases</a> (<a href='https://wandb.me/run' target=\"_blank\">docs</a>)<br/>"
      ],
      "text/plain": [
       "<IPython.core.display.HTML object>"
      ]
     },
     "metadata": {},
     "output_type": "display_data"
    },
    {
     "data": {
      "text/html": [
       " View project at <a href='https://wandb.ai/shenderm/resnet50d-sc2000' target=\"_blank\">https://wandb.ai/shenderm/resnet50d-sc2000</a>"
      ],
      "text/plain": [
       "<IPython.core.display.HTML object>"
      ]
     },
     "metadata": {},
     "output_type": "display_data"
    },
    {
     "data": {
      "text/html": [
       " View run at <a href='https://wandb.ai/shenderm/resnet50d-sc2000/runs/ghcgzofo' target=\"_blank\">https://wandb.ai/shenderm/resnet50d-sc2000/runs/ghcgzofo</a>"
      ],
      "text/plain": [
       "<IPython.core.display.HTML object>"
      ]
     },
     "metadata": {},
     "output_type": "display_data"
    },
    {
     "name": "stdout",
     "output_type": "stream",
     "text": [
      "lin1 resnet50d\n",
      "Lin1(\n",
      "  (fc1): Linear(in_features=2048, out_features=2, bias=True)\n",
      ")\n"
     ]
    },
    {
     "data": {
      "application/vnd.jupyter.widget-view+json": {
       "model_id": "b2e6f0f6ed5541e9830bf527a37ea916",
       "version_major": 2,
       "version_minor": 0
      },
      "text/plain": [
       "  0%|          | 0/20 [00:00<?, ?it/s]"
      ]
     },
     "metadata": {},
     "output_type": "display_data"
    },
    {
     "name": "stdout",
     "output_type": "stream",
     "text": [
      "Training Epoch 0: Loss = 8.182654589414597, Accuracy = 73.915900%\n",
      "Validation Epoch 0: Loss = 2.0045454502105713, Accuracy = 82.068966%\n",
      "Training Epoch 1: Loss = 7.7254137098789215, Accuracy = 76.675427%\n",
      "Validation Epoch 1: Loss = 1.9041498899459839, Accuracy = 80.919540%\n",
      "Training Epoch 2: Loss = 6.853832989931107, Accuracy = 79.960578%\n",
      "Validation Epoch 2: Loss = 1.711290717124939, Accuracy = 83.908046%\n",
      "Training Epoch 3: Loss = 6.562959522008896, Accuracy = 80.946124%\n",
      "Validation Epoch 3: Loss = 1.7770066261291504, Accuracy = 82.298851%\n",
      "Training Epoch 4: Loss = 6.3704634308815, Accuracy = 80.617608%\n",
      "Validation Epoch 4: Loss = 1.781402587890625, Accuracy = 81.839080%\n",
      "Training Epoch 5: Loss = 6.610250324010849, Accuracy = 81.406045%\n",
      "Validation Epoch 5: Loss = 1.7247364521026611, Accuracy = 82.068966%\n",
      "Training Epoch 6: Loss = 6.651069939136505, Accuracy = 80.157687%\n",
      "Validation Epoch 6: Loss = 1.7511229515075684, Accuracy = 81.839080%\n",
      "Training Epoch 7: Loss = 6.303075969219208, Accuracy = 81.603154%\n",
      "Validation Epoch 7: Loss = 1.6965235471725464, Accuracy = 82.298851%\n",
      "Training Epoch 8: Loss = 6.071213722229004, Accuracy = 83.442838%\n",
      "Validation Epoch 8: Loss = 1.6842129230499268, Accuracy = 82.298851%\n",
      "Training Epoch 9: Loss = 6.40387099981308, Accuracy = 80.683311%\n",
      "Validation Epoch 9: Loss = 1.8821642398834229, Accuracy = 83.678161%\n",
      "Training Epoch 10: Loss = 6.04925511777401, Accuracy = 82.982917%\n",
      "Validation Epoch 10: Loss = 1.6762672662734985, Accuracy = 85.517241%\n",
      "Training Epoch 11: Loss = 6.078151226043701, Accuracy = 82.917214%\n",
      "Validation Epoch 11: Loss = 1.6551096439361572, Accuracy = 84.367816%\n",
      "Training Epoch 12: Loss = 5.815390020608902, Accuracy = 82.982917%\n",
      "Validation Epoch 12: Loss = 1.6230525970458984, Accuracy = 85.287356%\n",
      "Training Epoch 13: Loss = 6.3125861287117, Accuracy = 81.997372%\n",
      "Validation Epoch 13: Loss = 1.6917812824249268, Accuracy = 84.367816%\n",
      "Training Epoch 14: Loss = 6.163557380437851, Accuracy = 82.457293%\n",
      "Validation Epoch 14: Loss = 1.7133116722106934, Accuracy = 83.908046%\n",
      "Training Epoch 15: Loss = 6.421091020107269, Accuracy = 83.048620%\n",
      "Validation Epoch 15: Loss = 1.7646634578704834, Accuracy = 83.908046%\n",
      "Training Epoch 16: Loss = 5.921176195144653, Accuracy = 83.639947%\n",
      "Validation Epoch 16: Loss = 1.9971044063568115, Accuracy = 82.068966%\n",
      "Training Epoch 17: Loss = 5.804769366979599, Accuracy = 85.085414%\n",
      "Validation Epoch 17: Loss = 1.718268632888794, Accuracy = 83.218391%\n",
      "Training Epoch 18: Loss = 6.140877068042755, Accuracy = 82.785808%\n",
      "Validation Epoch 18: Loss = 1.638924479484558, Accuracy = 85.517241%\n",
      "Training Epoch 19: Loss = 6.024891138076782, Accuracy = 83.114323%\n",
      "Validation Epoch 19: Loss = 1.7238311767578125, Accuracy = 82.988506%\n",
      "Batch 0: Accuracy = 85.000000%, Recall = 0.000000%, Precision = 0.000000%\n",
      "Batch 1: Accuracy = 86.000000%, Recall = 85.869565%, Precision = 98.750000%\n",
      "Batch 2: Accuracy = 76.923077%, Recall = 76.923077%, Precision = 100.000000%\n"
     ]
    },
    {
     "data": {
      "application/vnd.jupyter.widget-view+json": {
       "model_id": "c9c98b3c090d4c81836347283ae3fc0e",
       "version_major": 2,
       "version_minor": 0
      },
      "text/plain": [
       "VBox(children=(Label(value='0.003 MB of 0.020 MB uploaded\\r'), FloatProgress(value=0.1447025978327734, max=1.0…"
      ]
     },
     "metadata": {},
     "output_type": "display_data"
    },
    {
     "data": {
      "text/html": [
       "<style>\n",
       "    table.wandb td:nth-child(1) { padding: 0 10px; text-align: left ; width: auto;} td:nth-child(2) {text-align: left ; width: 100%}\n",
       "    .wandb-row { display: flex; flex-direction: row; flex-wrap: wrap; justify-content: flex-start; width: 100% }\n",
       "    .wandb-col { display: flex; flex-direction: column; flex-basis: 100%; flex: 1; padding: 10px; }\n",
       "    </style>\n",
       "<div class=\"wandb-row\"><div class=\"wandb-col\"><h3>Run history:</h3><br/><table class=\"wandb\"><tr><td>test/accuracy</td><td>▁</td></tr><tr><td>train/accuracy</td><td>▁▃▅▅▅▆▅▆▇▅▇▇▇▆▆▇▇█▇▇</td></tr><tr><td>train/loss</td><td>█▇▄▃▃▃▃▂▂▃▂▂▁▂▂▃▁▁▂▂</td></tr><tr><td>validation/accuracy</td><td>▃▁▆▃▂▃▂▃▃▅█▆█▆▆▆▃▅█▄</td></tr><tr><td>validation/loss</td><td>█▆▃▄▄▃▃▂▂▆▂▂▁▂▃▄█▃▁▃</td></tr></table><br/></div><div class=\"wandb-col\"><h3>Run summary:</h3><br/><table class=\"wandb\"><tr><td>test/accuracy</td><td>0.84977</td></tr><tr><td>train/accuracy</td><td>0.83114</td></tr><tr><td>train/loss</td><td>6.02489</td></tr><tr><td>validation/accuracy</td><td>0.82989</td></tr><tr><td>validation/loss</td><td>1.72383</td></tr></table><br/></div></div>"
      ],
      "text/plain": [
       "<IPython.core.display.HTML object>"
      ]
     },
     "metadata": {},
     "output_type": "display_data"
    },
    {
     "data": {
      "text/html": [
       " View run <strong style=\"color:#cdcd00\">young-bird-36</strong> at: <a href='https://wandb.ai/shenderm/resnet50d-sc2000/runs/ghcgzofo' target=\"_blank\">https://wandb.ai/shenderm/resnet50d-sc2000/runs/ghcgzofo</a><br/> View project at: <a href='https://wandb.ai/shenderm/resnet50d-sc2000' target=\"_blank\">https://wandb.ai/shenderm/resnet50d-sc2000</a><br/>Synced 6 W&B file(s), 0 media file(s), 0 artifact file(s) and 0 other file(s)"
      ],
      "text/plain": [
       "<IPython.core.display.HTML object>"
      ]
     },
     "metadata": {},
     "output_type": "display_data"
    },
    {
     "data": {
      "text/html": [
       "Find logs at: <code>./wandb/run-20240605_165721-ghcgzofo/logs</code>"
      ],
      "text/plain": [
       "<IPython.core.display.HTML object>"
      ]
     },
     "metadata": {},
     "output_type": "display_data"
    }
   ],
   "source": [
    "cm = ensemble('resnet50d-sc2000', config_dict, 5)"
   ]
  },
  {
   "cell_type": "code",
   "execution_count": 10,
   "metadata": {},
   "outputs": [
    {
     "data": {
      "text/plain": [
       "<sklearn.metrics._plot.confusion_matrix.ConfusionMatrixDisplay at 0x2bea23680>"
      ]
     },
     "execution_count": 10,
     "metadata": {},
     "output_type": "execute_result"
    },
    {
     "data": {
      "image/png": "[encoded data removed]",
      "text/plain": [
       "<Figure size 640x480 with 2 Axes>"
      ]
     },
     "metadata": {},
     "output_type": "display_data"
    }
   ],
   "source": [
    "display = ConfusionMatrixDisplay(cm, display_labels=[\"active\", \"inactive\"])\n",
    "display.plot()"
   ]
  },
  {
   "cell_type": "markdown",
   "metadata": {},
   "source": [
    "### Run pipeline"
   ]
  },
  {
   "cell_type": "code",
   "execution_count": 8,
   "metadata": {},
   "outputs": [
    {
     "name": "stderr",
     "output_type": "stream",
     "text": [
      "Failed to detect the name of this notebook, you can set it manually with the WANDB_NOTEBOOK_NAME environment variable to enable code saving.\n",
      "\u001b[34m\u001b[1mwandb\u001b[0m: Currently logged in as: \u001b[33mlivsworld\u001b[0m (\u001b[33mshenderm\u001b[0m). Use \u001b[1m`wandb login --relogin`\u001b[0m to force relogin\n"
     ]
    },
    {
     "data": {
      "text/html": [
       "Tracking run with wandb version 0.17.0"
      ],
      "text/plain": [
       "<IPython.core.display.HTML object>"
      ]
     },
     "metadata": {},
     "output_type": "display_data"
    },
    {
     "data": {
      "text/html": [
       "Run data is saved locally in <code>/Users/shenderm/Desktop/dermlens_code/wandb/run-20240604_124352-2elvzh5t</code>"
      ],
      "text/plain": [
       "<IPython.core.display.HTML object>"
      ]
     },
     "metadata": {},
     "output_type": "display_data"
    },
    {
     "data": {
      "text/html": [
       "Syncing run <strong><a href='https://wandb.ai/shenderm/resnet50d-sc2000/runs/2elvzh5t' target=\"_blank\">eager-feather-30</a></strong> to <a href='https://wandb.ai/shenderm/resnet50d-sc2000' target=\"_blank\">Weights & Biases</a> (<a href='https://wandb.me/run' target=\"_blank\">docs</a>)<br/>"
      ],
      "text/plain": [
       "<IPython.core.display.HTML object>"
      ]
     },
     "metadata": {},
     "output_type": "display_data"
    },
    {
     "data": {
      "text/html": [
       " View project at <a href='https://wandb.ai/shenderm/resnet50d-sc2000' target=\"_blank\">https://wandb.ai/shenderm/resnet50d-sc2000</a>"
      ],
      "text/plain": [
       "<IPython.core.display.HTML object>"
      ]
     },
     "metadata": {},
     "output_type": "display_data"
    },
    {
     "data": {
      "text/html": [
       " View run at <a href='https://wandb.ai/shenderm/resnet50d-sc2000/runs/2elvzh5t' target=\"_blank\">https://wandb.ai/shenderm/resnet50d-sc2000/runs/2elvzh5t</a>"
      ],
      "text/plain": [
       "<IPython.core.display.HTML object>"
      ]
     },
     "metadata": {},
     "output_type": "display_data"
    },
    {
     "name": "stdout",
     "output_type": "stream",
     "text": [
      "lin1 resnet50d\n",
      "Lin1(\n",
      "  (fc1): Linear(in_features=2048, out_features=2, bias=True)\n",
      ")\n"
     ]
    },
    {
     "data": {
      "application/vnd.jupyter.widget-view+json": {
       "model_id": "b852c9192e09473bb162469884adf702",
       "version_major": 2,
       "version_minor": 0
      },
      "text/plain": [
       "  0%|          | 0/20 [00:00<?, ?it/s]"
      ]
     },
     "metadata": {},
     "output_type": "display_data"
    },
    {
     "name": "stdout",
     "output_type": "stream",
     "text": [
      "Training Epoch 0: Loss = 8.89033654332161, Accuracy = 69.316689%\n",
      "Validation Epoch 0: Loss = 1.7965896129608154, Accuracy = 82.528736%\n",
      "Training Epoch 1: Loss = 7.124952644109726, Accuracy = 78.186597%\n",
      "Validation Epoch 1: Loss = 1.6638996601104736, Accuracy = 84.137931%\n",
      "Training Epoch 2: Loss = 7.148341715335846, Accuracy = 78.580815%\n",
      "Validation Epoch 2: Loss = 1.7711327075958252, Accuracy = 84.137931%\n",
      "Training Epoch 3: Loss = 6.546598479151726, Accuracy = 79.632063%\n",
      "Validation Epoch 3: Loss = 1.8265947103500366, Accuracy = 81.149425%\n",
      "Training Epoch 4: Loss = 6.6331357061862946, Accuracy = 79.763469%\n",
      "Validation Epoch 4: Loss = 1.9050168991088867, Accuracy = 82.068966%\n",
      "Training Epoch 5: Loss = 7.114650726318359, Accuracy = 78.055191%\n",
      "Validation Epoch 5: Loss = 1.719172716140747, Accuracy = 83.678161%\n",
      "Training Epoch 6: Loss = 6.683858245611191, Accuracy = 80.223390%\n",
      "Validation Epoch 6: Loss = 1.800154447555542, Accuracy = 83.218391%\n",
      "Training Epoch 7: Loss = 6.822438538074493, Accuracy = 79.894875%\n",
      "Validation Epoch 7: Loss = 1.6888072490692139, Accuracy = 83.908046%\n",
      "Training Epoch 8: Loss = 6.465892642736435, Accuracy = 82.128778%\n",
      "Validation Epoch 8: Loss = 1.7626290321350098, Accuracy = 84.137931%\n",
      "Training Epoch 9: Loss = 6.456235498189926, Accuracy = 80.814717%\n",
      "Validation Epoch 9: Loss = 1.7689939737319946, Accuracy = 83.448276%\n",
      "Training Epoch 10: Loss = 6.491980105638504, Accuracy = 80.091984%\n",
      "Validation Epoch 10: Loss = 1.7902439832687378, Accuracy = 83.218391%\n",
      "Training Epoch 11: Loss = 6.259898662567139, Accuracy = 81.997372%\n",
      "Validation Epoch 11: Loss = 1.7032983303070068, Accuracy = 84.827586%\n",
      "Training Epoch 12: Loss = 5.999060168862343, Accuracy = 82.325887%\n",
      "Validation Epoch 12: Loss = 2.0707736015319824, Accuracy = 80.459770%\n",
      "Training Epoch 13: Loss = 6.310561180114746, Accuracy = 82.720105%\n",
      "Validation Epoch 13: Loss = 1.8475985527038574, Accuracy = 84.137931%\n",
      "Training Epoch 14: Loss = 6.130353689193726, Accuracy = 82.785808%\n",
      "Validation Epoch 14: Loss = 1.769222378730774, Accuracy = 84.367816%\n",
      "Training Epoch 15: Loss = 6.268880128860474, Accuracy = 82.063075%\n",
      "Validation Epoch 15: Loss = 1.6747459173202515, Accuracy = 83.908046%\n",
      "Training Epoch 16: Loss = 6.101895168423653, Accuracy = 81.997372%\n",
      "Validation Epoch 16: Loss = 1.8411945104599, Accuracy = 83.678161%\n",
      "Training Epoch 17: Loss = 6.193735271692276, Accuracy = 83.180026%\n",
      "Validation Epoch 17: Loss = 1.8623056411743164, Accuracy = 83.908046%\n",
      "Training Epoch 18: Loss = 5.806752264499664, Accuracy = 83.771353%\n",
      "Validation Epoch 18: Loss = 2.1557579040527344, Accuracy = 81.609195%\n",
      "Training Epoch 19: Loss = 6.10039958357811, Accuracy = 82.063075%\n",
      "Validation Epoch 19: Loss = 1.9076884984970093, Accuracy = 83.218391%\n",
      "Batch 0: Accuracy = 96.000000%, Recall = 0.000000%, Precision = 0.000000%\n",
      "Batch 1: Accuracy = 80.000000%, Recall = 79.347826%, Precision = 98.648649%\n",
      "Batch 2: Accuracy = 76.923077%, Recall = 76.923077%, Precision = 100.000000%\n"
     ]
    },
    {
     "data": {
      "application/vnd.jupyter.widget-view+json": {
       "model_id": "5d8d71f4ae754ad8882bfa85f938c82b",
       "version_major": 2,
       "version_minor": 0
      },
      "text/plain": [
       "VBox(children=(Label(value='0.006 MB of 0.020 MB uploaded\\r'), FloatProgress(value=0.28832203309468496, max=1.…"
      ]
     },
     "metadata": {},
     "output_type": "display_data"
    },
    {
     "data": {
      "text/html": [
       "<style>\n",
       "    table.wandb td:nth-child(1) { padding: 0 10px; text-align: left ; width: auto;} td:nth-child(2) {text-align: left ; width: 100%}\n",
       "    .wandb-row { display: flex; flex-direction: row; flex-wrap: wrap; justify-content: flex-start; width: 100% }\n",
       "    .wandb-col { display: flex; flex-direction: column; flex-basis: 100%; flex: 1; padding: 10px; }\n",
       "    </style>\n",
       "<div class=\"wandb-row\"><div class=\"wandb-col\"><h3>Run history:</h3><br/><table class=\"wandb\"><tr><td>test/accuracy</td><td>▁</td></tr><tr><td>train/accuracy</td><td>▁▅▅▆▆▅▆▆▇▇▆▇▇▇█▇▇██▇</td></tr><tr><td>train/loss</td><td>█▄▄▃▃▄▃▃▂▂▃▂▁▂▂▂▂▂▁▂</td></tr><tr><td>validation/accuracy</td><td>▄▇▇▂▄▆▅▇▇▆▅█▁▇▇▇▆▇▃▅</td></tr><tr><td>validation/loss</td><td>▃▁▃▃▄▂▃▁▂▂▃▂▇▄▂▁▄▄█▄</td></tr></table><br/></div><div class=\"wandb-col\"><h3>Run summary:</h3><br/><table class=\"wandb\"><tr><td>test/accuracy</td><td>0.87324</td></tr><tr><td>train/accuracy</td><td>0.82063</td></tr><tr><td>train/loss</td><td>6.1004</td></tr><tr><td>validation/accuracy</td><td>0.83218</td></tr><tr><td>validation/loss</td><td>1.90769</td></tr></table><br/></div></div>"
      ],
      "text/plain": [
       "<IPython.core.display.HTML object>"
      ]
     },
     "metadata": {},
     "output_type": "display_data"
    },
    {
     "data": {
      "text/html": [
       " View run <strong style=\"color:#cdcd00\">eager-feather-30</strong> at: <a href='https://wandb.ai/shenderm/resnet50d-sc2000/runs/2elvzh5t' target=\"_blank\">https://wandb.ai/shenderm/resnet50d-sc2000/runs/2elvzh5t</a><br/> View project at: <a href='https://wandb.ai/shenderm/resnet50d-sc2000' target=\"_blank\">https://wandb.ai/shenderm/resnet50d-sc2000</a><br/>Synced 6 W&B file(s), 0 media file(s), 0 artifact file(s) and 0 other file(s)"
      ],
      "text/plain": [
       "<IPython.core.display.HTML object>"
      ]
     },
     "metadata": {},
     "output_type": "display_data"
    },
    {
     "data": {
      "text/html": [
       "Find logs at: <code>./wandb/run-20240604_124352-2elvzh5t/logs</code>"
      ],
      "text/plain": [
       "<IPython.core.display.HTML object>"
      ]
     },
     "metadata": {},
     "output_type": "display_data"
    },
    {
     "data": {
      "image/png": "[encoded data removed]",
      "text/plain": [
       "<Figure size 640x480 with 2 Axes>"
      ]
     },
     "metadata": {},
     "output_type": "display_data"
    }
   ],
   "source": [
    "model_pipeline('resnet50d-sc2000', config_dict)"
   ]
  },
  {
   "cell_type": "markdown",
   "metadata": {},
   "source": [
    "# MobileNetv2_100 + 2 fully connected layers"
   ]
  },
  {
   "cell_type": "markdown",
   "metadata": {},
   "source": [
    "### Hyperparameter configuration"
   ]
  },
  {
   "cell_type": "code",
   "execution_count": 8,
   "metadata": {},
   "outputs": [],
   "source": [
    "config_dict = dict(\n",
    "    learning_rate = 0.006,\n",
    "    epochs = 20,\n",
    "    batch_size = 200,\n",
    "    feat_extractor = \"mobilenetv2_100\",\n",
    "    fc_model = \"lin2\",\n",
    "    normalize = \"ImageNet\",\n",
    "    fc2_in = 1000,\n",
    "    output = 2,\n",
    "    dropout_rate = 0.5,\n",
    "    dataset = \"SC-2000v2\",\n",
    "    train_aug = True,\n",
    "    device = \"mps\",\n",
    "    save_as = 'pth'\n",
    ")"
   ]
  },
  {
   "cell_type": "markdown",
   "metadata": {},
   "source": [
    "### Average confusion matrix results across 5 runs"
   ]
  },
  {
   "cell_type": "code",
   "execution_count": 9,
   "metadata": {},
   "outputs": [
    {
     "name": "stderr",
     "output_type": "stream",
     "text": [
      "Failed to detect the name of this notebook, you can set it manually with the WANDB_NOTEBOOK_NAME environment variable to enable code saving.\n",
      "\u001b[34m\u001b[1mwandb\u001b[0m: Currently logged in as: \u001b[33mlivsworld\u001b[0m (\u001b[33mshenderm\u001b[0m). Use \u001b[1m`wandb login --relogin`\u001b[0m to force relogin\n"
     ]
    },
    {
     "data": {
      "text/html": [
       "Tracking run with wandb version 0.17.0"
      ],
      "text/plain": [
       "<IPython.core.display.HTML object>"
      ]
     },
     "metadata": {},
     "output_type": "display_data"
    },
    {
     "data": {
      "text/html": [
       "Run data is saved locally in <code>/Users/shenderm/Desktop/dermlens_code/wandb/run-20240605_171436-14haoahl</code>"
      ],
      "text/plain": [
       "<IPython.core.display.HTML object>"
      ]
     },
     "metadata": {},
     "output_type": "display_data"
    },
    {
     "data": {
      "text/html": [
       "Syncing run <strong><a href='https://wandb.ai/shenderm/mobilenetv2_100-sc2000/runs/14haoahl' target=\"_blank\">ethereal-planet-5</a></strong> to <a href='https://wandb.ai/shenderm/mobilenetv2_100-sc2000' target=\"_blank\">Weights & Biases</a> (<a href='https://wandb.me/run' target=\"_blank\">docs</a>)<br/>"
      ],
      "text/plain": [
       "<IPython.core.display.HTML object>"
      ]
     },
     "metadata": {},
     "output_type": "display_data"
    },
    {
     "data": {
      "text/html": [
       " View project at <a href='https://wandb.ai/shenderm/mobilenetv2_100-sc2000' target=\"_blank\">https://wandb.ai/shenderm/mobilenetv2_100-sc2000</a>"
      ],
      "text/plain": [
       "<IPython.core.display.HTML object>"
      ]
     },
     "metadata": {},
     "output_type": "display_data"
    },
    {
     "data": {
      "text/html": [
       " View run at <a href='https://wandb.ai/shenderm/mobilenetv2_100-sc2000/runs/14haoahl' target=\"_blank\">https://wandb.ai/shenderm/mobilenetv2_100-sc2000/runs/14haoahl</a>"
      ],
      "text/plain": [
       "<IPython.core.display.HTML object>"
      ]
     },
     "metadata": {},
     "output_type": "display_data"
    },
    {
     "name": "stdout",
     "output_type": "stream",
     "text": [
      "lin2 mobilenetv2_100\n",
      "Lin2(\n",
      "  (fc1): Linear(in_features=1280, out_features=1000, bias=True)\n",
      "  (act1): ReLU()\n",
      "  (dropout1): Dropout(p=0.5, inplace=False)\n",
      "  (fc2): Linear(in_features=1000, out_features=2, bias=True)\n",
      ")\n"
     ]
    },
    {
     "data": {
      "application/vnd.jupyter.widget-view+json": {
       "model_id": "87af79e816464eab9f4c88facdf89371",
       "version_major": 2,
       "version_minor": 0
      },
      "text/plain": [
       "  0%|          | 0/20 [00:00<?, ?it/s]"
      ]
     },
     "metadata": {},
     "output_type": "display_data"
    },
    {
     "name": "stdout",
     "output_type": "stream",
     "text": [
      "Training Epoch 0: Loss = 10.479773879051208, Accuracy = 57.752957%\n",
      "Validation Epoch 0: Loss = 1.3298892974853516, Accuracy = 76.091954%\n",
      "Training Epoch 1: Loss = 4.317238092422485, Accuracy = 70.105125%\n",
      "Validation Epoch 1: Loss = 1.3820706605911255, Accuracy = 74.482759%\n",
      "Training Epoch 2: Loss = 4.0041758716106415, Accuracy = 74.835742%\n",
      "Validation Epoch 2: Loss = 1.1547691822052002, Accuracy = 78.160920%\n",
      "Training Epoch 3: Loss = 3.785936653614044, Accuracy = 77.858081%\n",
      "Validation Epoch 3: Loss = 1.1509356498718262, Accuracy = 77.931034%\n",
      "Training Epoch 4: Loss = 3.518105834722519, Accuracy = 79.369251%\n",
      "Validation Epoch 4: Loss = 1.1223679780960083, Accuracy = 81.839080%\n",
      "Training Epoch 5: Loss = 3.7093501687049866, Accuracy = 76.741130%\n",
      "Validation Epoch 5: Loss = 1.1655222177505493, Accuracy = 80.689655%\n",
      "Training Epoch 6: Loss = 3.587771475315094, Accuracy = 78.580815%\n",
      "Validation Epoch 6: Loss = 1.1604976654052734, Accuracy = 80.919540%\n",
      "Training Epoch 7: Loss = 3.4209333658218384, Accuracy = 79.434954%\n",
      "Validation Epoch 7: Loss = 1.1935067176818848, Accuracy = 82.298851%\n",
      "Training Epoch 8: Loss = 3.369550049304962, Accuracy = 80.223390%\n",
      "Validation Epoch 8: Loss = 1.1411792039871216, Accuracy = 80.919540%\n",
      "Training Epoch 9: Loss = 3.358363151550293, Accuracy = 79.763469%\n",
      "Validation Epoch 9: Loss = 1.101983666419983, Accuracy = 78.620690%\n",
      "Training Epoch 10: Loss = 3.367101788520813, Accuracy = 79.434954%\n",
      "Validation Epoch 10: Loss = 1.0573400259017944, Accuracy = 81.839080%\n",
      "Training Epoch 11: Loss = 3.157299220561981, Accuracy = 80.814717%\n",
      "Validation Epoch 11: Loss = 1.135706901550293, Accuracy = 81.379310%\n",
      "Training Epoch 12: Loss = 3.1725194454193115, Accuracy = 81.865966%\n",
      "Validation Epoch 12: Loss = 1.1975245475769043, Accuracy = 80.919540%\n",
      "Training Epoch 13: Loss = 3.2134885489940643, Accuracy = 82.522996%\n",
      "Validation Epoch 13: Loss = 1.0922183990478516, Accuracy = 80.689655%\n",
      "Training Epoch 14: Loss = 3.232697308063507, Accuracy = 81.865966%\n",
      "Validation Epoch 14: Loss = 1.1188750267028809, Accuracy = 81.149425%\n",
      "Training Epoch 15: Loss = 3.160685896873474, Accuracy = 81.406045%\n",
      "Validation Epoch 15: Loss = 1.1181331872940063, Accuracy = 81.149425%\n",
      "Training Epoch 16: Loss = 3.4101386070251465, Accuracy = 80.026281%\n",
      "Validation Epoch 16: Loss = 1.1562764644622803, Accuracy = 80.689655%\n",
      "Training Epoch 17: Loss = 3.220484137535095, Accuracy = 79.697766%\n",
      "Validation Epoch 17: Loss = 1.2124360799789429, Accuracy = 82.298851%\n",
      "Training Epoch 18: Loss = 3.133036434650421, Accuracy = 81.997372%\n",
      "Validation Epoch 18: Loss = 1.2190464735031128, Accuracy = 81.149425%\n",
      "Training Epoch 19: Loss = 3.1712808907032013, Accuracy = 81.734560%\n",
      "Validation Epoch 19: Loss = 1.113515019416809, Accuracy = 81.839080%\n",
      "Batch 0: Accuracy = 87.500000%, Recall = 86.956522%, Precision = 86.021505%\n",
      "Batch 1: Accuracy = 84.615385%, Recall = 84.615385%, Precision = 100.000000%\n"
     ]
    },
    {
     "data": {
      "application/vnd.jupyter.widget-view+json": {
       "model_id": "6add28cef6094c33abd5ee9bd783cd77",
       "version_major": 2,
       "version_minor": 0
      },
      "text/plain": [
       "VBox(children=(Label(value='0.001 MB of 0.001 MB uploaded\\r'), FloatProgress(value=1.0, max=1.0)))"
      ]
     },
     "metadata": {},
     "output_type": "display_data"
    },
    {
     "data": {
      "text/html": [
       "<style>\n",
       "    table.wandb td:nth-child(1) { padding: 0 10px; text-align: left ; width: auto;} td:nth-child(2) {text-align: left ; width: 100%}\n",
       "    .wandb-row { display: flex; flex-direction: row; flex-wrap: wrap; justify-content: flex-start; width: 100% }\n",
       "    .wandb-col { display: flex; flex-direction: column; flex-basis: 100%; flex: 1; padding: 10px; }\n",
       "    </style>\n",
       "<div class=\"wandb-row\"><div class=\"wandb-col\"><h3>Run history:</h3><br/><table class=\"wandb\"><tr><td>test/accuracy</td><td>▁</td></tr><tr><td>train/accuracy</td><td>▁▄▆▇▇▆▇▇▇▇▇█████▇▇██</td></tr><tr><td>train/loss</td><td>█▂▂▂▁▂▁▁▁▁▁▁▁▁▁▁▁▁▁▁</td></tr><tr><td>validation/accuracy</td><td>▂▁▄▄█▇▇█▇▅█▇▇▇▇▇▇█▇█</td></tr><tr><td>validation/loss</td><td>▇█▃▃▂▃▃▄▃▂▁▃▄▂▂▂▃▄▄▂</td></tr></table><br/></div><div class=\"wandb-col\"><h3>Run summary:</h3><br/><table class=\"wandb\"><tr><td>test/accuracy</td><td>0.87324</td></tr><tr><td>train/accuracy</td><td>0.81735</td></tr><tr><td>train/loss</td><td>3.17128</td></tr><tr><td>validation/accuracy</td><td>0.81839</td></tr><tr><td>validation/loss</td><td>1.11352</td></tr></table><br/></div></div>"
      ],
      "text/plain": [
       "<IPython.core.display.HTML object>"
      ]
     },
     "metadata": {},
     "output_type": "display_data"
    },
    {
     "data": {
      "text/html": [
       " View run <strong style=\"color:#cdcd00\">ethereal-planet-5</strong> at: <a href='https://wandb.ai/shenderm/mobilenetv2_100-sc2000/runs/14haoahl' target=\"_blank\">https://wandb.ai/shenderm/mobilenetv2_100-sc2000/runs/14haoahl</a><br/> View project at: <a href='https://wandb.ai/shenderm/mobilenetv2_100-sc2000' target=\"_blank\">https://wandb.ai/shenderm/mobilenetv2_100-sc2000</a><br/>Synced 6 W&B file(s), 0 media file(s), 0 artifact file(s) and 0 other file(s)"
      ],
      "text/plain": [
       "<IPython.core.display.HTML object>"
      ]
     },
     "metadata": {},
     "output_type": "display_data"
    },
    {
     "data": {
      "text/html": [
       "Find logs at: <code>./wandb/run-20240605_171436-14haoahl/logs</code>"
      ],
      "text/plain": [
       "<IPython.core.display.HTML object>"
      ]
     },
     "metadata": {},
     "output_type": "display_data"
    },
    {
     "data": {
      "application/vnd.jupyter.widget-view+json": {
       "model_id": "fc8a5f5257d34bb0b4aaeff15e31b359",
       "version_major": 2,
       "version_minor": 0
      },
      "text/plain": [
       "VBox(children=(Label(value='Waiting for wandb.init()...\\r'), FloatProgress(value=0.011167792133346666, max=1.0…"
      ]
     },
     "metadata": {},
     "output_type": "display_data"
    },
    {
     "data": {
      "text/html": [
       "Tracking run with wandb version 0.17.0"
      ],
      "text/plain": [
       "<IPython.core.display.HTML object>"
      ]
     },
     "metadata": {},
     "output_type": "display_data"
    },
    {
     "data": {
      "text/html": [
       "Run data is saved locally in <code>/Users/shenderm/Desktop/dermlens_code/wandb/run-20240605_172343-phlsj6cl</code>"
      ],
      "text/plain": [
       "<IPython.core.display.HTML object>"
      ]
     },
     "metadata": {},
     "output_type": "display_data"
    },
    {
     "data": {
      "text/html": [
       "Syncing run <strong><a href='https://wandb.ai/shenderm/mobilenetv2_100-sc2000/runs/phlsj6cl' target=\"_blank\">toasty-dream-6</a></strong> to <a href='https://wandb.ai/shenderm/mobilenetv2_100-sc2000' target=\"_blank\">Weights & Biases</a> (<a href='https://wandb.me/run' target=\"_blank\">docs</a>)<br/>"
      ],
      "text/plain": [
       "<IPython.core.display.HTML object>"
      ]
     },
     "metadata": {},
     "output_type": "display_data"
    },
    {
     "data": {
      "text/html": [
       " View project at <a href='https://wandb.ai/shenderm/mobilenetv2_100-sc2000' target=\"_blank\">https://wandb.ai/shenderm/mobilenetv2_100-sc2000</a>"
      ],
      "text/plain": [
       "<IPython.core.display.HTML object>"
      ]
     },
     "metadata": {},
     "output_type": "display_data"
    },
    {
     "data": {
      "text/html": [
       " View run at <a href='https://wandb.ai/shenderm/mobilenetv2_100-sc2000/runs/phlsj6cl' target=\"_blank\">https://wandb.ai/shenderm/mobilenetv2_100-sc2000/runs/phlsj6cl</a>"
      ],
      "text/plain": [
       "<IPython.core.display.HTML object>"
      ]
     },
     "metadata": {},
     "output_type": "display_data"
    },
    {
     "name": "stdout",
     "output_type": "stream",
     "text": [
      "lin2 mobilenetv2_100\n",
      "Lin2(\n",
      "  (fc1): Linear(in_features=1280, out_features=1000, bias=True)\n",
      "  (act1): ReLU()\n",
      "  (dropout1): Dropout(p=0.5, inplace=False)\n",
      "  (fc2): Linear(in_features=1000, out_features=2, bias=True)\n",
      ")\n"
     ]
    },
    {
     "data": {
      "application/vnd.jupyter.widget-view+json": {
       "model_id": "d59d5238fba44084a574aee7a164ae46",
       "version_major": 2,
       "version_minor": 0
      },
      "text/plain": [
       "  0%|          | 0/20 [00:00<?, ?it/s]"
      ]
     },
     "metadata": {},
     "output_type": "display_data"
    },
    {
     "name": "stdout",
     "output_type": "stream",
     "text": [
      "Training Epoch 0: Loss = 12.775070667266846, Accuracy = 57.752957%\n",
      "Validation Epoch 0: Loss = 1.379840612411499, Accuracy = 77.471264%\n",
      "Training Epoch 1: Loss = 4.5550389885902405, Accuracy = 68.396846%\n",
      "Validation Epoch 1: Loss = 1.376750111579895, Accuracy = 77.011494%\n",
      "Training Epoch 2: Loss = 4.177765309810638, Accuracy = 72.470434%\n",
      "Validation Epoch 2: Loss = 1.1471022367477417, Accuracy = 81.149425%\n",
      "Training Epoch 3: Loss = 3.845310866832733, Accuracy = 77.266754%\n",
      "Validation Epoch 3: Loss = 1.1115729808807373, Accuracy = 81.839080%\n",
      "Training Epoch 4: Loss = 3.629471391439438, Accuracy = 78.449409%\n",
      "Validation Epoch 4: Loss = 1.07804274559021, Accuracy = 80.459770%\n",
      "Training Epoch 5: Loss = 3.505532443523407, Accuracy = 79.500657%\n",
      "Validation Epoch 5: Loss = 1.152936577796936, Accuracy = 81.609195%\n",
      "Training Epoch 6: Loss = 3.478729635477066, Accuracy = 80.289093%\n",
      "Validation Epoch 6: Loss = 1.1448715925216675, Accuracy = 81.379310%\n",
      "Training Epoch 7: Loss = 3.332010895013809, Accuracy = 81.208936%\n",
      "Validation Epoch 7: Loss = 1.1093075275421143, Accuracy = 82.068966%\n",
      "Training Epoch 8: Loss = 3.415780186653137, Accuracy = 80.289093%\n",
      "Validation Epoch 8: Loss = 1.1397854089736938, Accuracy = 79.770115%\n",
      "Training Epoch 9: Loss = 3.3686949014663696, Accuracy = 80.026281%\n",
      "Validation Epoch 9: Loss = 1.1229820251464844, Accuracy = 80.689655%\n",
      "Training Epoch 10: Loss = 3.3832295536994934, Accuracy = 78.777924%\n",
      "Validation Epoch 10: Loss = 1.1473006010055542, Accuracy = 80.919540%\n",
      "Training Epoch 11: Loss = 3.2467847764492035, Accuracy = 81.668857%\n",
      "Validation Epoch 11: Loss = 1.13737952709198, Accuracy = 80.919540%\n",
      "Training Epoch 12: Loss = 3.4396783113479614, Accuracy = 79.303548%\n",
      "Validation Epoch 12: Loss = 1.1045082807540894, Accuracy = 80.689655%\n",
      "Training Epoch 13: Loss = 3.231108635663986, Accuracy = 80.091984%\n",
      "Validation Epoch 13: Loss = 1.1600966453552246, Accuracy = 80.919540%\n",
      "Training Epoch 14: Loss = 3.3633029758930206, Accuracy = 80.814717%\n",
      "Validation Epoch 14: Loss = 1.1248260736465454, Accuracy = 81.839080%\n",
      "Training Epoch 15: Loss = 3.2960517406463623, Accuracy = 81.011827%\n",
      "Validation Epoch 15: Loss = 1.1633597612380981, Accuracy = 82.068966%\n",
      "Training Epoch 16: Loss = 3.257933586835861, Accuracy = 79.040736%\n",
      "Validation Epoch 16: Loss = 1.2175891399383545, Accuracy = 81.379310%\n",
      "Training Epoch 17: Loss = 3.320336550474167, Accuracy = 79.894875%\n",
      "Validation Epoch 17: Loss = 1.1267967224121094, Accuracy = 81.609195%\n",
      "Training Epoch 18: Loss = 3.036359816789627, Accuracy = 82.982917%\n",
      "Validation Epoch 18: Loss = 1.1941382884979248, Accuracy = 82.988506%\n",
      "Training Epoch 19: Loss = 3.289757877588272, Accuracy = 80.814717%\n",
      "Validation Epoch 19: Loss = 1.1971282958984375, Accuracy = 81.379310%\n",
      "Batch 0: Accuracy = 87.500000%, Recall = 83.695652%, Precision = 88.505747%\n",
      "Batch 1: Accuracy = 84.615385%, Recall = 84.615385%, Precision = 100.000000%\n"
     ]
    },
    {
     "data": {
      "application/vnd.jupyter.widget-view+json": {
       "model_id": "dfd42c8a085843e8bb8fb3d156f63907",
       "version_major": 2,
       "version_minor": 0
      },
      "text/plain": [
       "VBox(children=(Label(value='0.001 MB of 0.001 MB uploaded\\r'), FloatProgress(value=1.0, max=1.0)))"
      ]
     },
     "metadata": {},
     "output_type": "display_data"
    },
    {
     "data": {
      "text/html": [
       "<style>\n",
       "    table.wandb td:nth-child(1) { padding: 0 10px; text-align: left ; width: auto;} td:nth-child(2) {text-align: left ; width: 100%}\n",
       "    .wandb-row { display: flex; flex-direction: row; flex-wrap: wrap; justify-content: flex-start; width: 100% }\n",
       "    .wandb-col { display: flex; flex-direction: column; flex-basis: 100%; flex: 1; padding: 10px; }\n",
       "    </style>\n",
       "<div class=\"wandb-row\"><div class=\"wandb-col\"><h3>Run history:</h3><br/><table class=\"wandb\"><tr><td>test/accuracy</td><td>▁</td></tr><tr><td>train/accuracy</td><td>▁▄▅▆▇▇▇█▇▇▇█▇▇▇▇▇▇█▇</td></tr><tr><td>train/loss</td><td>█▂▂▂▁▁▁▁▁▁▁▁▁▁▁▁▁▁▁▁</td></tr><tr><td>validation/accuracy</td><td>▂▁▆▇▅▆▆▇▄▅▆▆▅▆▇▇▆▆█▆</td></tr><tr><td>validation/loss</td><td>██▃▂▁▃▃▂▂▂▃▂▂▃▂▃▄▂▄▄</td></tr></table><br/></div><div class=\"wandb-col\"><h3>Run summary:</h3><br/><table class=\"wandb\"><tr><td>test/accuracy</td><td>0.87324</td></tr><tr><td>train/accuracy</td><td>0.80815</td></tr><tr><td>train/loss</td><td>3.28976</td></tr><tr><td>validation/accuracy</td><td>0.81379</td></tr><tr><td>validation/loss</td><td>1.19713</td></tr></table><br/></div></div>"
      ],
      "text/plain": [
       "<IPython.core.display.HTML object>"
      ]
     },
     "metadata": {},
     "output_type": "display_data"
    },
    {
     "data": {
      "text/html": [
       " View run <strong style=\"color:#cdcd00\">toasty-dream-6</strong> at: <a href='https://wandb.ai/shenderm/mobilenetv2_100-sc2000/runs/phlsj6cl' target=\"_blank\">https://wandb.ai/shenderm/mobilenetv2_100-sc2000/runs/phlsj6cl</a><br/> View project at: <a href='https://wandb.ai/shenderm/mobilenetv2_100-sc2000' target=\"_blank\">https://wandb.ai/shenderm/mobilenetv2_100-sc2000</a><br/>Synced 6 W&B file(s), 0 media file(s), 0 artifact file(s) and 0 other file(s)"
      ],
      "text/plain": [
       "<IPython.core.display.HTML object>"
      ]
     },
     "metadata": {},
     "output_type": "display_data"
    },
    {
     "data": {
      "text/html": [
       "Find logs at: <code>./wandb/run-20240605_172343-phlsj6cl/logs</code>"
      ],
      "text/plain": [
       "<IPython.core.display.HTML object>"
      ]
     },
     "metadata": {},
     "output_type": "display_data"
    },
    {
     "data": {
      "application/vnd.jupyter.widget-view+json": {
       "model_id": "9f95c25fcd2046f389aac3f3edcfa9ff",
       "version_major": 2,
       "version_minor": 0
      },
      "text/plain": [
       "VBox(children=(Label(value='Waiting for wandb.init()...\\r'), FloatProgress(value=0.011168017588897784, max=1.0…"
      ]
     },
     "metadata": {},
     "output_type": "display_data"
    },
    {
     "data": {
      "text/html": [
       "Tracking run with wandb version 0.17.0"
      ],
      "text/plain": [
       "<IPython.core.display.HTML object>"
      ]
     },
     "metadata": {},
     "output_type": "display_data"
    },
    {
     "data": {
      "text/html": [
       "Run data is saved locally in <code>/Users/shenderm/Desktop/dermlens_code/wandb/run-20240605_173247-oanvrkbu</code>"
      ],
      "text/plain": [
       "<IPython.core.display.HTML object>"
      ]
     },
     "metadata": {},
     "output_type": "display_data"
    },
    {
     "data": {
      "text/html": [
       "Syncing run <strong><a href='https://wandb.ai/shenderm/mobilenetv2_100-sc2000/runs/oanvrkbu' target=\"_blank\">faithful-vortex-7</a></strong> to <a href='https://wandb.ai/shenderm/mobilenetv2_100-sc2000' target=\"_blank\">Weights & Biases</a> (<a href='https://wandb.me/run' target=\"_blank\">docs</a>)<br/>"
      ],
      "text/plain": [
       "<IPython.core.display.HTML object>"
      ]
     },
     "metadata": {},
     "output_type": "display_data"
    },
    {
     "data": {
      "text/html": [
       " View project at <a href='https://wandb.ai/shenderm/mobilenetv2_100-sc2000' target=\"_blank\">https://wandb.ai/shenderm/mobilenetv2_100-sc2000</a>"
      ],
      "text/plain": [
       "<IPython.core.display.HTML object>"
      ]
     },
     "metadata": {},
     "output_type": "display_data"
    },
    {
     "data": {
      "text/html": [
       " View run at <a href='https://wandb.ai/shenderm/mobilenetv2_100-sc2000/runs/oanvrkbu' target=\"_blank\">https://wandb.ai/shenderm/mobilenetv2_100-sc2000/runs/oanvrkbu</a>"
      ],
      "text/plain": [
       "<IPython.core.display.HTML object>"
      ]
     },
     "metadata": {},
     "output_type": "display_data"
    },
    {
     "name": "stdout",
     "output_type": "stream",
     "text": [
      "lin2 mobilenetv2_100\n",
      "Lin2(\n",
      "  (fc1): Linear(in_features=1280, out_features=1000, bias=True)\n",
      "  (act1): ReLU()\n",
      "  (dropout1): Dropout(p=0.5, inplace=False)\n",
      "  (fc2): Linear(in_features=1000, out_features=2, bias=True)\n",
      ")\n"
     ]
    },
    {
     "data": {
      "application/vnd.jupyter.widget-view+json": {
       "model_id": "702648c34cfa42bf9632148cfae56908",
       "version_major": 2,
       "version_minor": 0
      },
      "text/plain": [
       "  0%|          | 0/20 [00:00<?, ?it/s]"
      ]
     },
     "metadata": {},
     "output_type": "display_data"
    },
    {
     "name": "stdout",
     "output_type": "stream",
     "text": [
      "Training Epoch 0: Loss = 11.766199946403503, Accuracy = 56.504599%\n",
      "Validation Epoch 0: Loss = 1.8085529804229736, Accuracy = 69.655172%\n",
      "Training Epoch 1: Loss = 4.304476112127304, Accuracy = 71.747700%\n",
      "Validation Epoch 1: Loss = 1.3149654865264893, Accuracy = 78.160920%\n",
      "Training Epoch 2: Loss = 3.8872393667697906, Accuracy = 76.149803%\n",
      "Validation Epoch 2: Loss = 1.1365350484848022, Accuracy = 82.298851%\n",
      "Training Epoch 3: Loss = 3.720883309841156, Accuracy = 75.689882%\n",
      "Validation Epoch 3: Loss = 1.1567045450210571, Accuracy = 82.758621%\n",
      "Training Epoch 4: Loss = 3.5905519127845764, Accuracy = 78.120894%\n",
      "Validation Epoch 4: Loss = 1.1544814109802246, Accuracy = 81.379310%\n",
      "Training Epoch 5: Loss = 3.6776755452156067, Accuracy = 77.266754%\n",
      "Validation Epoch 5: Loss = 1.1690120697021484, Accuracy = 81.379310%\n",
      "Training Epoch 6: Loss = 3.518731564283371, Accuracy = 78.909330%\n",
      "Validation Epoch 6: Loss = 1.1827569007873535, Accuracy = 80.689655%\n",
      "Training Epoch 7: Loss = 3.4765106439590454, Accuracy = 79.237845%\n",
      "Validation Epoch 7: Loss = 1.1192922592163086, Accuracy = 80.229885%\n",
      "Training Epoch 8: Loss = 3.5647583603858948, Accuracy = 79.369251%\n",
      "Validation Epoch 8: Loss = 1.166943073272705, Accuracy = 79.770115%\n",
      "Training Epoch 9: Loss = 3.3743947744369507, Accuracy = 79.106439%\n",
      "Validation Epoch 9: Loss = 1.1896083354949951, Accuracy = 80.459770%\n",
      "Training Epoch 10: Loss = 3.190736174583435, Accuracy = 81.143233%\n",
      "Validation Epoch 10: Loss = 1.1115899085998535, Accuracy = 81.609195%\n",
      "Training Epoch 11: Loss = 3.433365285396576, Accuracy = 80.683311%\n",
      "Validation Epoch 11: Loss = 1.2038829326629639, Accuracy = 77.241379%\n",
      "Training Epoch 12: Loss = 3.4187362492084503, Accuracy = 79.303548%\n",
      "Validation Epoch 12: Loss = 1.1219463348388672, Accuracy = 80.919540%\n",
      "Training Epoch 13: Loss = 3.2112755477428436, Accuracy = 80.683311%\n",
      "Validation Epoch 13: Loss = 1.1648592948913574, Accuracy = 80.229885%\n",
      "Training Epoch 14: Loss = 3.417780876159668, Accuracy = 78.712221%\n",
      "Validation Epoch 14: Loss = 1.0967779159545898, Accuracy = 82.758621%\n",
      "Training Epoch 15: Loss = 3.5327904522418976, Accuracy = 78.646518%\n",
      "Validation Epoch 15: Loss = 1.1254583597183228, Accuracy = 81.379310%\n",
      "Training Epoch 16: Loss = 3.3310515880584717, Accuracy = 80.354796%\n",
      "Validation Epoch 16: Loss = 1.1623317003250122, Accuracy = 80.229885%\n",
      "Training Epoch 17: Loss = 3.3179346919059753, Accuracy = 80.157687%\n",
      "Validation Epoch 17: Loss = 1.0813772678375244, Accuracy = 82.528736%\n",
      "Training Epoch 18: Loss = 3.222623884677887, Accuracy = 80.683311%\n",
      "Validation Epoch 18: Loss = 1.0951991081237793, Accuracy = 83.448276%\n",
      "Training Epoch 19: Loss = 3.1576408743858337, Accuracy = 81.143233%\n",
      "Validation Epoch 19: Loss = 1.1055139303207397, Accuracy = 80.459770%\n",
      "Batch 0: Accuracy = 81.000000%, Recall = 89.130435%, Precision = 74.545455%\n",
      "Batch 1: Accuracy = 92.307692%, Recall = 92.307692%, Precision = 100.000000%\n"
     ]
    },
    {
     "data": {
      "application/vnd.jupyter.widget-view+json": {
       "model_id": "62b4b75acd8044719292a3ad31f70a45",
       "version_major": 2,
       "version_minor": 0
      },
      "text/plain": [
       "VBox(children=(Label(value='0.001 MB of 0.001 MB uploaded\\r'), FloatProgress(value=1.0, max=1.0)))"
      ]
     },
     "metadata": {},
     "output_type": "display_data"
    },
    {
     "data": {
      "text/html": [
       "<style>\n",
       "    table.wandb td:nth-child(1) { padding: 0 10px; text-align: left ; width: auto;} td:nth-child(2) {text-align: left ; width: 100%}\n",
       "    .wandb-row { display: flex; flex-direction: row; flex-wrap: wrap; justify-content: flex-start; width: 100% }\n",
       "    .wandb-col { display: flex; flex-direction: column; flex-basis: 100%; flex: 1; padding: 10px; }\n",
       "    </style>\n",
       "<div class=\"wandb-row\"><div class=\"wandb-col\"><h3>Run history:</h3><br/><table class=\"wandb\"><tr><td>test/accuracy</td><td>▁</td></tr><tr><td>train/accuracy</td><td>▁▅▇▆▇▇▇▇▇▇██▇█▇▇████</td></tr><tr><td>train/loss</td><td>█▂▂▁▁▁▁▁▁▁▁▁▁▁▁▁▁▁▁▁</td></tr><tr><td>validation/accuracy</td><td>▁▅▇█▇▇▇▆▆▆▇▅▇▆█▇▆██▆</td></tr><tr><td>validation/loss</td><td>█▃▂▂▂▂▂▁▂▂▁▂▁▂▁▁▂▁▁▁</td></tr></table><br/></div><div class=\"wandb-col\"><h3>Run summary:</h3><br/><table class=\"wandb\"><tr><td>test/accuracy</td><td>0.8169</td></tr><tr><td>train/accuracy</td><td>0.81143</td></tr><tr><td>train/loss</td><td>3.15764</td></tr><tr><td>validation/accuracy</td><td>0.8046</td></tr><tr><td>validation/loss</td><td>1.10551</td></tr></table><br/></div></div>"
      ],
      "text/plain": [
       "<IPython.core.display.HTML object>"
      ]
     },
     "metadata": {},
     "output_type": "display_data"
    },
    {
     "data": {
      "text/html": [
       " View run <strong style=\"color:#cdcd00\">faithful-vortex-7</strong> at: <a href='https://wandb.ai/shenderm/mobilenetv2_100-sc2000/runs/oanvrkbu' target=\"_blank\">https://wandb.ai/shenderm/mobilenetv2_100-sc2000/runs/oanvrkbu</a><br/> View project at: <a href='https://wandb.ai/shenderm/mobilenetv2_100-sc2000' target=\"_blank\">https://wandb.ai/shenderm/mobilenetv2_100-sc2000</a><br/>Synced 6 W&B file(s), 0 media file(s), 0 artifact file(s) and 0 other file(s)"
      ],
      "text/plain": [
       "<IPython.core.display.HTML object>"
      ]
     },
     "metadata": {},
     "output_type": "display_data"
    },
    {
     "data": {
      "text/html": [
       "Find logs at: <code>./wandb/run-20240605_173247-oanvrkbu/logs</code>"
      ],
      "text/plain": [
       "<IPython.core.display.HTML object>"
      ]
     },
     "metadata": {},
     "output_type": "display_data"
    },
    {
     "data": {
      "application/vnd.jupyter.widget-view+json": {
       "model_id": "85dfbaba089746c3b893ff0178ab7bb9",
       "version_major": 2,
       "version_minor": 0
      },
      "text/plain": [
       "VBox(children=(Label(value='Waiting for wandb.init()...\\r'), FloatProgress(value=0.011223062966665667, max=1.0…"
      ]
     },
     "metadata": {},
     "output_type": "display_data"
    },
    {
     "data": {
      "text/html": [
       "Tracking run with wandb version 0.17.0"
      ],
      "text/plain": [
       "<IPython.core.display.HTML object>"
      ]
     },
     "metadata": {},
     "output_type": "display_data"
    },
    {
     "data": {
      "text/html": [
       "Run data is saved locally in <code>/Users/shenderm/Desktop/dermlens_code/wandb/run-20240605_174149-ybjqn7t9</code>"
      ],
      "text/plain": [
       "<IPython.core.display.HTML object>"
      ]
     },
     "metadata": {},
     "output_type": "display_data"
    },
    {
     "data": {
      "text/html": [
       "Syncing run <strong><a href='https://wandb.ai/shenderm/mobilenetv2_100-sc2000/runs/ybjqn7t9' target=\"_blank\">volcanic-sound-8</a></strong> to <a href='https://wandb.ai/shenderm/mobilenetv2_100-sc2000' target=\"_blank\">Weights & Biases</a> (<a href='https://wandb.me/run' target=\"_blank\">docs</a>)<br/>"
      ],
      "text/plain": [
       "<IPython.core.display.HTML object>"
      ]
     },
     "metadata": {},
     "output_type": "display_data"
    },
    {
     "data": {
      "text/html": [
       " View project at <a href='https://wandb.ai/shenderm/mobilenetv2_100-sc2000' target=\"_blank\">https://wandb.ai/shenderm/mobilenetv2_100-sc2000</a>"
      ],
      "text/plain": [
       "<IPython.core.display.HTML object>"
      ]
     },
     "metadata": {},
     "output_type": "display_data"
    },
    {
     "data": {
      "text/html": [
       " View run at <a href='https://wandb.ai/shenderm/mobilenetv2_100-sc2000/runs/ybjqn7t9' target=\"_blank\">https://wandb.ai/shenderm/mobilenetv2_100-sc2000/runs/ybjqn7t9</a>"
      ],
      "text/plain": [
       "<IPython.core.display.HTML object>"
      ]
     },
     "metadata": {},
     "output_type": "display_data"
    },
    {
     "name": "stdout",
     "output_type": "stream",
     "text": [
      "lin2 mobilenetv2_100\n",
      "Lin2(\n",
      "  (fc1): Linear(in_features=1280, out_features=1000, bias=True)\n",
      "  (act1): ReLU()\n",
      "  (dropout1): Dropout(p=0.5, inplace=False)\n",
      "  (fc2): Linear(in_features=1000, out_features=2, bias=True)\n",
      ")\n"
     ]
    },
    {
     "data": {
      "application/vnd.jupyter.widget-view+json": {
       "model_id": "2d451b9eeebc45f29f20694db3425038",
       "version_major": 2,
       "version_minor": 0
      },
      "text/plain": [
       "  0%|          | 0/20 [00:00<?, ?it/s]"
      ]
     },
     "metadata": {},
     "output_type": "display_data"
    },
    {
     "name": "stdout",
     "output_type": "stream",
     "text": [
      "Training Epoch 0: Loss = 12.543854653835297, Accuracy = 56.307490%\n",
      "Validation Epoch 0: Loss = 1.6444261074066162, Accuracy = 69.655172%\n",
      "Training Epoch 1: Loss = 4.391907751560211, Accuracy = 69.119580%\n",
      "Validation Epoch 1: Loss = 1.3089720010757446, Accuracy = 79.080460%\n",
      "Training Epoch 2: Loss = 3.8950746655464172, Accuracy = 74.901445%\n",
      "Validation Epoch 2: Loss = 1.1578350067138672, Accuracy = 82.758621%\n",
      "Training Epoch 3: Loss = 3.6651281118392944, Accuracy = 78.318003%\n",
      "Validation Epoch 3: Loss = 1.1037111282348633, Accuracy = 82.298851%\n",
      "Training Epoch 4: Loss = 3.525667130947113, Accuracy = 79.500657%\n",
      "Validation Epoch 4: Loss = 1.1300649642944336, Accuracy = 81.379310%\n",
      "Training Epoch 5: Loss = 3.503543108701706, Accuracy = 80.223390%\n",
      "Validation Epoch 5: Loss = 1.1574721336364746, Accuracy = 80.459770%\n",
      "Training Epoch 6: Loss = 3.4903278946876526, Accuracy = 79.237845%\n",
      "Validation Epoch 6: Loss = 1.1391234397888184, Accuracy = 80.229885%\n",
      "Training Epoch 7: Loss = 3.4249756932258606, Accuracy = 79.960578%\n",
      "Validation Epoch 7: Loss = 1.211679220199585, Accuracy = 80.229885%\n",
      "Training Epoch 8: Loss = 3.380533814430237, Accuracy = 79.632063%\n",
      "Validation Epoch 8: Loss = 1.1082462072372437, Accuracy = 81.149425%\n",
      "Training Epoch 9: Loss = 3.247841536998749, Accuracy = 80.814717%\n",
      "Validation Epoch 9: Loss = 1.0924830436706543, Accuracy = 80.919540%\n",
      "Training Epoch 10: Loss = 3.280638039112091, Accuracy = 80.486202%\n",
      "Validation Epoch 10: Loss = 1.1596415042877197, Accuracy = 80.229885%\n",
      "Training Epoch 11: Loss = 3.2734571993350983, Accuracy = 81.406045%\n",
      "Validation Epoch 11: Loss = 1.1000447273254395, Accuracy = 80.919540%\n",
      "Training Epoch 12: Loss = 3.2441297471523285, Accuracy = 81.865966%\n",
      "Validation Epoch 12: Loss = 1.090370774269104, Accuracy = 82.298851%\n",
      "Training Epoch 13: Loss = 3.261274427175522, Accuracy = 81.077530%\n",
      "Validation Epoch 13: Loss = 1.0838326215744019, Accuracy = 81.379310%\n",
      "Training Epoch 14: Loss = 3.241082340478897, Accuracy = 80.486202%\n",
      "Validation Epoch 14: Loss = 1.1065161228179932, Accuracy = 81.609195%\n",
      "Training Epoch 15: Loss = 3.2312271893024445, Accuracy = 81.603154%\n",
      "Validation Epoch 15: Loss = 1.097374677658081, Accuracy = 83.218391%\n",
      "Training Epoch 16: Loss = 3.2392397820949554, Accuracy = 80.486202%\n",
      "Validation Epoch 16: Loss = 1.0572400093078613, Accuracy = 83.448276%\n",
      "Training Epoch 17: Loss = 3.1760301291942596, Accuracy = 82.391590%\n",
      "Validation Epoch 17: Loss = 1.0844132900238037, Accuracy = 82.528736%\n",
      "Training Epoch 18: Loss = 3.258376508951187, Accuracy = 80.486202%\n",
      "Validation Epoch 18: Loss = 1.1603754758834839, Accuracy = 80.689655%\n",
      "Training Epoch 19: Loss = 3.1793979108333588, Accuracy = 81.603154%\n",
      "Validation Epoch 19: Loss = 1.1545722484588623, Accuracy = 83.908046%\n",
      "Batch 0: Accuracy = 86.000000%, Recall = 84.782609%, Precision = 84.782609%\n",
      "Batch 1: Accuracy = 84.615385%, Recall = 84.615385%, Precision = 100.000000%\n"
     ]
    },
    {
     "data": {
      "application/vnd.jupyter.widget-view+json": {
       "model_id": "dcc8404a6ffd4cc78e171658ab027327",
       "version_major": 2,
       "version_minor": 0
      },
      "text/plain": [
       "VBox(children=(Label(value='0.001 MB of 0.027 MB uploaded\\r'), FloatProgress(value=0.02645741467310163, max=1.…"
      ]
     },
     "metadata": {},
     "output_type": "display_data"
    },
    {
     "data": {
      "text/html": [
       "<style>\n",
       "    table.wandb td:nth-child(1) { padding: 0 10px; text-align: left ; width: auto;} td:nth-child(2) {text-align: left ; width: 100%}\n",
       "    .wandb-row { display: flex; flex-direction: row; flex-wrap: wrap; justify-content: flex-start; width: 100% }\n",
       "    .wandb-col { display: flex; flex-direction: column; flex-basis: 100%; flex: 1; padding: 10px; }\n",
       "    </style>\n",
       "<div class=\"wandb-row\"><div class=\"wandb-col\"><h3>Run history:</h3><br/><table class=\"wandb\"><tr><td>test/accuracy</td><td>▁</td></tr><tr><td>train/accuracy</td><td>▁▄▆▇▇▇▇▇▇█▇███▇█▇█▇█</td></tr><tr><td>train/loss</td><td>█▂▂▁▁▁▁▁▁▁▁▁▁▁▁▁▁▁▁▁</td></tr><tr><td>validation/accuracy</td><td>▁▆▇▇▇▆▆▆▇▇▆▇▇▇▇██▇▆█</td></tr><tr><td>validation/loss</td><td>█▄▂▂▂▂▂▃▂▁▂▂▁▁▂▁▁▁▂▂</td></tr></table><br/></div><div class=\"wandb-col\"><h3>Run summary:</h3><br/><table class=\"wandb\"><tr><td>test/accuracy</td><td>0.85915</td></tr><tr><td>train/accuracy</td><td>0.81603</td></tr><tr><td>train/loss</td><td>3.1794</td></tr><tr><td>validation/accuracy</td><td>0.83908</td></tr><tr><td>validation/loss</td><td>1.15457</td></tr></table><br/></div></div>"
      ],
      "text/plain": [
       "<IPython.core.display.HTML object>"
      ]
     },
     "metadata": {},
     "output_type": "display_data"
    },
    {
     "data": {
      "text/html": [
       " View run <strong style=\"color:#cdcd00\">volcanic-sound-8</strong> at: <a href='https://wandb.ai/shenderm/mobilenetv2_100-sc2000/runs/ybjqn7t9' target=\"_blank\">https://wandb.ai/shenderm/mobilenetv2_100-sc2000/runs/ybjqn7t9</a><br/> View project at: <a href='https://wandb.ai/shenderm/mobilenetv2_100-sc2000' target=\"_blank\">https://wandb.ai/shenderm/mobilenetv2_100-sc2000</a><br/>Synced 6 W&B file(s), 0 media file(s), 0 artifact file(s) and 0 other file(s)"
      ],
      "text/plain": [
       "<IPython.core.display.HTML object>"
      ]
     },
     "metadata": {},
     "output_type": "display_data"
    },
    {
     "data": {
      "text/html": [
       "Find logs at: <code>./wandb/run-20240605_174149-ybjqn7t9/logs</code>"
      ],
      "text/plain": [
       "<IPython.core.display.HTML object>"
      ]
     },
     "metadata": {},
     "output_type": "display_data"
    },
    {
     "data": {
      "application/vnd.jupyter.widget-view+json": {
       "model_id": "dbac803cf9eb49c788c1620bc14e1e8c",
       "version_major": 2,
       "version_minor": 0
      },
      "text/plain": [
       "VBox(children=(Label(value='Waiting for wandb.init()...\\r'), FloatProgress(value=0.011167743522229203, max=1.0…"
      ]
     },
     "metadata": {},
     "output_type": "display_data"
    },
    {
     "data": {
      "text/html": [
       "Tracking run with wandb version 0.17.0"
      ],
      "text/plain": [
       "<IPython.core.display.HTML object>"
      ]
     },
     "metadata": {},
     "output_type": "display_data"
    },
    {
     "data": {
      "text/html": [
       "Run data is saved locally in <code>/Users/shenderm/Desktop/dermlens_code/wandb/run-20240605_175051-52fxh86j</code>"
      ],
      "text/plain": [
       "<IPython.core.display.HTML object>"
      ]
     },
     "metadata": {},
     "output_type": "display_data"
    },
    {
     "data": {
      "text/html": [
       "Syncing run <strong><a href='https://wandb.ai/shenderm/mobilenetv2_100-sc2000/runs/52fxh86j' target=\"_blank\">crisp-bird-9</a></strong> to <a href='https://wandb.ai/shenderm/mobilenetv2_100-sc2000' target=\"_blank\">Weights & Biases</a> (<a href='https://wandb.me/run' target=\"_blank\">docs</a>)<br/>"
      ],
      "text/plain": [
       "<IPython.core.display.HTML object>"
      ]
     },
     "metadata": {},
     "output_type": "display_data"
    },
    {
     "data": {
      "text/html": [
       " View project at <a href='https://wandb.ai/shenderm/mobilenetv2_100-sc2000' target=\"_blank\">https://wandb.ai/shenderm/mobilenetv2_100-sc2000</a>"
      ],
      "text/plain": [
       "<IPython.core.display.HTML object>"
      ]
     },
     "metadata": {},
     "output_type": "display_data"
    },
    {
     "data": {
      "text/html": [
       " View run at <a href='https://wandb.ai/shenderm/mobilenetv2_100-sc2000/runs/52fxh86j' target=\"_blank\">https://wandb.ai/shenderm/mobilenetv2_100-sc2000/runs/52fxh86j</a>"
      ],
      "text/plain": [
       "<IPython.core.display.HTML object>"
      ]
     },
     "metadata": {},
     "output_type": "display_data"
    },
    {
     "name": "stdout",
     "output_type": "stream",
     "text": [
      "lin2 mobilenetv2_100\n",
      "Lin2(\n",
      "  (fc1): Linear(in_features=1280, out_features=1000, bias=True)\n",
      "  (act1): ReLU()\n",
      "  (dropout1): Dropout(p=0.5, inplace=False)\n",
      "  (fc2): Linear(in_features=1000, out_features=2, bias=True)\n",
      ")\n"
     ]
    },
    {
     "data": {
      "application/vnd.jupyter.widget-view+json": {
       "model_id": "4973660f27214008aed2fec020baca9c",
       "version_major": 2,
       "version_minor": 0
      },
      "text/plain": [
       "  0%|          | 0/20 [00:00<?, ?it/s]"
      ]
     },
     "metadata": {},
     "output_type": "display_data"
    },
    {
     "name": "stdout",
     "output_type": "stream",
     "text": [
      "Training Epoch 0: Loss = 12.932779431343079, Accuracy = 55.781866%\n",
      "Validation Epoch 0: Loss = 1.3641210794448853, Accuracy = 78.160920%\n",
      "Training Epoch 1: Loss = 4.470991790294647, Accuracy = 68.462549%\n",
      "Validation Epoch 1: Loss = 1.2713794708251953, Accuracy = 80.919540%\n",
      "Training Epoch 2: Loss = 3.904866337776184, Accuracy = 75.755585%\n",
      "Validation Epoch 2: Loss = 1.2367043495178223, Accuracy = 81.149425%\n",
      "Training Epoch 3: Loss = 3.736374706029892, Accuracy = 76.281209%\n",
      "Validation Epoch 3: Loss = 1.168950080871582, Accuracy = 80.459770%\n",
      "Training Epoch 4: Loss = 3.6387253403663635, Accuracy = 77.792378%\n",
      "Validation Epoch 4: Loss = 1.2057290077209473, Accuracy = 81.609195%\n",
      "Training Epoch 5: Loss = 3.647504597902298, Accuracy = 78.383706%\n",
      "Validation Epoch 5: Loss = 1.1600887775421143, Accuracy = 80.229885%\n",
      "Training Epoch 6: Loss = 3.589958280324936, Accuracy = 79.040736%\n",
      "Validation Epoch 6: Loss = 1.1207329034805298, Accuracy = 81.149425%\n",
      "Training Epoch 7: Loss = 3.5080484449863434, Accuracy = 79.040736%\n",
      "Validation Epoch 7: Loss = 1.1343908309936523, Accuracy = 81.379310%\n",
      "Training Epoch 8: Loss = 3.436291456222534, Accuracy = 79.040736%\n",
      "Validation Epoch 8: Loss = 1.1182644367218018, Accuracy = 81.149425%\n",
      "Training Epoch 9: Loss = 3.3353653848171234, Accuracy = 81.340342%\n",
      "Validation Epoch 9: Loss = 1.1125696897506714, Accuracy = 80.459770%\n",
      "Training Epoch 10: Loss = 3.3778044879436493, Accuracy = 81.734560%\n",
      "Validation Epoch 10: Loss = 1.1046884059906006, Accuracy = 81.149425%\n",
      "Training Epoch 11: Loss = 3.3867549300193787, Accuracy = 81.208936%\n",
      "Validation Epoch 11: Loss = 1.1557790040969849, Accuracy = 80.689655%\n",
      "Training Epoch 12: Loss = 3.3571179807186127, Accuracy = 80.026281%\n",
      "Validation Epoch 12: Loss = 1.0892256498336792, Accuracy = 81.149425%\n",
      "Training Epoch 13: Loss = 3.378700941801071, Accuracy = 80.749014%\n",
      "Validation Epoch 13: Loss = 1.2522276639938354, Accuracy = 78.390805%\n",
      "Training Epoch 14: Loss = 3.3753488957881927, Accuracy = 79.960578%\n",
      "Validation Epoch 14: Loss = 1.0930559635162354, Accuracy = 82.068966%\n",
      "Training Epoch 15: Loss = 3.124115079641342, Accuracy = 82.588699%\n",
      "Validation Epoch 15: Loss = 1.1360172033309937, Accuracy = 81.379310%\n",
      "Training Epoch 16: Loss = 3.10250261425972, Accuracy = 81.668857%\n",
      "Validation Epoch 16: Loss = 1.103713870048523, Accuracy = 81.379310%\n",
      "Training Epoch 17: Loss = 3.1882488429546356, Accuracy = 81.274639%\n",
      "Validation Epoch 17: Loss = 1.1182115077972412, Accuracy = 80.919540%\n",
      "Training Epoch 18: Loss = 3.1278003454208374, Accuracy = 81.011827%\n",
      "Validation Epoch 18: Loss = 1.1790481805801392, Accuracy = 81.609195%\n",
      "Training Epoch 19: Loss = 3.059510588645935, Accuracy = 80.749014%\n",
      "Validation Epoch 19: Loss = 1.0907200574874878, Accuracy = 81.379310%\n",
      "Batch 0: Accuracy = 85.500000%, Recall = 90.217391%, Precision = 80.582524%\n",
      "Batch 1: Accuracy = 92.307692%, Recall = 92.307692%, Precision = 100.000000%\n"
     ]
    },
    {
     "data": {
      "application/vnd.jupyter.widget-view+json": {
       "model_id": "7c86e2f459cf413eb118d38d28dd998c",
       "version_major": 2,
       "version_minor": 0
      },
      "text/plain": [
       "VBox(children=(Label(value='0.001 MB of 0.001 MB uploaded\\r'), FloatProgress(value=1.0, max=1.0)))"
      ]
     },
     "metadata": {},
     "output_type": "display_data"
    },
    {
     "data": {
      "text/html": [
       "<style>\n",
       "    table.wandb td:nth-child(1) { padding: 0 10px; text-align: left ; width: auto;} td:nth-child(2) {text-align: left ; width: 100%}\n",
       "    .wandb-row { display: flex; flex-direction: row; flex-wrap: wrap; justify-content: flex-start; width: 100% }\n",
       "    .wandb-col { display: flex; flex-direction: column; flex-basis: 100%; flex: 1; padding: 10px; }\n",
       "    </style>\n",
       "<div class=\"wandb-row\"><div class=\"wandb-col\"><h3>Run history:</h3><br/><table class=\"wandb\"><tr><td>test/accuracy</td><td>▁</td></tr><tr><td>train/accuracy</td><td>▁▄▆▆▇▇▇▇▇███▇█▇█████</td></tr><tr><td>train/loss</td><td>█▂▂▁▁▁▁▁▁▁▁▁▁▁▁▁▁▁▁▁</td></tr><tr><td>validation/accuracy</td><td>▁▆▆▅▇▅▆▇▆▅▆▆▆▁█▇▇▆▇▇</td></tr><tr><td>validation/loss</td><td>█▆▅▃▄▃▂▂▂▂▁▃▁▅▁▂▁▂▃▁</td></tr></table><br/></div><div class=\"wandb-col\"><h3>Run summary:</h3><br/><table class=\"wandb\"><tr><td>test/accuracy</td><td>0.85915</td></tr><tr><td>train/accuracy</td><td>0.80749</td></tr><tr><td>train/loss</td><td>3.05951</td></tr><tr><td>validation/accuracy</td><td>0.81379</td></tr><tr><td>validation/loss</td><td>1.09072</td></tr></table><br/></div></div>"
      ],
      "text/plain": [
       "<IPython.core.display.HTML object>"
      ]
     },
     "metadata": {},
     "output_type": "display_data"
    },
    {
     "data": {
      "text/html": [
       " View run <strong style=\"color:#cdcd00\">crisp-bird-9</strong> at: <a href='https://wandb.ai/shenderm/mobilenetv2_100-sc2000/runs/52fxh86j' target=\"_blank\">https://wandb.ai/shenderm/mobilenetv2_100-sc2000/runs/52fxh86j</a><br/> View project at: <a href='https://wandb.ai/shenderm/mobilenetv2_100-sc2000' target=\"_blank\">https://wandb.ai/shenderm/mobilenetv2_100-sc2000</a><br/>Synced 6 W&B file(s), 0 media file(s), 0 artifact file(s) and 0 other file(s)"
      ],
      "text/plain": [
       "<IPython.core.display.HTML object>"
      ]
     },
     "metadata": {},
     "output_type": "display_data"
    },
    {
     "data": {
      "text/html": [
       "Find logs at: <code>./wandb/run-20240605_175051-52fxh86j/logs</code>"
      ],
      "text/plain": [
       "<IPython.core.display.HTML object>"
      ]
     },
     "metadata": {},
     "output_type": "display_data"
    }
   ],
   "source": [
    "cm = ensemble('mobilenetv2_100-sc2000', config_dict, 5)"
   ]
  },
  {
   "cell_type": "code",
   "execution_count": 10,
   "metadata": {},
   "outputs": [
    {
     "data": {
      "text/plain": [
       "<sklearn.metrics._plot.confusion_matrix.ConfusionMatrixDisplay at 0x4d5ebe4e0>"
      ]
     },
     "execution_count": 10,
     "metadata": {},
     "output_type": "execute_result"
    },
    {
     "data": {
      "image/png": "[encoded data removed]",
      "text/plain": [
       "<Figure size 640x480 with 2 Axes>"
      ]
     },
     "metadata": {},
     "output_type": "display_data"
    }
   ],
   "source": [
    "display = ConfusionMatrixDisplay(cm, display_labels=[\"active\", \"inactive\"])\n",
    "display.plot()"
   ]
  },
  {
   "cell_type": "markdown",
   "metadata": {},
   "source": [
    "### Run pipeline"
   ]
  },
  {
   "cell_type": "code",
   "execution_count": 12,
   "metadata": {},
   "outputs": [
    {
     "data": {
      "application/vnd.jupyter.widget-view+json": {
       "model_id": "d9b14952f28f44ab9cf30735b527bbba",
       "version_major": 2,
       "version_minor": 0
      },
      "text/plain": [
       "VBox(children=(Label(value='Waiting for wandb.init()...\\r'), FloatProgress(value=0.01111968888888239, max=1.0)…"
      ]
     },
     "metadata": {},
     "output_type": "display_data"
    },
    {
     "data": {
      "text/html": [
       "Tracking run with wandb version 0.17.0"
      ],
      "text/plain": [
       "<IPython.core.display.HTML object>"
      ]
     },
     "metadata": {},
     "output_type": "display_data"
    },
    {
     "data": {
      "text/html": [
       "Run data is saved locally in <code>/Users/shenderm/Desktop/dermlens_code/wandb/run-20240604_131024-uwos0x51</code>"
      ],
      "text/plain": [
       "<IPython.core.display.HTML object>"
      ]
     },
     "metadata": {},
     "output_type": "display_data"
    },
    {
     "data": {
      "text/html": [
       "Syncing run <strong><a href='https://wandb.ai/shenderm/mobilenetv2_100-sc2000/runs/uwos0x51' target=\"_blank\">earthy-snowflake-4</a></strong> to <a href='https://wandb.ai/shenderm/mobilenetv2_100-sc2000' target=\"_blank\">Weights & Biases</a> (<a href='https://wandb.me/run' target=\"_blank\">docs</a>)<br/>"
      ],
      "text/plain": [
       "<IPython.core.display.HTML object>"
      ]
     },
     "metadata": {},
     "output_type": "display_data"
    },
    {
     "data": {
      "text/html": [
       " View project at <a href='https://wandb.ai/shenderm/mobilenetv2_100-sc2000' target=\"_blank\">https://wandb.ai/shenderm/mobilenetv2_100-sc2000</a>"
      ],
      "text/plain": [
       "<IPython.core.display.HTML object>"
      ]
     },
     "metadata": {},
     "output_type": "display_data"
    },
    {
     "data": {
      "text/html": [
       " View run at <a href='https://wandb.ai/shenderm/mobilenetv2_100-sc2000/runs/uwos0x51' target=\"_blank\">https://wandb.ai/shenderm/mobilenetv2_100-sc2000/runs/uwos0x51</a>"
      ],
      "text/plain": [
       "<IPython.core.display.HTML object>"
      ]
     },
     "metadata": {},
     "output_type": "display_data"
    },
    {
     "name": "stdout",
     "output_type": "stream",
     "text": [
      "lin2 mobilenetv2_100\n",
      "Lin2(\n",
      "  (fc1): Linear(in_features=1280, out_features=1000, bias=True)\n",
      "  (act1): ReLU()\n",
      "  (dropout1): Dropout(p=0.5, inplace=False)\n",
      "  (fc2): Linear(in_features=1000, out_features=2, bias=True)\n",
      ")\n"
     ]
    },
    {
     "data": {
      "application/vnd.jupyter.widget-view+json": {
       "model_id": "69fef6c6b90d45bab2b2ec3b2d1da5c1",
       "version_major": 2,
       "version_minor": 0
      },
      "text/plain": [
       "  0%|          | 0/20 [00:00<?, ?it/s]"
      ]
     },
     "metadata": {},
     "output_type": "display_data"
    },
    {
     "name": "stdout",
     "output_type": "stream",
     "text": [
      "Training Epoch 0: Loss = 7.429365694522858, Accuracy = 65.308804%\n",
      "Validation Epoch 0: Loss = 2.368929862976074, Accuracy = 74.022989%\n",
      "Training Epoch 1: Loss = 4.586083292961121, Accuracy = 72.996058%\n",
      "Validation Epoch 1: Loss = 1.4806946516036987, Accuracy = 77.471264%\n",
      "Training Epoch 2: Loss = 3.936075508594513, Accuracy = 74.835742%\n",
      "Validation Epoch 2: Loss = 1.1368498802185059, Accuracy = 79.770115%\n",
      "Training Epoch 3: Loss = 3.5987173914909363, Accuracy = 78.515112%\n",
      "Validation Epoch 3: Loss = 1.105657696723938, Accuracy = 79.770115%\n",
      "Training Epoch 4: Loss = 3.4665424823760986, Accuracy = 80.749014%\n",
      "Validation Epoch 4: Loss = 1.1060869693756104, Accuracy = 81.839080%\n",
      "Training Epoch 5: Loss = 3.4798792600631714, Accuracy = 80.814717%\n",
      "Validation Epoch 5: Loss = 1.173401951789856, Accuracy = 80.229885%\n",
      "Training Epoch 6: Loss = 3.3697738647460938, Accuracy = 78.449409%\n",
      "Validation Epoch 6: Loss = 1.1581777334213257, Accuracy = 80.919540%\n",
      "Training Epoch 7: Loss = 3.501242756843567, Accuracy = 78.383706%\n",
      "Validation Epoch 7: Loss = 1.1510683298110962, Accuracy = 80.459770%\n",
      "Training Epoch 8: Loss = 3.4902071952819824, Accuracy = 79.500657%\n",
      "Validation Epoch 8: Loss = 1.1098679304122925, Accuracy = 81.379310%\n",
      "Training Epoch 9: Loss = 3.3942041993141174, Accuracy = 80.420499%\n",
      "Validation Epoch 9: Loss = 1.1108957529067993, Accuracy = 79.540230%\n",
      "Training Epoch 10: Loss = 3.255269467830658, Accuracy = 80.223390%\n",
      "Validation Epoch 10: Loss = 1.1021267175674438, Accuracy = 80.229885%\n",
      "Training Epoch 11: Loss = 3.374762386083603, Accuracy = 81.143233%\n",
      "Validation Epoch 11: Loss = 1.0693535804748535, Accuracy = 82.298851%\n",
      "Training Epoch 12: Loss = 3.3253289461135864, Accuracy = 79.632063%\n",
      "Validation Epoch 12: Loss = 1.0789846181869507, Accuracy = 80.459770%\n",
      "Training Epoch 13: Loss = 3.410482168197632, Accuracy = 79.369251%\n",
      "Validation Epoch 13: Loss = 1.0609465837478638, Accuracy = 83.678161%\n",
      "Training Epoch 14: Loss = 3.268225848674774, Accuracy = 80.354796%\n",
      "Validation Epoch 14: Loss = 1.2483175992965698, Accuracy = 80.459770%\n",
      "Training Epoch 15: Loss = 3.2558485865592957, Accuracy = 80.683311%\n",
      "Validation Epoch 15: Loss = 1.1636934280395508, Accuracy = 81.609195%\n",
      "Training Epoch 16: Loss = 3.174948364496231, Accuracy = 82.260184%\n",
      "Validation Epoch 16: Loss = 1.1120070219039917, Accuracy = 82.758621%\n",
      "Training Epoch 17: Loss = 3.134042114019394, Accuracy = 81.077530%\n",
      "Validation Epoch 17: Loss = 1.1129651069641113, Accuracy = 81.609195%\n",
      "Training Epoch 18: Loss = 3.2716086208820343, Accuracy = 80.749014%\n",
      "Validation Epoch 18: Loss = 1.0564875602722168, Accuracy = 82.528736%\n",
      "Training Epoch 19: Loss = 3.148366540670395, Accuracy = 82.194481%\n",
      "Validation Epoch 19: Loss = 1.1012887954711914, Accuracy = 80.229885%\n",
      "Batch 0: Accuracy = 85.000000%, Recall = 91.304348%, Precision = 79.245283%\n",
      "Batch 1: Accuracy = 92.307692%, Recall = 92.307692%, Precision = 100.000000%\n"
     ]
    },
    {
     "data": {
      "application/vnd.jupyter.widget-view+json": {
       "model_id": "31f5bc9754134c28a8df494d124da02d",
       "version_major": 2,
       "version_minor": 0
      },
      "text/plain": [
       "VBox(children=(Label(value='0.001 MB of 0.001 MB uploaded\\r'), FloatProgress(value=1.0, max=1.0)))"
      ]
     },
     "metadata": {},
     "output_type": "display_data"
    },
    {
     "data": {
      "text/html": [
       "<style>\n",
       "    table.wandb td:nth-child(1) { padding: 0 10px; text-align: left ; width: auto;} td:nth-child(2) {text-align: left ; width: 100%}\n",
       "    .wandb-row { display: flex; flex-direction: row; flex-wrap: wrap; justify-content: flex-start; width: 100% }\n",
       "    .wandb-col { display: flex; flex-direction: column; flex-basis: 100%; flex: 1; padding: 10px; }\n",
       "    </style>\n",
       "<div class=\"wandb-row\"><div class=\"wandb-col\"><h3>Run history:</h3><br/><table class=\"wandb\"><tr><td>test/accuracy</td><td>▁</td></tr><tr><td>train/accuracy</td><td>▁▄▅▆▇▇▆▆▇▇▇█▇▇▇▇██▇█</td></tr><tr><td>train/loss</td><td>█▃▂▂▂▂▁▂▂▁▁▁▁▁▁▁▁▁▁▁</td></tr><tr><td>validation/accuracy</td><td>▁▃▅▅▇▅▆▆▆▅▅▇▆█▆▆▇▆▇▅</td></tr><tr><td>validation/loss</td><td>█▃▁▁▁▂▂▂▁▁▁▁▁▁▂▂▁▁▁▁</td></tr></table><br/></div><div class=\"wandb-col\"><h3>Run summary:</h3><br/><table class=\"wandb\"><tr><td>test/accuracy</td><td>0.85446</td></tr><tr><td>train/accuracy</td><td>0.82194</td></tr><tr><td>train/loss</td><td>3.14837</td></tr><tr><td>validation/accuracy</td><td>0.8023</td></tr><tr><td>validation/loss</td><td>1.10129</td></tr></table><br/></div></div>"
      ],
      "text/plain": [
       "<IPython.core.display.HTML object>"
      ]
     },
     "metadata": {},
     "output_type": "display_data"
    },
    {
     "data": {
      "text/html": [
       " View run <strong style=\"color:#cdcd00\">earthy-snowflake-4</strong> at: <a href='https://wandb.ai/shenderm/mobilenetv2_100-sc2000/runs/uwos0x51' target=\"_blank\">https://wandb.ai/shenderm/mobilenetv2_100-sc2000/runs/uwos0x51</a><br/> View project at: <a href='https://wandb.ai/shenderm/mobilenetv2_100-sc2000' target=\"_blank\">https://wandb.ai/shenderm/mobilenetv2_100-sc2000</a><br/>Synced 6 W&B file(s), 0 media file(s), 0 artifact file(s) and 0 other file(s)"
      ],
      "text/plain": [
       "<IPython.core.display.HTML object>"
      ]
     },
     "metadata": {},
     "output_type": "display_data"
    },
    {
     "data": {
      "text/html": [
       "Find logs at: <code>./wandb/run-20240604_131024-uwos0x51/logs</code>"
      ],
      "text/plain": [
       "<IPython.core.display.HTML object>"
      ]
     },
     "metadata": {},
     "output_type": "display_data"
    },
    {
     "data": {
      "image/png": "[encoded data removed]",
      "text/plain": [
       "<Figure size 640x480 with 2 Axes>"
      ]
     },
     "metadata": {},
     "output_type": "display_data"
    }
   ],
   "source": [
    "model_pipeline('mobilenetv2_100-sc2000', config_dict)"
   ]
  },
  {
   "cell_type": "markdown",
   "metadata": {},
   "source": [
    "# DenseNet121 + 2 fully connected layers"
   ]
  },
  {
   "cell_type": "markdown",
   "metadata": {},
   "source": [
    "### Hyperparameter configuration"
   ]
  },
  {
   "cell_type": "code",
   "execution_count": 8,
   "metadata": {},
   "outputs": [],
   "source": [
    "config_dict = dict(\n",
    "    learning_rate = 0.006,\n",
    "    epochs = 20,\n",
    "    batch_size = 200,\n",
    "    feat_extractor = \"densenet121\",\n",
    "    fc_model = \"lin3\",\n",
    "    normalize = \"ImageNet\",\n",
    "    fc2_in = 800,\n",
    "    fc3_in = 250,\n",
    "    output = 2,\n",
    "    dropout_rate = 0.5,\n",
    "    dataset = \"SC-2000v2\",\n",
    "    train_aug = True,\n",
    "    device = \"mps\",\n",
    "    save_as = 'pth'\n",
    ")"
   ]
  },
  {
   "cell_type": "markdown",
   "metadata": {},
   "source": [
    "### Average confusion matrix results across 5 runs"
   ]
  },
  {
   "cell_type": "code",
   "execution_count": 9,
   "metadata": {},
   "outputs": [
    {
     "name": "stderr",
     "output_type": "stream",
     "text": [
      "Failed to detect the name of this notebook, you can set it manually with the WANDB_NOTEBOOK_NAME environment variable to enable code saving.\n",
      "\u001b[34m\u001b[1mwandb\u001b[0m: Currently logged in as: \u001b[33mlivsworld\u001b[0m (\u001b[33mshenderm\u001b[0m). Use \u001b[1m`wandb login --relogin`\u001b[0m to force relogin\n"
     ]
    },
    {
     "data": {
      "text/html": [
       "Tracking run with wandb version 0.17.0"
      ],
      "text/plain": [
       "<IPython.core.display.HTML object>"
      ]
     },
     "metadata": {},
     "output_type": "display_data"
    },
    {
     "data": {
      "text/html": [
       "Run data is saved locally in <code>/Users/shenderm/Desktop/dermlens_code/wandb/run-20240605_180445-j82jktrs</code>"
      ],
      "text/plain": [
       "<IPython.core.display.HTML object>"
      ]
     },
     "metadata": {},
     "output_type": "display_data"
    },
    {
     "data": {
      "text/html": [
       "Syncing run <strong><a href='https://wandb.ai/shenderm/densenet121-sc2000/runs/j82jktrs' target=\"_blank\">gentle-firebrand-6</a></strong> to <a href='https://wandb.ai/shenderm/densenet121-sc2000' target=\"_blank\">Weights & Biases</a> (<a href='https://wandb.me/run' target=\"_blank\">docs</a>)<br/>"
      ],
      "text/plain": [
       "<IPython.core.display.HTML object>"
      ]
     },
     "metadata": {},
     "output_type": "display_data"
    },
    {
     "data": {
      "text/html": [
       " View project at <a href='https://wandb.ai/shenderm/densenet121-sc2000' target=\"_blank\">https://wandb.ai/shenderm/densenet121-sc2000</a>"
      ],
      "text/plain": [
       "<IPython.core.display.HTML object>"
      ]
     },
     "metadata": {},
     "output_type": "display_data"
    },
    {
     "data": {
      "text/html": [
       " View run at <a href='https://wandb.ai/shenderm/densenet121-sc2000/runs/j82jktrs' target=\"_blank\">https://wandb.ai/shenderm/densenet121-sc2000/runs/j82jktrs</a>"
      ],
      "text/plain": [
       "<IPython.core.display.HTML object>"
      ]
     },
     "metadata": {},
     "output_type": "display_data"
    },
    {
     "name": "stdout",
     "output_type": "stream",
     "text": [
      "lin3 densenet121\n",
      "Lin3(\n",
      "  (fc1): Linear(in_features=1024, out_features=800, bias=True)\n",
      "  (act1): ReLU()\n",
      "  (dropout1): Dropout(p=0.5, inplace=False)\n",
      "  (fc2): Linear(in_features=800, out_features=250, bias=True)\n",
      "  (act2): ReLU()\n",
      "  (dropout2): Dropout(p=0.5, inplace=False)\n",
      "  (fc3): Linear(in_features=250, out_features=2, bias=True)\n",
      ")\n"
     ]
    },
    {
     "data": {
      "application/vnd.jupyter.widget-view+json": {
       "model_id": "37fdb9466ddf4ad1a1af3ea44f5e4a67",
       "version_major": 2,
       "version_minor": 0
      },
      "text/plain": [
       "  0%|          | 0/20 [00:00<?, ?it/s]"
      ]
     },
     "metadata": {},
     "output_type": "display_data"
    },
    {
     "name": "stdout",
     "output_type": "stream",
     "text": [
      "Training Epoch 0: Loss = 28.088868379592896, Accuracy = 53.613666%\n",
      "Validation Epoch 0: Loss = 2.074838399887085, Accuracy = 60.689655%\n",
      "Training Epoch 1: Loss = 4.698502242565155, Accuracy = 65.768725%\n",
      "Validation Epoch 1: Loss = 1.249506950378418, Accuracy = 77.471264%\n",
      "Training Epoch 2: Loss = 4.304359942674637, Accuracy = 73.850197%\n",
      "Validation Epoch 2: Loss = 1.258108139038086, Accuracy = 77.471264%\n",
      "Training Epoch 3: Loss = 4.154320567846298, Accuracy = 73.653088%\n",
      "Validation Epoch 3: Loss = 1.2223272323608398, Accuracy = 81.609195%\n",
      "Training Epoch 4: Loss = 3.930203139781952, Accuracy = 74.901445%\n",
      "Validation Epoch 4: Loss = 1.1191258430480957, Accuracy = 80.229885%\n",
      "Training Epoch 5: Loss = 3.7156287729740143, Accuracy = 78.055191%\n",
      "Validation Epoch 5: Loss = 1.122705340385437, Accuracy = 81.609195%\n",
      "Training Epoch 6: Loss = 3.77040696144104, Accuracy = 76.675427%\n",
      "Validation Epoch 6: Loss = 1.1616677045822144, Accuracy = 79.080460%\n",
      "Training Epoch 7: Loss = 4.06233873963356, Accuracy = 74.310118%\n",
      "Validation Epoch 7: Loss = 1.236354112625122, Accuracy = 82.298851%\n",
      "Training Epoch 8: Loss = 3.8795887231826782, Accuracy = 77.003942%\n",
      "Validation Epoch 8: Loss = 1.3714617490768433, Accuracy = 79.540230%\n",
      "Training Epoch 9: Loss = 3.947240263223648, Accuracy = 75.098555%\n",
      "Validation Epoch 9: Loss = 1.2041244506835938, Accuracy = 80.919540%\n",
      "Training Epoch 10: Loss = 3.813485264778137, Accuracy = 76.346912%\n",
      "Validation Epoch 10: Loss = 1.1606440544128418, Accuracy = 79.770115%\n",
      "Training Epoch 11: Loss = 3.8203143775463104, Accuracy = 76.872536%\n",
      "Validation Epoch 11: Loss = 1.1824748516082764, Accuracy = 80.919540%\n",
      "Training Epoch 12: Loss = 3.6811534464359283, Accuracy = 76.281209%\n",
      "Validation Epoch 12: Loss = 1.1054211854934692, Accuracy = 80.459770%\n",
      "Training Epoch 13: Loss = 3.72152316570282, Accuracy = 77.069645%\n",
      "Validation Epoch 13: Loss = 1.2528159618377686, Accuracy = 80.229885%\n",
      "Training Epoch 14: Loss = 3.8001133799552917, Accuracy = 78.055191%\n",
      "Validation Epoch 14: Loss = 1.0921571254730225, Accuracy = 81.379310%\n",
      "Training Epoch 15: Loss = 3.834864318370819, Accuracy = 77.332457%\n",
      "Validation Epoch 15: Loss = 1.135899543762207, Accuracy = 80.919540%\n",
      "Training Epoch 16: Loss = 3.668055832386017, Accuracy = 78.975033%\n",
      "Validation Epoch 16: Loss = 1.166049838066101, Accuracy = 80.229885%\n",
      "Training Epoch 17: Loss = 3.6096816658973694, Accuracy = 76.675427%\n",
      "Validation Epoch 17: Loss = 1.2085793018341064, Accuracy = 79.080460%\n",
      "Training Epoch 18: Loss = 3.8446909189224243, Accuracy = 76.741130%\n",
      "Validation Epoch 18: Loss = 1.2789286375045776, Accuracy = 77.241379%\n",
      "Training Epoch 19: Loss = 3.6312431395053864, Accuracy = 77.266754%\n",
      "Validation Epoch 19: Loss = 1.1955652236938477, Accuracy = 80.000000%\n",
      "Batch 0: Accuracy = 82.000000%, Recall = 90.217391%, Precision = 75.454545%\n",
      "Batch 1: Accuracy = 92.307692%, Recall = 92.307692%, Precision = 100.000000%\n"
     ]
    },
    {
     "data": {
      "application/vnd.jupyter.widget-view+json": {
       "model_id": "6d41c1bc496f4baca26ca0c6fc7a7f1e",
       "version_major": 2,
       "version_minor": 0
      },
      "text/plain": [
       "VBox(children=(Label(value='0.001 MB of 0.001 MB uploaded\\r'), FloatProgress(value=1.0, max=1.0)))"
      ]
     },
     "metadata": {},
     "output_type": "display_data"
    },
    {
     "data": {
      "text/html": [
       "<style>\n",
       "    table.wandb td:nth-child(1) { padding: 0 10px; text-align: left ; width: auto;} td:nth-child(2) {text-align: left ; width: 100%}\n",
       "    .wandb-row { display: flex; flex-direction: row; flex-wrap: wrap; justify-content: flex-start; width: 100% }\n",
       "    .wandb-col { display: flex; flex-direction: column; flex-basis: 100%; flex: 1; padding: 10px; }\n",
       "    </style>\n",
       "<div class=\"wandb-row\"><div class=\"wandb-col\"><h3>Run history:</h3><br/><table class=\"wandb\"><tr><td>test/accuracy</td><td>▁</td></tr><tr><td>train/accuracy</td><td>▁▄▇▇▇█▇▇▇▇▇▇▇▇███▇▇█</td></tr><tr><td>train/loss</td><td>█▁▁▁▁▁▁▁▁▁▁▁▁▁▁▁▁▁▁▁</td></tr><tr><td>validation/accuracy</td><td>▁▆▆█▇█▇█▇█▇█▇▇██▇▇▆▇</td></tr><tr><td>validation/loss</td><td>█▂▂▂▁▁▁▂▃▂▁▂▁▂▁▁▂▂▂▂</td></tr></table><br/></div><div class=\"wandb-col\"><h3>Run summary:</h3><br/><table class=\"wandb\"><tr><td>test/accuracy</td><td>0.82629</td></tr><tr><td>train/accuracy</td><td>0.77267</td></tr><tr><td>train/loss</td><td>3.63124</td></tr><tr><td>validation/accuracy</td><td>0.8</td></tr><tr><td>validation/loss</td><td>1.19557</td></tr></table><br/></div></div>"
      ],
      "text/plain": [
       "<IPython.core.display.HTML object>"
      ]
     },
     "metadata": {},
     "output_type": "display_data"
    },
    {
     "data": {
      "text/html": [
       " View run <strong style=\"color:#cdcd00\">gentle-firebrand-6</strong> at: <a href='https://wandb.ai/shenderm/densenet121-sc2000/runs/j82jktrs' target=\"_blank\">https://wandb.ai/shenderm/densenet121-sc2000/runs/j82jktrs</a><br/> View project at: <a href='https://wandb.ai/shenderm/densenet121-sc2000' target=\"_blank\">https://wandb.ai/shenderm/densenet121-sc2000</a><br/>Synced 6 W&B file(s), 0 media file(s), 0 artifact file(s) and 0 other file(s)"
      ],
      "text/plain": [
       "<IPython.core.display.HTML object>"
      ]
     },
     "metadata": {},
     "output_type": "display_data"
    },
    {
     "data": {
      "text/html": [
       "Find logs at: <code>./wandb/run-20240605_180445-j82jktrs/logs</code>"
      ],
      "text/plain": [
       "<IPython.core.display.HTML object>"
      ]
     },
     "metadata": {},
     "output_type": "display_data"
    },
    {
     "data": {
      "application/vnd.jupyter.widget-view+json": {
       "model_id": "d169e05a9dac413bb4c609185ec34387",
       "version_major": 2,
       "version_minor": 0
      },
      "text/plain": [
       "VBox(children=(Label(value='Waiting for wandb.init()...\\r'), FloatProgress(value=0.011167756488895167, max=1.0…"
      ]
     },
     "metadata": {},
     "output_type": "display_data"
    },
    {
     "data": {
      "text/html": [
       "Tracking run with wandb version 0.17.0"
      ],
      "text/plain": [
       "<IPython.core.display.HTML object>"
      ]
     },
     "metadata": {},
     "output_type": "display_data"
    },
    {
     "data": {
      "text/html": [
       "Run data is saved locally in <code>/Users/shenderm/Desktop/dermlens_code/wandb/run-20240605_181501-uxdxku0y</code>"
      ],
      "text/plain": [
       "<IPython.core.display.HTML object>"
      ]
     },
     "metadata": {},
     "output_type": "display_data"
    },
    {
     "data": {
      "text/html": [
       "Syncing run <strong><a href='https://wandb.ai/shenderm/densenet121-sc2000/runs/uxdxku0y' target=\"_blank\">giddy-grass-7</a></strong> to <a href='https://wandb.ai/shenderm/densenet121-sc2000' target=\"_blank\">Weights & Biases</a> (<a href='https://wandb.me/run' target=\"_blank\">docs</a>)<br/>"
      ],
      "text/plain": [
       "<IPython.core.display.HTML object>"
      ]
     },
     "metadata": {},
     "output_type": "display_data"
    },
    {
     "data": {
      "text/html": [
       " View project at <a href='https://wandb.ai/shenderm/densenet121-sc2000' target=\"_blank\">https://wandb.ai/shenderm/densenet121-sc2000</a>"
      ],
      "text/plain": [
       "<IPython.core.display.HTML object>"
      ]
     },
     "metadata": {},
     "output_type": "display_data"
    },
    {
     "data": {
      "text/html": [
       " View run at <a href='https://wandb.ai/shenderm/densenet121-sc2000/runs/uxdxku0y' target=\"_blank\">https://wandb.ai/shenderm/densenet121-sc2000/runs/uxdxku0y</a>"
      ],
      "text/plain": [
       "<IPython.core.display.HTML object>"
      ]
     },
     "metadata": {},
     "output_type": "display_data"
    },
    {
     "name": "stdout",
     "output_type": "stream",
     "text": [
      "lin3 densenet121\n",
      "Lin3(\n",
      "  (fc1): Linear(in_features=1024, out_features=800, bias=True)\n",
      "  (act1): ReLU()\n",
      "  (dropout1): Dropout(p=0.5, inplace=False)\n",
      "  (fc2): Linear(in_features=800, out_features=250, bias=True)\n",
      "  (act2): ReLU()\n",
      "  (dropout2): Dropout(p=0.5, inplace=False)\n",
      "  (fc3): Linear(in_features=250, out_features=2, bias=True)\n",
      ")\n"
     ]
    },
    {
     "data": {
      "application/vnd.jupyter.widget-view+json": {
       "model_id": "7a0c36d9606e4400848c8821ce511dcf",
       "version_major": 2,
       "version_minor": 0
      },
      "text/plain": [
       "  0%|          | 0/20 [00:00<?, ?it/s]"
      ]
     },
     "metadata": {},
     "output_type": "display_data"
    },
    {
     "name": "stdout",
     "output_type": "stream",
     "text": [
      "Training Epoch 0: Loss = 26.044522643089294, Accuracy = 52.036794%\n",
      "Validation Epoch 0: Loss = 2.524813175201416, Accuracy = 49.885057%\n",
      "Training Epoch 1: Loss = 5.124683141708374, Accuracy = 58.212878%\n",
      "Validation Epoch 1: Loss = 1.4895436763763428, Accuracy = 72.873563%\n",
      "Training Epoch 2: Loss = 4.6114397048950195, Accuracy = 67.345598%\n",
      "Validation Epoch 2: Loss = 1.2842094898223877, Accuracy = 79.770115%\n",
      "Training Epoch 3: Loss = 4.3047332763671875, Accuracy = 72.141919%\n",
      "Validation Epoch 3: Loss = 1.2990522384643555, Accuracy = 79.310345%\n",
      "Training Epoch 4: Loss = 4.409184813499451, Accuracy = 71.879106%\n",
      "Validation Epoch 4: Loss = 1.3102056980133057, Accuracy = 78.160920%\n",
      "Training Epoch 5: Loss = 4.107356995344162, Accuracy = 73.915900%\n",
      "Validation Epoch 5: Loss = 1.315380334854126, Accuracy = 77.701149%\n",
      "Training Epoch 6: Loss = 4.056035488843918, Accuracy = 73.587385%\n",
      "Validation Epoch 6: Loss = 1.1204164028167725, Accuracy = 81.839080%\n",
      "Training Epoch 7: Loss = 4.018552333116531, Accuracy = 73.915900%\n",
      "Validation Epoch 7: Loss = 1.159319519996643, Accuracy = 80.000000%\n",
      "Training Epoch 8: Loss = 3.921723246574402, Accuracy = 75.821288%\n",
      "Validation Epoch 8: Loss = 1.2119182348251343, Accuracy = 79.770115%\n",
      "Training Epoch 9: Loss = 3.851818948984146, Accuracy = 74.835742%\n",
      "Validation Epoch 9: Loss = 1.2176916599273682, Accuracy = 79.080460%\n",
      "Training Epoch 10: Loss = 3.997406303882599, Accuracy = 75.164258%\n",
      "Validation Epoch 10: Loss = 1.2008498907089233, Accuracy = 79.080460%\n",
      "Training Epoch 11: Loss = 3.9132325649261475, Accuracy = 75.361367%\n",
      "Validation Epoch 11: Loss = 1.1729636192321777, Accuracy = 80.919540%\n",
      "Training Epoch 12: Loss = 4.116411805152893, Accuracy = 75.164258%\n",
      "Validation Epoch 12: Loss = 1.127468228340149, Accuracy = 79.770115%\n",
      "Training Epoch 13: Loss = 3.7680183351039886, Accuracy = 76.149803%\n",
      "Validation Epoch 13: Loss = 1.2813212871551514, Accuracy = 80.689655%\n",
      "Training Epoch 14: Loss = 3.8471151292324066, Accuracy = 75.886991%\n",
      "Validation Epoch 14: Loss = 1.165365219116211, Accuracy = 81.379310%\n",
      "Training Epoch 15: Loss = 3.8397554457187653, Accuracy = 75.886991%\n",
      "Validation Epoch 15: Loss = 1.1694555282592773, Accuracy = 79.770115%\n",
      "Training Epoch 16: Loss = 3.7673098742961884, Accuracy = 75.558476%\n",
      "Validation Epoch 16: Loss = 1.18971586227417, Accuracy = 80.459770%\n",
      "Training Epoch 17: Loss = 3.7262352108955383, Accuracy = 78.515112%\n",
      "Validation Epoch 17: Loss = 1.1401513814926147, Accuracy = 80.919540%\n",
      "Training Epoch 18: Loss = 3.7195258140563965, Accuracy = 76.018397%\n",
      "Validation Epoch 18: Loss = 1.2805557250976562, Accuracy = 78.620690%\n",
      "Training Epoch 19: Loss = 3.761930525302887, Accuracy = 75.821288%\n",
      "Validation Epoch 19: Loss = 1.212925910949707, Accuracy = 80.229885%\n",
      "Batch 0: Accuracy = 84.500000%, Recall = 79.347826%, Precision = 85.882353%\n",
      "Batch 1: Accuracy = 76.923077%, Recall = 76.923077%, Precision = 100.000000%\n"
     ]
    },
    {
     "data": {
      "application/vnd.jupyter.widget-view+json": {
       "model_id": "35982c4279f94a388951befab8c534be",
       "version_major": 2,
       "version_minor": 0
      },
      "text/plain": [
       "VBox(children=(Label(value='0.001 MB of 0.035 MB uploaded\\r'), FloatProgress(value=0.020957672103193156, max=1…"
      ]
     },
     "metadata": {},
     "output_type": "display_data"
    },
    {
     "data": {
      "text/html": [
       "<style>\n",
       "    table.wandb td:nth-child(1) { padding: 0 10px; text-align: left ; width: auto;} td:nth-child(2) {text-align: left ; width: 100%}\n",
       "    .wandb-row { display: flex; flex-direction: row; flex-wrap: wrap; justify-content: flex-start; width: 100% }\n",
       "    .wandb-col { display: flex; flex-direction: column; flex-basis: 100%; flex: 1; padding: 10px; }\n",
       "    </style>\n",
       "<div class=\"wandb-row\"><div class=\"wandb-col\"><h3>Run history:</h3><br/><table class=\"wandb\"><tr><td>test/accuracy</td><td>▁</td></tr><tr><td>train/accuracy</td><td>▁▃▅▆▆▇▇▇▇▇▇▇▇▇▇▇▇█▇▇</td></tr><tr><td>train/loss</td><td>█▁▁▁▁▁▁▁▁▁▁▁▁▁▁▁▁▁▁▁</td></tr><tr><td>validation/accuracy</td><td>▁▆█▇▇▇███▇▇███████▇█</td></tr><tr><td>validation/loss</td><td>█▃▂▂▂▂▁▁▁▁▁▁▁▂▁▁▁▁▂▁</td></tr></table><br/></div><div class=\"wandb-col\"><h3>Run summary:</h3><br/><table class=\"wandb\"><tr><td>test/accuracy</td><td>0.84038</td></tr><tr><td>train/accuracy</td><td>0.75821</td></tr><tr><td>train/loss</td><td>3.76193</td></tr><tr><td>validation/accuracy</td><td>0.8023</td></tr><tr><td>validation/loss</td><td>1.21293</td></tr></table><br/></div></div>"
      ],
      "text/plain": [
       "<IPython.core.display.HTML object>"
      ]
     },
     "metadata": {},
     "output_type": "display_data"
    },
    {
     "data": {
      "text/html": [
       " View run <strong style=\"color:#cdcd00\">giddy-grass-7</strong> at: <a href='https://wandb.ai/shenderm/densenet121-sc2000/runs/uxdxku0y' target=\"_blank\">https://wandb.ai/shenderm/densenet121-sc2000/runs/uxdxku0y</a><br/> View project at: <a href='https://wandb.ai/shenderm/densenet121-sc2000' target=\"_blank\">https://wandb.ai/shenderm/densenet121-sc2000</a><br/>Synced 6 W&B file(s), 0 media file(s), 0 artifact file(s) and 0 other file(s)"
      ],
      "text/plain": [
       "<IPython.core.display.HTML object>"
      ]
     },
     "metadata": {},
     "output_type": "display_data"
    },
    {
     "data": {
      "text/html": [
       "Find logs at: <code>./wandb/run-20240605_181501-uxdxku0y/logs</code>"
      ],
      "text/plain": [
       "<IPython.core.display.HTML object>"
      ]
     },
     "metadata": {},
     "output_type": "display_data"
    },
    {
     "data": {
      "application/vnd.jupyter.widget-view+json": {
       "model_id": "eeffec768e3748d0b1bf8aa2ae5bf0da",
       "version_major": 2,
       "version_minor": 0
      },
      "text/plain": [
       "VBox(children=(Label(value='Waiting for wandb.init()...\\r'), FloatProgress(value=0.011167911111119286, max=1.0…"
      ]
     },
     "metadata": {},
     "output_type": "display_data"
    },
    {
     "data": {
      "text/html": [
       "Tracking run with wandb version 0.17.0"
      ],
      "text/plain": [
       "<IPython.core.display.HTML object>"
      ]
     },
     "metadata": {},
     "output_type": "display_data"
    },
    {
     "data": {
      "text/html": [
       "Run data is saved locally in <code>/Users/shenderm/Desktop/dermlens_code/wandb/run-20240605_182351-6wq0282z</code>"
      ],
      "text/plain": [
       "<IPython.core.display.HTML object>"
      ]
     },
     "metadata": {},
     "output_type": "display_data"
    },
    {
     "data": {
      "text/html": [
       "Syncing run <strong><a href='https://wandb.ai/shenderm/densenet121-sc2000/runs/6wq0282z' target=\"_blank\">soft-hill-8</a></strong> to <a href='https://wandb.ai/shenderm/densenet121-sc2000' target=\"_blank\">Weights & Biases</a> (<a href='https://wandb.me/run' target=\"_blank\">docs</a>)<br/>"
      ],
      "text/plain": [
       "<IPython.core.display.HTML object>"
      ]
     },
     "metadata": {},
     "output_type": "display_data"
    },
    {
     "data": {
      "text/html": [
       " View project at <a href='https://wandb.ai/shenderm/densenet121-sc2000' target=\"_blank\">https://wandb.ai/shenderm/densenet121-sc2000</a>"
      ],
      "text/plain": [
       "<IPython.core.display.HTML object>"
      ]
     },
     "metadata": {},
     "output_type": "display_data"
    },
    {
     "data": {
      "text/html": [
       " View run at <a href='https://wandb.ai/shenderm/densenet121-sc2000/runs/6wq0282z' target=\"_blank\">https://wandb.ai/shenderm/densenet121-sc2000/runs/6wq0282z</a>"
      ],
      "text/plain": [
       "<IPython.core.display.HTML object>"
      ]
     },
     "metadata": {},
     "output_type": "display_data"
    },
    {
     "name": "stdout",
     "output_type": "stream",
     "text": [
      "lin3 densenet121\n",
      "Lin3(\n",
      "  (fc1): Linear(in_features=1024, out_features=800, bias=True)\n",
      "  (act1): ReLU()\n",
      "  (dropout1): Dropout(p=0.5, inplace=False)\n",
      "  (fc2): Linear(in_features=800, out_features=250, bias=True)\n",
      "  (act2): ReLU()\n",
      "  (dropout2): Dropout(p=0.5, inplace=False)\n",
      "  (fc3): Linear(in_features=250, out_features=2, bias=True)\n",
      ")\n"
     ]
    },
    {
     "data": {
      "application/vnd.jupyter.widget-view+json": {
       "model_id": "a05609ebbc5e4165b26f9305f3e039c7",
       "version_major": 2,
       "version_minor": 0
      },
      "text/plain": [
       "  0%|          | 0/20 [00:00<?, ?it/s]"
      ]
     },
     "metadata": {},
     "output_type": "display_data"
    },
    {
     "name": "stdout",
     "output_type": "stream",
     "text": [
      "Training Epoch 0: Loss = 31.29031264781952, Accuracy = 51.248357%\n",
      "Validation Epoch 0: Loss = 3.457230567932129, Accuracy = 49.885057%\n",
      "Training Epoch 1: Loss = 5.290590405464172, Accuracy = 60.315375%\n",
      "Validation Epoch 1: Loss = 1.3366992473602295, Accuracy = 77.011494%\n",
      "Training Epoch 2: Loss = 4.3164529502391815, Accuracy = 72.470434%\n",
      "Validation Epoch 2: Loss = 1.214404582977295, Accuracy = 78.850575%\n",
      "Training Epoch 3: Loss = 4.240323752164841, Accuracy = 73.324573%\n",
      "Validation Epoch 3: Loss = 1.180114984512329, Accuracy = 79.770115%\n",
      "Training Epoch 4: Loss = 4.138354420661926, Accuracy = 73.193167%\n",
      "Validation Epoch 4: Loss = 1.1372910737991333, Accuracy = 80.689655%\n",
      "Training Epoch 5: Loss = 3.8966160118579865, Accuracy = 75.755585%\n",
      "Validation Epoch 5: Loss = 1.0902878046035767, Accuracy = 80.229885%\n",
      "Training Epoch 6: Loss = 3.8740942776203156, Accuracy = 74.901445%\n",
      "Validation Epoch 6: Loss = 1.1909476518630981, Accuracy = 81.839080%\n",
      "Training Epoch 7: Loss = 3.793024718761444, Accuracy = 76.544021%\n",
      "Validation Epoch 7: Loss = 1.1520880460739136, Accuracy = 82.068966%\n",
      "Training Epoch 8: Loss = 3.916615128517151, Accuracy = 77.463863%\n",
      "Validation Epoch 8: Loss = 1.193915843963623, Accuracy = 80.459770%\n",
      "Training Epoch 9: Loss = 3.720390498638153, Accuracy = 76.478318%\n",
      "Validation Epoch 9: Loss = 1.1536061763763428, Accuracy = 79.770115%\n",
      "Training Epoch 10: Loss = 3.750161588191986, Accuracy = 76.872536%\n",
      "Validation Epoch 10: Loss = 1.1341439485549927, Accuracy = 79.540230%\n",
      "Training Epoch 11: Loss = 3.7196719646453857, Accuracy = 76.806833%\n",
      "Validation Epoch 11: Loss = 1.0719473361968994, Accuracy = 81.149425%\n",
      "Training Epoch 12: Loss = 3.9608695805072784, Accuracy = 76.149803%\n",
      "Validation Epoch 12: Loss = 1.1012502908706665, Accuracy = 80.459770%\n",
      "Training Epoch 13: Loss = 3.870691478252411, Accuracy = 76.412615%\n",
      "Validation Epoch 13: Loss = 1.1033741235733032, Accuracy = 80.919540%\n",
      "Training Epoch 14: Loss = 3.785780757665634, Accuracy = 76.872536%\n",
      "Validation Epoch 14: Loss = 1.1088663339614868, Accuracy = 81.379310%\n",
      "Training Epoch 15: Loss = 3.7256138920783997, Accuracy = 77.398160%\n",
      "Validation Epoch 15: Loss = 1.1363694667816162, Accuracy = 80.919540%\n",
      "Training Epoch 16: Loss = 3.4898184835910797, Accuracy = 78.318003%\n",
      "Validation Epoch 16: Loss = 1.3675987720489502, Accuracy = 79.310345%\n",
      "Training Epoch 17: Loss = 3.5818366408348083, Accuracy = 78.186597%\n",
      "Validation Epoch 17: Loss = 1.1344261169433594, Accuracy = 82.528736%\n",
      "Training Epoch 18: Loss = 3.7123994529247284, Accuracy = 76.806833%\n",
      "Validation Epoch 18: Loss = 1.156358242034912, Accuracy = 80.459770%\n",
      "Training Epoch 19: Loss = 3.611585855484009, Accuracy = 77.595269%\n",
      "Validation Epoch 19: Loss = 1.1252694129943848, Accuracy = 82.988506%\n",
      "Batch 0: Accuracy = 85.000000%, Recall = 82.608696%, Precision = 84.444444%\n",
      "Batch 1: Accuracy = 69.230769%, Recall = 69.230769%, Precision = 100.000000%\n"
     ]
    },
    {
     "data": {
      "application/vnd.jupyter.widget-view+json": {
       "model_id": "54506bb32711479fafe0fcae49205467",
       "version_major": 2,
       "version_minor": 0
      },
      "text/plain": [
       "VBox(children=(Label(value='0.001 MB of 0.001 MB uploaded\\r'), FloatProgress(value=1.0, max=1.0)))"
      ]
     },
     "metadata": {},
     "output_type": "display_data"
    },
    {
     "data": {
      "text/html": [
       "<style>\n",
       "    table.wandb td:nth-child(1) { padding: 0 10px; text-align: left ; width: auto;} td:nth-child(2) {text-align: left ; width: 100%}\n",
       "    .wandb-row { display: flex; flex-direction: row; flex-wrap: wrap; justify-content: flex-start; width: 100% }\n",
       "    .wandb-col { display: flex; flex-direction: column; flex-basis: 100%; flex: 1; padding: 10px; }\n",
       "    </style>\n",
       "<div class=\"wandb-row\"><div class=\"wandb-col\"><h3>Run history:</h3><br/><table class=\"wandb\"><tr><td>test/accuracy</td><td>▁</td></tr><tr><td>train/accuracy</td><td>▁▃▆▇▇▇▇█████▇███████</td></tr><tr><td>train/loss</td><td>█▁▁▁▁▁▁▁▁▁▁▁▁▁▁▁▁▁▁▁</td></tr><tr><td>validation/accuracy</td><td>▁▇▇▇█▇██▇▇▇█▇███▇█▇█</td></tr><tr><td>validation/loss</td><td>█▂▁▁▁▁▁▁▁▁▁▁▁▁▁▁▂▁▁▁</td></tr></table><br/></div><div class=\"wandb-col\"><h3>Run summary:</h3><br/><table class=\"wandb\"><tr><td>test/accuracy</td><td>0.84038</td></tr><tr><td>train/accuracy</td><td>0.77595</td></tr><tr><td>train/loss</td><td>3.61159</td></tr><tr><td>validation/accuracy</td><td>0.82989</td></tr><tr><td>validation/loss</td><td>1.12527</td></tr></table><br/></div></div>"
      ],
      "text/plain": [
       "<IPython.core.display.HTML object>"
      ]
     },
     "metadata": {},
     "output_type": "display_data"
    },
    {
     "data": {
      "text/html": [
       " View run <strong style=\"color:#cdcd00\">soft-hill-8</strong> at: <a href='https://wandb.ai/shenderm/densenet121-sc2000/runs/6wq0282z' target=\"_blank\">https://wandb.ai/shenderm/densenet121-sc2000/runs/6wq0282z</a><br/> View project at: <a href='https://wandb.ai/shenderm/densenet121-sc2000' target=\"_blank\">https://wandb.ai/shenderm/densenet121-sc2000</a><br/>Synced 6 W&B file(s), 0 media file(s), 0 artifact file(s) and 0 other file(s)"
      ],
      "text/plain": [
       "<IPython.core.display.HTML object>"
      ]
     },
     "metadata": {},
     "output_type": "display_data"
    },
    {
     "data": {
      "text/html": [
       "Find logs at: <code>./wandb/run-20240605_182351-6wq0282z/logs</code>"
      ],
      "text/plain": [
       "<IPython.core.display.HTML object>"
      ]
     },
     "metadata": {},
     "output_type": "display_data"
    },
    {
     "data": {
      "application/vnd.jupyter.widget-view+json": {
       "model_id": "c577e3cf31cb4a60887243bcd95de26a",
       "version_major": 2,
       "version_minor": 0
      },
      "text/plain": [
       "VBox(children=(Label(value='Waiting for wandb.init()...\\r'), FloatProgress(value=0.011222776388886914, max=1.0…"
      ]
     },
     "metadata": {},
     "output_type": "display_data"
    },
    {
     "data": {
      "text/html": [
       "Tracking run with wandb version 0.17.0"
      ],
      "text/plain": [
       "<IPython.core.display.HTML object>"
      ]
     },
     "metadata": {},
     "output_type": "display_data"
    },
    {
     "data": {
      "text/html": [
       "Run data is saved locally in <code>/Users/shenderm/Desktop/dermlens_code/wandb/run-20240605_183224-tkmf313g</code>"
      ],
      "text/plain": [
       "<IPython.core.display.HTML object>"
      ]
     },
     "metadata": {},
     "output_type": "display_data"
    },
    {
     "data": {
      "text/html": [
       "Syncing run <strong><a href='https://wandb.ai/shenderm/densenet121-sc2000/runs/tkmf313g' target=\"_blank\">wobbly-rain-9</a></strong> to <a href='https://wandb.ai/shenderm/densenet121-sc2000' target=\"_blank\">Weights & Biases</a> (<a href='https://wandb.me/run' target=\"_blank\">docs</a>)<br/>"
      ],
      "text/plain": [
       "<IPython.core.display.HTML object>"
      ]
     },
     "metadata": {},
     "output_type": "display_data"
    },
    {
     "data": {
      "text/html": [
       " View project at <a href='https://wandb.ai/shenderm/densenet121-sc2000' target=\"_blank\">https://wandb.ai/shenderm/densenet121-sc2000</a>"
      ],
      "text/plain": [
       "<IPython.core.display.HTML object>"
      ]
     },
     "metadata": {},
     "output_type": "display_data"
    },
    {
     "data": {
      "text/html": [
       " View run at <a href='https://wandb.ai/shenderm/densenet121-sc2000/runs/tkmf313g' target=\"_blank\">https://wandb.ai/shenderm/densenet121-sc2000/runs/tkmf313g</a>"
      ],
      "text/plain": [
       "<IPython.core.display.HTML object>"
      ]
     },
     "metadata": {},
     "output_type": "display_data"
    },
    {
     "name": "stdout",
     "output_type": "stream",
     "text": [
      "lin3 densenet121\n",
      "Lin3(\n",
      "  (fc1): Linear(in_features=1024, out_features=800, bias=True)\n",
      "  (act1): ReLU()\n",
      "  (dropout1): Dropout(p=0.5, inplace=False)\n",
      "  (fc2): Linear(in_features=800, out_features=250, bias=True)\n",
      "  (act2): ReLU()\n",
      "  (dropout2): Dropout(p=0.5, inplace=False)\n",
      "  (fc3): Linear(in_features=250, out_features=2, bias=True)\n",
      ")\n"
     ]
    },
    {
     "data": {
      "application/vnd.jupyter.widget-view+json": {
       "model_id": "e6080c9c53254a3082e91771e520c7b8",
       "version_major": 2,
       "version_minor": 0
      },
      "text/plain": [
       "  0%|          | 0/20 [00:00<?, ?it/s]"
      ]
     },
     "metadata": {},
     "output_type": "display_data"
    },
    {
     "name": "stdout",
     "output_type": "stream",
     "text": [
      "Training Epoch 0: Loss = 24.86120331287384, Accuracy = 54.467806%\n",
      "Validation Epoch 0: Loss = 1.5308506488800049, Accuracy = 62.068966%\n",
      "Training Epoch 1: Loss = 4.546372443437576, Accuracy = 67.936925%\n",
      "Validation Epoch 1: Loss = 1.2543803453445435, Accuracy = 80.459770%\n",
      "Training Epoch 2: Loss = 4.476090431213379, Accuracy = 69.710907%\n",
      "Validation Epoch 2: Loss = 1.2471455335617065, Accuracy = 79.310345%\n",
      "Training Epoch 3: Loss = 4.116418153047562, Accuracy = 74.310118%\n",
      "Validation Epoch 3: Loss = 1.1769628524780273, Accuracy = 78.390805%\n",
      "Training Epoch 4: Loss = 3.8676218688488007, Accuracy = 76.478318%\n",
      "Validation Epoch 4: Loss = 1.1450992822647095, Accuracy = 79.080460%\n",
      "Training Epoch 5: Loss = 3.920190691947937, Accuracy = 76.675427%\n",
      "Validation Epoch 5: Loss = 1.1355140209197998, Accuracy = 78.390805%\n",
      "Training Epoch 6: Loss = 3.822999119758606, Accuracy = 76.806833%\n",
      "Validation Epoch 6: Loss = 1.1072924137115479, Accuracy = 79.310345%\n",
      "Training Epoch 7: Loss = 3.678197294473648, Accuracy = 77.660972%\n",
      "Validation Epoch 7: Loss = 1.0724080801010132, Accuracy = 81.379310%\n",
      "Training Epoch 8: Loss = 3.881135791540146, Accuracy = 75.624179%\n",
      "Validation Epoch 8: Loss = 1.202333688735962, Accuracy = 81.839080%\n",
      "Training Epoch 9: Loss = 3.723550945520401, Accuracy = 77.858081%\n",
      "Validation Epoch 9: Loss = 1.18563711643219, Accuracy = 81.379310%\n",
      "Training Epoch 10: Loss = 3.805876463651657, Accuracy = 78.318003%\n",
      "Validation Epoch 10: Loss = 1.0855504274368286, Accuracy = 80.459770%\n",
      "Training Epoch 11: Loss = 3.6347244679927826, Accuracy = 78.515112%\n",
      "Validation Epoch 11: Loss = 1.0760343074798584, Accuracy = 80.689655%\n",
      "Training Epoch 12: Loss = 3.653897076845169, Accuracy = 78.580815%\n",
      "Validation Epoch 12: Loss = 1.1048535108566284, Accuracy = 80.919540%\n",
      "Training Epoch 13: Loss = 3.5613989531993866, Accuracy = 79.632063%\n",
      "Validation Epoch 13: Loss = 1.1569175720214844, Accuracy = 81.149425%\n",
      "Training Epoch 14: Loss = 3.6873435378074646, Accuracy = 76.872536%\n",
      "Validation Epoch 14: Loss = 1.1115434169769287, Accuracy = 81.839080%\n",
      "Training Epoch 15: Loss = 3.6023598313331604, Accuracy = 78.975033%\n",
      "Validation Epoch 15: Loss = 1.2957453727722168, Accuracy = 80.689655%\n",
      "Training Epoch 16: Loss = 3.54464527964592, Accuracy = 77.858081%\n",
      "Validation Epoch 16: Loss = 1.1927759647369385, Accuracy = 79.080460%\n",
      "Training Epoch 17: Loss = 3.5371765196323395, Accuracy = 79.303548%\n",
      "Validation Epoch 17: Loss = 1.243962287902832, Accuracy = 80.229885%\n",
      "Training Epoch 18: Loss = 3.5080804228782654, Accuracy = 79.369251%\n",
      "Validation Epoch 18: Loss = 1.1398741006851196, Accuracy = 81.149425%\n",
      "Training Epoch 19: Loss = 3.4510605931282043, Accuracy = 80.223390%\n",
      "Validation Epoch 19: Loss = 1.1110601425170898, Accuracy = 80.000000%\n",
      "Batch 0: Accuracy = 84.500000%, Recall = 83.695652%, Precision = 82.795699%\n",
      "Batch 1: Accuracy = 84.615385%, Recall = 84.615385%, Precision = 100.000000%\n"
     ]
    },
    {
     "data": {
      "application/vnd.jupyter.widget-view+json": {
       "model_id": "26fbe2e119de47ada1b40ba115ea5f44",
       "version_major": 2,
       "version_minor": 0
      },
      "text/plain": [
       "VBox(children=(Label(value='0.001 MB of 0.035 MB uploaded\\r'), FloatProgress(value=0.021013153903427735, max=1…"
      ]
     },
     "metadata": {},
     "output_type": "display_data"
    },
    {
     "data": {
      "text/html": [
       "<style>\n",
       "    table.wandb td:nth-child(1) { padding: 0 10px; text-align: left ; width: auto;} td:nth-child(2) {text-align: left ; width: 100%}\n",
       "    .wandb-row { display: flex; flex-direction: row; flex-wrap: wrap; justify-content: flex-start; width: 100% }\n",
       "    .wandb-col { display: flex; flex-direction: column; flex-basis: 100%; flex: 1; padding: 10px; }\n",
       "    </style>\n",
       "<div class=\"wandb-row\"><div class=\"wandb-col\"><h3>Run history:</h3><br/><table class=\"wandb\"><tr><td>test/accuracy</td><td>▁</td></tr><tr><td>train/accuracy</td><td>▁▅▅▆▇▇▇▇▇▇▇███▇█▇███</td></tr><tr><td>train/loss</td><td>█▁▁▁▁▁▁▁▁▁▁▁▁▁▁▁▁▁▁▁</td></tr><tr><td>validation/accuracy</td><td>▁█▇▇▇▇▇█████████▇▇█▇</td></tr><tr><td>validation/loss</td><td>█▄▄▃▂▂▂▁▃▃▁▁▁▂▂▄▃▄▂▂</td></tr></table><br/></div><div class=\"wandb-col\"><h3>Run summary:</h3><br/><table class=\"wandb\"><tr><td>test/accuracy</td><td>0.84507</td></tr><tr><td>train/accuracy</td><td>0.80223</td></tr><tr><td>train/loss</td><td>3.45106</td></tr><tr><td>validation/accuracy</td><td>0.8</td></tr><tr><td>validation/loss</td><td>1.11106</td></tr></table><br/></div></div>"
      ],
      "text/plain": [
       "<IPython.core.display.HTML object>"
      ]
     },
     "metadata": {},
     "output_type": "display_data"
    },
    {
     "data": {
      "text/html": [
       " View run <strong style=\"color:#cdcd00\">wobbly-rain-9</strong> at: <a href='https://wandb.ai/shenderm/densenet121-sc2000/runs/tkmf313g' target=\"_blank\">https://wandb.ai/shenderm/densenet121-sc2000/runs/tkmf313g</a><br/> View project at: <a href='https://wandb.ai/shenderm/densenet121-sc2000' target=\"_blank\">https://wandb.ai/shenderm/densenet121-sc2000</a><br/>Synced 6 W&B file(s), 0 media file(s), 0 artifact file(s) and 0 other file(s)"
      ],
      "text/plain": [
       "<IPython.core.display.HTML object>"
      ]
     },
     "metadata": {},
     "output_type": "display_data"
    },
    {
     "data": {
      "text/html": [
       "Find logs at: <code>./wandb/run-20240605_183224-tkmf313g/logs</code>"
      ],
      "text/plain": [
       "<IPython.core.display.HTML object>"
      ]
     },
     "metadata": {},
     "output_type": "display_data"
    },
    {
     "data": {
      "application/vnd.jupyter.widget-view+json": {
       "model_id": "da01323a497e4806a806c3b8b8284737",
       "version_major": 2,
       "version_minor": 0
      },
      "text/plain": [
       "VBox(children=(Label(value='Waiting for wandb.init()...\\r'), FloatProgress(value=0.011223444899991995, max=1.0…"
      ]
     },
     "metadata": {},
     "output_type": "display_data"
    },
    {
     "data": {
      "text/html": [
       "Tracking run with wandb version 0.17.0"
      ],
      "text/plain": [
       "<IPython.core.display.HTML object>"
      ]
     },
     "metadata": {},
     "output_type": "display_data"
    },
    {
     "data": {
      "text/html": [
       "Run data is saved locally in <code>/Users/shenderm/Desktop/dermlens_code/wandb/run-20240605_184053-7x56tqul</code>"
      ],
      "text/plain": [
       "<IPython.core.display.HTML object>"
      ]
     },
     "metadata": {},
     "output_type": "display_data"
    },
    {
     "data": {
      "text/html": [
       "Syncing run <strong><a href='https://wandb.ai/shenderm/densenet121-sc2000/runs/7x56tqul' target=\"_blank\">decent-dew-10</a></strong> to <a href='https://wandb.ai/shenderm/densenet121-sc2000' target=\"_blank\">Weights & Biases</a> (<a href='https://wandb.me/run' target=\"_blank\">docs</a>)<br/>"
      ],
      "text/plain": [
       "<IPython.core.display.HTML object>"
      ]
     },
     "metadata": {},
     "output_type": "display_data"
    },
    {
     "data": {
      "text/html": [
       " View project at <a href='https://wandb.ai/shenderm/densenet121-sc2000' target=\"_blank\">https://wandb.ai/shenderm/densenet121-sc2000</a>"
      ],
      "text/plain": [
       "<IPython.core.display.HTML object>"
      ]
     },
     "metadata": {},
     "output_type": "display_data"
    },
    {
     "data": {
      "text/html": [
       " View run at <a href='https://wandb.ai/shenderm/densenet121-sc2000/runs/7x56tqul' target=\"_blank\">https://wandb.ai/shenderm/densenet121-sc2000/runs/7x56tqul</a>"
      ],
      "text/plain": [
       "<IPython.core.display.HTML object>"
      ]
     },
     "metadata": {},
     "output_type": "display_data"
    },
    {
     "name": "stdout",
     "output_type": "stream",
     "text": [
      "lin3 densenet121\n",
      "Lin3(\n",
      "  (fc1): Linear(in_features=1024, out_features=800, bias=True)\n",
      "  (act1): ReLU()\n",
      "  (dropout1): Dropout(p=0.5, inplace=False)\n",
      "  (fc2): Linear(in_features=800, out_features=250, bias=True)\n",
      "  (act2): ReLU()\n",
      "  (dropout2): Dropout(p=0.5, inplace=False)\n",
      "  (fc3): Linear(in_features=250, out_features=2, bias=True)\n",
      ")\n"
     ]
    },
    {
     "data": {
      "application/vnd.jupyter.widget-view+json": {
       "model_id": "fbc04ee4246e4c6aba95b31b4489cb24",
       "version_major": 2,
       "version_minor": 0
      },
      "text/plain": [
       "  0%|          | 0/20 [00:00<?, ?it/s]"
      ]
     },
     "metadata": {},
     "output_type": "display_data"
    },
    {
     "name": "stdout",
     "output_type": "stream",
     "text": [
      "Training Epoch 0: Loss = 31.623957455158234, Accuracy = 56.241787%\n",
      "Validation Epoch 0: Loss = 1.8530082702636719, Accuracy = 68.505747%\n",
      "Training Epoch 1: Loss = 4.817072153091431, Accuracy = 64.126150%\n",
      "Validation Epoch 1: Loss = 1.397447109222412, Accuracy = 75.402299%\n",
      "Training Epoch 2: Loss = 4.306898474693298, Accuracy = 72.930355%\n",
      "Validation Epoch 2: Loss = 1.2615514993667603, Accuracy = 80.919540%\n",
      "Training Epoch 3: Loss = 4.052775204181671, Accuracy = 76.084100%\n",
      "Validation Epoch 3: Loss = 1.2923086881637573, Accuracy = 80.229885%\n",
      "Training Epoch 4: Loss = 3.918063461780548, Accuracy = 76.675427%\n",
      "Validation Epoch 4: Loss = 1.3895180225372314, Accuracy = 78.850575%\n",
      "Training Epoch 5: Loss = 3.9693031013011932, Accuracy = 75.624179%\n",
      "Validation Epoch 5: Loss = 1.2126030921936035, Accuracy = 79.770115%\n",
      "Training Epoch 6: Loss = 3.8584741055965424, Accuracy = 75.952694%\n",
      "Validation Epoch 6: Loss = 1.2957121133804321, Accuracy = 79.310345%\n",
      "Training Epoch 7: Loss = 3.838997930288315, Accuracy = 75.821288%\n",
      "Validation Epoch 7: Loss = 1.1817224025726318, Accuracy = 79.310345%\n",
      "Training Epoch 8: Loss = 3.840172827243805, Accuracy = 77.463863%\n",
      "Validation Epoch 8: Loss = 1.193098545074463, Accuracy = 80.459770%\n",
      "Training Epoch 9: Loss = 3.813938796520233, Accuracy = 76.806833%\n",
      "Validation Epoch 9: Loss = 1.1649755239486694, Accuracy = 79.310345%\n",
      "Training Epoch 10: Loss = 3.947927325963974, Accuracy = 75.492773%\n",
      "Validation Epoch 10: Loss = 1.1349645853042603, Accuracy = 81.379310%\n",
      "Training Epoch 11: Loss = 3.751993954181671, Accuracy = 76.544021%\n",
      "Validation Epoch 11: Loss = 1.1278719902038574, Accuracy = 82.068966%\n",
      "Training Epoch 12: Loss = 3.919391542673111, Accuracy = 75.229961%\n",
      "Validation Epoch 12: Loss = 1.1814137697219849, Accuracy = 81.379310%\n",
      "Training Epoch 13: Loss = 3.8873072266578674, Accuracy = 76.281209%\n",
      "Validation Epoch 13: Loss = 1.1326110363006592, Accuracy = 80.919540%\n",
      "Training Epoch 14: Loss = 3.8579022884368896, Accuracy = 76.741130%\n",
      "Validation Epoch 14: Loss = 1.1599068641662598, Accuracy = 80.919540%\n",
      "Training Epoch 15: Loss = 3.7411209642887115, Accuracy = 78.449409%\n",
      "Validation Epoch 15: Loss = 1.140932321548462, Accuracy = 81.839080%\n",
      "Training Epoch 16: Loss = 3.666028320789337, Accuracy = 78.449409%\n",
      "Validation Epoch 16: Loss = 1.1453938484191895, Accuracy = 81.839080%\n",
      "Training Epoch 17: Loss = 3.7040147483348846, Accuracy = 77.463863%\n",
      "Validation Epoch 17: Loss = 1.1725376844406128, Accuracy = 79.770115%\n",
      "Training Epoch 18: Loss = 3.4247891902923584, Accuracy = 80.157687%\n",
      "Validation Epoch 18: Loss = 1.2493356466293335, Accuracy = 78.850575%\n",
      "Training Epoch 19: Loss = 3.7405671179294586, Accuracy = 77.201051%\n",
      "Validation Epoch 19: Loss = 1.1752043962478638, Accuracy = 81.379310%\n",
      "Batch 0: Accuracy = 84.500000%, Recall = 77.173913%, Precision = 87.654321%\n",
      "Batch 1: Accuracy = 69.230769%, Recall = 69.230769%, Precision = 100.000000%\n"
     ]
    },
    {
     "data": {
      "application/vnd.jupyter.widget-view+json": {
       "model_id": "7f29b716a74b4212bf954fc444acc4d7",
       "version_major": 2,
       "version_minor": 0
      },
      "text/plain": [
       "VBox(children=(Label(value='0.001 MB of 0.001 MB uploaded\\r'), FloatProgress(value=1.0, max=1.0)))"
      ]
     },
     "metadata": {},
     "output_type": "display_data"
    },
    {
     "data": {
      "text/html": [
       "<style>\n",
       "    table.wandb td:nth-child(1) { padding: 0 10px; text-align: left ; width: auto;} td:nth-child(2) {text-align: left ; width: 100%}\n",
       "    .wandb-row { display: flex; flex-direction: row; flex-wrap: wrap; justify-content: flex-start; width: 100% }\n",
       "    .wandb-col { display: flex; flex-direction: column; flex-basis: 100%; flex: 1; padding: 10px; }\n",
       "    </style>\n",
       "<div class=\"wandb-row\"><div class=\"wandb-col\"><h3>Run history:</h3><br/><table class=\"wandb\"><tr><td>test/accuracy</td><td>▁</td></tr><tr><td>train/accuracy</td><td>▁▃▆▇▇▇▇▇▇▇▇▇▇▇▇██▇█▇</td></tr><tr><td>train/loss</td><td>█▁▁▁▁▁▁▁▁▁▁▁▁▁▁▁▁▁▁▁</td></tr><tr><td>validation/accuracy</td><td>▁▅▇▇▆▇▇▇▇▇███▇▇██▇▆█</td></tr><tr><td>validation/loss</td><td>█▄▂▃▄▂▃▂▂▁▁▁▂▁▁▁▁▁▂▁</td></tr></table><br/></div><div class=\"wandb-col\"><h3>Run summary:</h3><br/><table class=\"wandb\"><tr><td>test/accuracy</td><td>0.83568</td></tr><tr><td>train/accuracy</td><td>0.77201</td></tr><tr><td>train/loss</td><td>3.74057</td></tr><tr><td>validation/accuracy</td><td>0.81379</td></tr><tr><td>validation/loss</td><td>1.1752</td></tr></table><br/></div></div>"
      ],
      "text/plain": [
       "<IPython.core.display.HTML object>"
      ]
     },
     "metadata": {},
     "output_type": "display_data"
    },
    {
     "data": {
      "text/html": [
       " View run <strong style=\"color:#cdcd00\">decent-dew-10</strong> at: <a href='https://wandb.ai/shenderm/densenet121-sc2000/runs/7x56tqul' target=\"_blank\">https://wandb.ai/shenderm/densenet121-sc2000/runs/7x56tqul</a><br/> View project at: <a href='https://wandb.ai/shenderm/densenet121-sc2000' target=\"_blank\">https://wandb.ai/shenderm/densenet121-sc2000</a><br/>Synced 6 W&B file(s), 0 media file(s), 0 artifact file(s) and 0 other file(s)"
      ],
      "text/plain": [
       "<IPython.core.display.HTML object>"
      ]
     },
     "metadata": {},
     "output_type": "display_data"
    },
    {
     "data": {
      "text/html": [
       "Find logs at: <code>./wandb/run-20240605_184053-7x56tqul/logs</code>"
      ],
      "text/plain": [
       "<IPython.core.display.HTML object>"
      ]
     },
     "metadata": {},
     "output_type": "display_data"
    }
   ],
   "source": [
    "cm = ensemble('densenet121-sc2000', config_dict, 5)"
   ]
  },
  {
   "cell_type": "code",
   "execution_count": 10,
   "metadata": {},
   "outputs": [
    {
     "data": {
      "text/plain": [
       "<sklearn.metrics._plot.confusion_matrix.ConfusionMatrixDisplay at 0x2bc8ab7d0>"
      ]
     },
     "execution_count": 10,
     "metadata": {},
     "output_type": "execute_result"
    },
    {
     "data": {
      "image/png": "[encoded data removed]",
      "text/plain": [
       "<Figure size 640x480 with 2 Axes>"
      ]
     },
     "metadata": {},
     "output_type": "display_data"
    }
   ],
   "source": [
    "display = ConfusionMatrixDisplay(cm, display_labels=[\"active\", \"inactive\"])\n",
    "display.plot()"
   ]
  },
  {
   "cell_type": "markdown",
   "metadata": {},
   "source": [
    "### Run pipeline"
   ]
  },
  {
   "cell_type": "code",
   "execution_count": 14,
   "metadata": {},
   "outputs": [
    {
     "data": {
      "text/html": [
       "Tracking run with wandb version 0.17.0"
      ],
      "text/plain": [
       "<IPython.core.display.HTML object>"
      ]
     },
     "metadata": {},
     "output_type": "display_data"
    },
    {
     "data": {
      "text/html": [
       "Run data is saved locally in <code>/Users/shenderm/Desktop/dermlens_code/wandb/run-20240604_132507-voucyrdv</code>"
      ],
      "text/plain": [
       "<IPython.core.display.HTML object>"
      ]
     },
     "metadata": {},
     "output_type": "display_data"
    },
    {
     "data": {
      "text/html": [
       "Syncing run <strong><a href='https://wandb.ai/shenderm/densenet121-sc2000/runs/voucyrdv' target=\"_blank\">mild-snowball-5</a></strong> to <a href='https://wandb.ai/shenderm/densenet121-sc2000' target=\"_blank\">Weights & Biases</a> (<a href='https://wandb.me/run' target=\"_blank\">docs</a>)<br/>"
      ],
      "text/plain": [
       "<IPython.core.display.HTML object>"
      ]
     },
     "metadata": {},
     "output_type": "display_data"
    },
    {
     "data": {
      "text/html": [
       " View project at <a href='https://wandb.ai/shenderm/densenet121-sc2000' target=\"_blank\">https://wandb.ai/shenderm/densenet121-sc2000</a>"
      ],
      "text/plain": [
       "<IPython.core.display.HTML object>"
      ]
     },
     "metadata": {},
     "output_type": "display_data"
    },
    {
     "data": {
      "text/html": [
       " View run at <a href='https://wandb.ai/shenderm/densenet121-sc2000/runs/voucyrdv' target=\"_blank\">https://wandb.ai/shenderm/densenet121-sc2000/runs/voucyrdv</a>"
      ],
      "text/plain": [
       "<IPython.core.display.HTML object>"
      ]
     },
     "metadata": {},
     "output_type": "display_data"
    },
    {
     "name": "stdout",
     "output_type": "stream",
     "text": [
      "lin3 densenet121\n",
      "Lin3(\n",
      "  (fc1): Linear(in_features=1024, out_features=800, bias=True)\n",
      "  (act1): ReLU()\n",
      "  (dropout1): Dropout(p=0.5, inplace=False)\n",
      "  (fc2): Linear(in_features=800, out_features=250, bias=True)\n",
      "  (act2): ReLU()\n",
      "  (dropout2): Dropout(p=0.5, inplace=False)\n",
      "  (fc3): Linear(in_features=250, out_features=2, bias=True)\n",
      ")\n"
     ]
    },
    {
     "data": {
      "application/vnd.jupyter.widget-view+json": {
       "model_id": "d1f9fa4470804c2fbecbbf03fcf46ad2",
       "version_major": 2,
       "version_minor": 0
      },
      "text/plain": [
       "  0%|          | 0/20 [00:00<?, ?it/s]"
      ]
     },
     "metadata": {},
     "output_type": "display_data"
    },
    {
     "name": "stdout",
     "output_type": "stream",
     "text": [
      "Training Epoch 0: Loss = 34.932667315006256, Accuracy = 54.993430%\n",
      "Validation Epoch 0: Loss = 1.501457929611206, Accuracy = 64.367816%\n",
      "Training Epoch 1: Loss = 4.608759820461273, Accuracy = 66.228647%\n",
      "Validation Epoch 1: Loss = 1.2101037502288818, Accuracy = 76.551724%\n",
      "Training Epoch 2: Loss = 4.249011605978012, Accuracy = 72.404731%\n",
      "Validation Epoch 2: Loss = 1.1895195245742798, Accuracy = 80.919540%\n",
      "Training Epoch 3: Loss = 3.9838072061538696, Accuracy = 75.098555%\n",
      "Validation Epoch 3: Loss = 1.1930688619613647, Accuracy = 78.160920%\n",
      "Training Epoch 4: Loss = 4.105646252632141, Accuracy = 73.981603%\n",
      "Validation Epoch 4: Loss = 1.1428520679473877, Accuracy = 80.000000%\n",
      "Training Epoch 5: Loss = 3.932956874370575, Accuracy = 75.821288%\n",
      "Validation Epoch 5: Loss = 1.2020267248153687, Accuracy = 81.379310%\n",
      "Training Epoch 6: Loss = 3.909895747900009, Accuracy = 75.624179%\n",
      "Validation Epoch 6: Loss = 1.2420027256011963, Accuracy = 80.000000%\n",
      "Training Epoch 7: Loss = 3.9740277230739594, Accuracy = 76.346912%\n",
      "Validation Epoch 7: Loss = 1.3145637512207031, Accuracy = 78.620690%\n",
      "Training Epoch 8: Loss = 3.9142960011959076, Accuracy = 75.229961%\n",
      "Validation Epoch 8: Loss = 1.2284495830535889, Accuracy = 80.229885%\n",
      "Training Epoch 9: Loss = 3.9465727508068085, Accuracy = 75.624179%\n",
      "Validation Epoch 9: Loss = 1.247995376586914, Accuracy = 80.000000%\n",
      "Training Epoch 10: Loss = 3.8591854870319366, Accuracy = 77.792378%\n",
      "Validation Epoch 10: Loss = 1.1086223125457764, Accuracy = 77.241379%\n",
      "Training Epoch 11: Loss = 4.049530029296875, Accuracy = 74.704336%\n",
      "Validation Epoch 11: Loss = 1.144319772720337, Accuracy = 79.540230%\n",
      "Training Epoch 12: Loss = 3.662730395793915, Accuracy = 78.383706%\n",
      "Validation Epoch 12: Loss = 1.1750470399856567, Accuracy = 80.919540%\n",
      "Training Epoch 13: Loss = 3.7847458124160767, Accuracy = 77.398160%\n",
      "Validation Epoch 13: Loss = 1.2954041957855225, Accuracy = 78.390805%\n",
      "Training Epoch 14: Loss = 3.742921680212021, Accuracy = 77.003942%\n",
      "Validation Epoch 14: Loss = 1.1285628080368042, Accuracy = 81.609195%\n",
      "Training Epoch 15: Loss = 3.844761550426483, Accuracy = 75.361367%\n",
      "Validation Epoch 15: Loss = 1.1283262968063354, Accuracy = 79.770115%\n",
      "Training Epoch 16: Loss = 3.8950330913066864, Accuracy = 77.529566%\n",
      "Validation Epoch 16: Loss = 1.1548740863800049, Accuracy = 77.471264%\n",
      "Training Epoch 17: Loss = 3.78199702501297, Accuracy = 77.003942%\n",
      "Validation Epoch 17: Loss = 1.2072721719741821, Accuracy = 80.459770%\n",
      "Training Epoch 18: Loss = 3.746502697467804, Accuracy = 76.872536%\n",
      "Validation Epoch 18: Loss = 1.2677247524261475, Accuracy = 79.770115%\n",
      "Training Epoch 19: Loss = 3.654453009366989, Accuracy = 77.989488%\n",
      "Validation Epoch 19: Loss = 1.170495867729187, Accuracy = 79.770115%\n",
      "Batch 0: Accuracy = 83.000000%, Recall = 80.434783%, Precision = 82.222222%\n",
      "Batch 1: Accuracy = 84.615385%, Recall = 84.615385%, Precision = 100.000000%\n"
     ]
    },
    {
     "data": {
      "application/vnd.jupyter.widget-view+json": {
       "model_id": "c24379beebaf4eb3bc2f658e36030234",
       "version_major": 2,
       "version_minor": 0
      },
      "text/plain": [
       "VBox(children=(Label(value='0.001 MB of 0.001 MB uploaded\\r'), FloatProgress(value=1.0, max=1.0)))"
      ]
     },
     "metadata": {},
     "output_type": "display_data"
    },
    {
     "data": {
      "text/html": [
       "<style>\n",
       "    table.wandb td:nth-child(1) { padding: 0 10px; text-align: left ; width: auto;} td:nth-child(2) {text-align: left ; width: 100%}\n",
       "    .wandb-row { display: flex; flex-direction: row; flex-wrap: wrap; justify-content: flex-start; width: 100% }\n",
       "    .wandb-col { display: flex; flex-direction: column; flex-basis: 100%; flex: 1; padding: 10px; }\n",
       "    </style>\n",
       "<div class=\"wandb-row\"><div class=\"wandb-col\"><h3>Run history:</h3><br/><table class=\"wandb\"><tr><td>test/accuracy</td><td>▁</td></tr><tr><td>train/accuracy</td><td>▁▄▆▇▇▇▇▇▇▇█▇███▇████</td></tr><tr><td>train/loss</td><td>█▁▁▁▁▁▁▁▁▁▁▁▁▁▁▁▁▁▁▁</td></tr><tr><td>validation/accuracy</td><td>▁▆█▇▇█▇▇▇▇▆▇█▇█▇▆█▇▇</td></tr><tr><td>validation/loss</td><td>█▃▂▃▂▃▃▅▃▃▁▂▂▄▁▁▂▃▄▂</td></tr></table><br/></div><div class=\"wandb-col\"><h3>Run summary:</h3><br/><table class=\"wandb\"><tr><td>test/accuracy</td><td>0.83099</td></tr><tr><td>train/accuracy</td><td>0.77989</td></tr><tr><td>train/loss</td><td>3.65445</td></tr><tr><td>validation/accuracy</td><td>0.7977</td></tr><tr><td>validation/loss</td><td>1.1705</td></tr></table><br/></div></div>"
      ],
      "text/plain": [
       "<IPython.core.display.HTML object>"
      ]
     },
     "metadata": {},
     "output_type": "display_data"
    },
    {
     "data": {
      "text/html": [
       " View run <strong style=\"color:#cdcd00\">mild-snowball-5</strong> at: <a href='https://wandb.ai/shenderm/densenet121-sc2000/runs/voucyrdv' target=\"_blank\">https://wandb.ai/shenderm/densenet121-sc2000/runs/voucyrdv</a><br/> View project at: <a href='https://wandb.ai/shenderm/densenet121-sc2000' target=\"_blank\">https://wandb.ai/shenderm/densenet121-sc2000</a><br/>Synced 6 W&B file(s), 0 media file(s), 0 artifact file(s) and 0 other file(s)"
      ],
      "text/plain": [
       "<IPython.core.display.HTML object>"
      ]
     },
     "metadata": {},
     "output_type": "display_data"
    },
    {
     "data": {
      "text/html": [
       "Find logs at: <code>./wandb/run-20240604_132507-voucyrdv/logs</code>"
      ],
      "text/plain": [
       "<IPython.core.display.HTML object>"
      ]
     },
     "metadata": {},
     "output_type": "display_data"
    },
    {
     "data": {
      "image/png": "[encoded data removed]",
      "text/plain": [
       "<Figure size 640x480 with 2 Axes>"
      ]
     },
     "metadata": {},
     "output_type": "display_data"
    }
   ],
   "source": [
    "model_pipeline('densenet121-sc2000', config_dict)"
   ]
  },
  {
   "cell_type": "markdown",
   "metadata": {},
   "source": [
    "# Sweep"
   ]
  },
  {
   "cell_type": "markdown",
   "metadata": {},
   "source": [
    "**[To Create a New Sweep](https://docs.wandb.ai/ref/cli/wandb-sweep)**\n",
    "\n",
    "``wandb sweep -p projectname sweep_configs/config.yaml``"
   ]
  },
  {
   "cell_type": "code",
   "execution_count": null,
   "metadata": {},
   "outputs": [],
   "source": [
    "def sweep_pipeline(config=None):\n",
    "    with wandb.init(config=config):\n",
    "        config = wandb.config\n",
    "\n",
    "        model, feat_extractor, train_loader, valid_loader, test_loader, criterion, optimizer = make(config)\n",
    "\n",
    "        # and use them to train the model\n",
    "        train(model, feat_extractor, train_loader, valid_loader, criterion, optimizer, config)\n",
    "\n",
    "        # and test its final performance\n",
    "        test(model, feat_extractor, test_loader, config)\n",
    "\n",
    "    return model"
   ]
  },
  {
   "cell_type": "markdown",
   "metadata": {},
   "source": [
    "Replace with the desired sweep and project"
   ]
  },
  {
   "cell_type": "code",
   "execution_count": null,
   "metadata": {},
   "outputs": [],
   "source": [
    "sweep_id = 'your-id-here'\n",
    "project = 'resnet50d-sc2000'"
   ]
  },
  {
   "cell_type": "code",
   "execution_count": null,
   "metadata": {},
   "outputs": [],
   "source": [
    "wandb.agent(sweep_id, sweep_pipeline, count=12, project=project)\n",
    "wandb.teardown()"
   ]
  }
 ],
 "metadata": {
  "kernelspec": {
   "display_name": "dermlens",
   "language": "python",
   "name": "python3"
  },
  "language_info": {
   "codemirror_mode": {
    "name": "ipython",
    "version": 3
   },
   "file_extension": ".py",
   "mimetype": "text/x-python",
   "name": "python",
   "nbconvert_exporter": "python",
   "pygments_lexer": "ipython3",
   "version": "3.12.3"
  }
 },
 "nbformat": 4,
 "nbformat_minor": 2
}
